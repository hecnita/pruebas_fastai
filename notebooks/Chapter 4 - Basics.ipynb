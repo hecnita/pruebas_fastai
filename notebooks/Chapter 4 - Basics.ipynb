{
 "cells": [
  {
   "cell_type": "code",
   "execution_count": 2,
   "metadata": {
    "colab": {
     "base_uri": "https://localhost:8080/"
    },
    "executionInfo": {
     "elapsed": 5156,
     "status": "ok",
     "timestamp": 1641237766217,
     "user": {
      "displayName": "Héctor",
      "photoUrl": "https://lh3.googleusercontent.com/a/default-user=s64",
      "userId": "16824592100163285665"
     },
     "user_tz": -60
    },
    "id": "6IX9-U6X984m",
    "outputId": "05b3188a-7ad7-4816-cc34-7323fc671f65"
   },
   "outputs": [
    {
     "name": "stdout",
     "output_type": "stream",
     "text": [
      "Collecting fastai==2.0\n",
      "  Downloading fastai-2.0.0-py3-none-any.whl (350 kB)\n",
      "\u001b[?25l\r",
      "\u001b[K     |█                               | 10 kB 20.3 MB/s eta 0:00:01\r",
      "\u001b[K     |█▉                              | 20 kB 10.2 MB/s eta 0:00:01\r",
      "\u001b[K     |██▉                             | 30 kB 8.3 MB/s eta 0:00:01\r",
      "\u001b[K     |███▊                            | 40 kB 7.4 MB/s eta 0:00:01\r",
      "\u001b[K     |████▊                           | 51 kB 4.3 MB/s eta 0:00:01\r",
      "\u001b[K     |█████▋                          | 61 kB 4.5 MB/s eta 0:00:01\r",
      "\u001b[K     |██████▌                         | 71 kB 4.4 MB/s eta 0:00:01\r",
      "\u001b[K     |███████▌                        | 81 kB 4.9 MB/s eta 0:00:01\r",
      "\u001b[K     |████████▍                       | 92 kB 5.2 MB/s eta 0:00:01\r",
      "\u001b[K     |█████████▍                      | 102 kB 4.4 MB/s eta 0:00:01\r",
      "\u001b[K     |██████████▎                     | 112 kB 4.4 MB/s eta 0:00:01\r",
      "\u001b[K     |███████████▏                    | 122 kB 4.4 MB/s eta 0:00:01\r",
      "\u001b[K     |████████████▏                   | 133 kB 4.4 MB/s eta 0:00:01\r",
      "\u001b[K     |█████████████                   | 143 kB 4.4 MB/s eta 0:00:01\r",
      "\u001b[K     |██████████████                  | 153 kB 4.4 MB/s eta 0:00:01\r",
      "\u001b[K     |███████████████                 | 163 kB 4.4 MB/s eta 0:00:01\r",
      "\u001b[K     |███████████████▉                | 174 kB 4.4 MB/s eta 0:00:01\r",
      "\u001b[K     |████████████████▉               | 184 kB 4.4 MB/s eta 0:00:01\r",
      "\u001b[K     |█████████████████▊              | 194 kB 4.4 MB/s eta 0:00:01\r",
      "\u001b[K     |██████████████████▊             | 204 kB 4.4 MB/s eta 0:00:01\r",
      "\u001b[K     |███████████████████▋            | 215 kB 4.4 MB/s eta 0:00:01\r",
      "\u001b[K     |████████████████████▌           | 225 kB 4.4 MB/s eta 0:00:01\r",
      "\u001b[K     |█████████████████████▌          | 235 kB 4.4 MB/s eta 0:00:01\r",
      "\u001b[K     |██████████████████████▍         | 245 kB 4.4 MB/s eta 0:00:01\r",
      "\u001b[K     |███████████████████████▍        | 256 kB 4.4 MB/s eta 0:00:01\r",
      "\u001b[K     |████████████████████████▎       | 266 kB 4.4 MB/s eta 0:00:01\r",
      "\u001b[K     |█████████████████████████▏      | 276 kB 4.4 MB/s eta 0:00:01\r",
      "\u001b[K     |██████████████████████████▏     | 286 kB 4.4 MB/s eta 0:00:01\r",
      "\u001b[K     |███████████████████████████     | 296 kB 4.4 MB/s eta 0:00:01\r",
      "\u001b[K     |████████████████████████████    | 307 kB 4.4 MB/s eta 0:00:01\r",
      "\u001b[K     |█████████████████████████████   | 317 kB 4.4 MB/s eta 0:00:01\r",
      "\u001b[K     |██████████████████████████████  | 327 kB 4.4 MB/s eta 0:00:01\r",
      "\u001b[K     |██████████████████████████████▉ | 337 kB 4.4 MB/s eta 0:00:01\r",
      "\u001b[K     |███████████████████████████████▊| 348 kB 4.4 MB/s eta 0:00:01\r",
      "\u001b[K     |████████████████████████████████| 350 kB 4.4 MB/s \n",
      "\u001b[?25hRequirement already satisfied: pyyaml in /usr/local/lib/python3.7/dist-packages (from fastai==2.0) (3.13)\n",
      "Collecting fastcore>=1.0.0\n",
      "  Downloading fastcore-1.3.27-py3-none-any.whl (56 kB)\n",
      "\u001b[K     |████████████████████████████████| 56 kB 4.5 MB/s \n",
      "\u001b[?25hRequirement already satisfied: scipy in /usr/local/lib/python3.7/dist-packages (from fastai==2.0) (1.4.1)\n",
      "Requirement already satisfied: torchvision>=0.7 in /usr/local/lib/python3.7/dist-packages (from fastai==2.0) (0.11.1+cu111)\n",
      "Requirement already satisfied: pillow in /usr/local/lib/python3.7/dist-packages (from fastai==2.0) (7.1.2)\n",
      "Requirement already satisfied: requests in /usr/local/lib/python3.7/dist-packages (from fastai==2.0) (2.23.0)\n",
      "Requirement already satisfied: torch>=1.6.0 in /usr/local/lib/python3.7/dist-packages (from fastai==2.0) (1.10.0+cu111)\n",
      "Requirement already satisfied: pip in /usr/local/lib/python3.7/dist-packages (from fastai==2.0) (21.1.3)\n",
      "Requirement already satisfied: spacy in /usr/local/lib/python3.7/dist-packages (from fastai==2.0) (2.2.4)\n",
      "Requirement already satisfied: packaging in /usr/local/lib/python3.7/dist-packages (from fastai==2.0) (21.3)\n",
      "Requirement already satisfied: pandas in /usr/local/lib/python3.7/dist-packages (from fastai==2.0) (1.1.5)\n",
      "Requirement already satisfied: fastprogress>=0.2.4 in /usr/local/lib/python3.7/dist-packages (from fastai==2.0) (1.0.0)\n",
      "Requirement already satisfied: scikit-learn in /usr/local/lib/python3.7/dist-packages (from fastai==2.0) (1.0.1)\n",
      "Requirement already satisfied: matplotlib in /usr/local/lib/python3.7/dist-packages (from fastai==2.0) (3.2.2)\n",
      "Requirement already satisfied: numpy in /usr/local/lib/python3.7/dist-packages (from fastprogress>=0.2.4->fastai==2.0) (1.19.5)\n",
      "Requirement already satisfied: typing-extensions in /usr/local/lib/python3.7/dist-packages (from torch>=1.6.0->fastai==2.0) (3.10.0.2)\n",
      "Requirement already satisfied: cycler>=0.10 in /usr/local/lib/python3.7/dist-packages (from matplotlib->fastai==2.0) (0.11.0)\n",
      "Requirement already satisfied: python-dateutil>=2.1 in /usr/local/lib/python3.7/dist-packages (from matplotlib->fastai==2.0) (2.8.2)\n",
      "Requirement already satisfied: kiwisolver>=1.0.1 in /usr/local/lib/python3.7/dist-packages (from matplotlib->fastai==2.0) (1.3.2)\n",
      "Requirement already satisfied: pyparsing!=2.0.4,!=2.1.2,!=2.1.6,>=2.0.1 in /usr/local/lib/python3.7/dist-packages (from matplotlib->fastai==2.0) (3.0.6)\n",
      "Requirement already satisfied: six>=1.5 in /usr/local/lib/python3.7/dist-packages (from python-dateutil>=2.1->matplotlib->fastai==2.0) (1.15.0)\n",
      "Requirement already satisfied: pytz>=2017.2 in /usr/local/lib/python3.7/dist-packages (from pandas->fastai==2.0) (2018.9)\n",
      "Requirement already satisfied: urllib3!=1.25.0,!=1.25.1,<1.26,>=1.21.1 in /usr/local/lib/python3.7/dist-packages (from requests->fastai==2.0) (1.24.3)\n",
      "Requirement already satisfied: chardet<4,>=3.0.2 in /usr/local/lib/python3.7/dist-packages (from requests->fastai==2.0) (3.0.4)\n",
      "Requirement already satisfied: idna<3,>=2.5 in /usr/local/lib/python3.7/dist-packages (from requests->fastai==2.0) (2.10)\n",
      "Requirement already satisfied: certifi>=2017.4.17 in /usr/local/lib/python3.7/dist-packages (from requests->fastai==2.0) (2021.10.8)\n",
      "Requirement already satisfied: threadpoolctl>=2.0.0 in /usr/local/lib/python3.7/dist-packages (from scikit-learn->fastai==2.0) (3.0.0)\n",
      "Requirement already satisfied: joblib>=0.11 in /usr/local/lib/python3.7/dist-packages (from scikit-learn->fastai==2.0) (1.1.0)\n",
      "Requirement already satisfied: blis<0.5.0,>=0.4.0 in /usr/local/lib/python3.7/dist-packages (from spacy->fastai==2.0) (0.4.1)\n",
      "Requirement already satisfied: srsly<1.1.0,>=1.0.2 in /usr/local/lib/python3.7/dist-packages (from spacy->fastai==2.0) (1.0.5)\n",
      "Requirement already satisfied: catalogue<1.1.0,>=0.0.7 in /usr/local/lib/python3.7/dist-packages (from spacy->fastai==2.0) (1.0.0)\n",
      "Requirement already satisfied: cymem<2.1.0,>=2.0.2 in /usr/local/lib/python3.7/dist-packages (from spacy->fastai==2.0) (2.0.6)\n",
      "Requirement already satisfied: tqdm<5.0.0,>=4.38.0 in /usr/local/lib/python3.7/dist-packages (from spacy->fastai==2.0) (4.62.3)\n",
      "Requirement already satisfied: wasabi<1.1.0,>=0.4.0 in /usr/local/lib/python3.7/dist-packages (from spacy->fastai==2.0) (0.8.2)\n",
      "Requirement already satisfied: preshed<3.1.0,>=3.0.2 in /usr/local/lib/python3.7/dist-packages (from spacy->fastai==2.0) (3.0.6)\n",
      "Requirement already satisfied: plac<1.2.0,>=0.9.6 in /usr/local/lib/python3.7/dist-packages (from spacy->fastai==2.0) (1.1.3)\n",
      "Requirement already satisfied: setuptools in /usr/local/lib/python3.7/dist-packages (from spacy->fastai==2.0) (57.4.0)\n",
      "Requirement already satisfied: thinc==7.4.0 in /usr/local/lib/python3.7/dist-packages (from spacy->fastai==2.0) (7.4.0)\n",
      "Requirement already satisfied: murmurhash<1.1.0,>=0.28.0 in /usr/local/lib/python3.7/dist-packages (from spacy->fastai==2.0) (1.0.6)\n",
      "Requirement already satisfied: importlib-metadata>=0.20 in /usr/local/lib/python3.7/dist-packages (from catalogue<1.1.0,>=0.0.7->spacy->fastai==2.0) (4.8.2)\n",
      "Requirement already satisfied: zipp>=0.5 in /usr/local/lib/python3.7/dist-packages (from importlib-metadata>=0.20->catalogue<1.1.0,>=0.0.7->spacy->fastai==2.0) (3.6.0)\n",
      "Installing collected packages: fastcore, fastai\n",
      "  Attempting uninstall: fastai\n",
      "    Found existing installation: fastai 1.0.61\n",
      "    Uninstalling fastai-1.0.61:\n",
      "      Successfully uninstalled fastai-1.0.61\n",
      "Successfully installed fastai-2.0.0 fastcore-1.3.27\n"
     ]
    }
   ],
   "source": [
    "!pip install fastai==2.0"
   ]
  },
  {
   "cell_type": "code",
   "execution_count": 3,
   "metadata": {
    "colab": {
     "base_uri": "https://localhost:8080/"
    },
    "executionInfo": {
     "elapsed": 3522,
     "status": "ok",
     "timestamp": 1641237780006,
     "user": {
      "displayName": "Héctor",
      "photoUrl": "https://lh3.googleusercontent.com/a/default-user=s64",
      "userId": "16824592100163285665"
     },
     "user_tz": -60
    },
    "id": "XgHB-CEy9WKH",
    "outputId": "7643f858-3521-422a-e398-69ba4712ac01"
   },
   "outputs": [
    {
     "name": "stdout",
     "output_type": "stream",
     "text": [
      "\u001b[?25l\r",
      "\u001b[K     |█▊                              | 10 kB 19.6 MB/s eta 0:00:01\r",
      "\u001b[K     |███▌                            | 20 kB 10.5 MB/s eta 0:00:01\r",
      "\u001b[K     |█████▏                          | 30 kB 8.4 MB/s eta 0:00:01\r",
      "\u001b[K     |███████                         | 40 kB 7.7 MB/s eta 0:00:01\r",
      "\u001b[K     |████████▋                       | 51 kB 4.2 MB/s eta 0:00:01\r",
      "\u001b[K     |██████████▍                     | 61 kB 4.4 MB/s eta 0:00:01\r",
      "\u001b[K     |████████████                    | 71 kB 4.7 MB/s eta 0:00:01\r",
      "\u001b[K     |█████████████▉                  | 81 kB 5.2 MB/s eta 0:00:01\r",
      "\u001b[K     |███████████████▋                | 92 kB 5.3 MB/s eta 0:00:01\r",
      "\u001b[K     |█████████████████▎              | 102 kB 4.4 MB/s eta 0:00:01\r",
      "\u001b[K     |███████████████████             | 112 kB 4.4 MB/s eta 0:00:01\r",
      "\u001b[K     |████████████████████▊           | 122 kB 4.4 MB/s eta 0:00:01\r",
      "\u001b[K     |██████████████████████▌         | 133 kB 4.4 MB/s eta 0:00:01\r",
      "\u001b[K     |████████████████████████▏       | 143 kB 4.4 MB/s eta 0:00:01\r",
      "\u001b[K     |██████████████████████████      | 153 kB 4.4 MB/s eta 0:00:01\r",
      "\u001b[K     |███████████████████████████▊    | 163 kB 4.4 MB/s eta 0:00:01\r",
      "\u001b[K     |█████████████████████████████▍  | 174 kB 4.4 MB/s eta 0:00:01\r",
      "\u001b[K     |███████████████████████████████▏| 184 kB 4.4 MB/s eta 0:00:01\r",
      "\u001b[K     |████████████████████████████████| 189 kB 4.4 MB/s \n",
      "\u001b[?25h"
     ]
    }
   ],
   "source": [
    "!pip install fastai --upgrade -q"
   ]
  },
  {
   "cell_type": "code",
   "execution_count": null,
   "metadata": {
    "colab": {
     "base_uri": "https://localhost:8080/"
    },
    "executionInfo": {
     "elapsed": 3610,
     "status": "ok",
     "timestamp": 1640948907718,
     "user": {
      "displayName": "Héctor",
      "photoUrl": "https://lh3.googleusercontent.com/a/default-user=s64",
      "userId": "16824592100163285665"
     },
     "user_tz": -60
    },
    "id": "GtRynNqXK9zc",
    "outputId": "96a23a98-868d-44b6-ad11-9ff86d4131c3"
   },
   "outputs": [
    {
     "name": "stdout",
     "output_type": "stream",
     "text": [
      "Collecting fastcore\n",
      "  Downloading fastcore-1.3.27-py3-none-any.whl (56 kB)\n",
      "\u001b[?25l\r",
      "\u001b[K     |█████▊                          | 10 kB 17.8 MB/s eta 0:00:01\r",
      "\u001b[K     |███████████▌                    | 20 kB 11.2 MB/s eta 0:00:01\r",
      "\u001b[K     |█████████████████▎              | 30 kB 9.1 MB/s eta 0:00:01\r",
      "\u001b[K     |███████████████████████         | 40 kB 8.5 MB/s eta 0:00:01\r",
      "\u001b[K     |████████████████████████████▉   | 51 kB 5.6 MB/s eta 0:00:01\r",
      "\u001b[K     |████████████████████████████████| 56 kB 2.7 MB/s \n",
      "\u001b[?25hRequirement already satisfied: pip in /usr/local/lib/python3.7/dist-packages (from fastcore) (21.1.3)\n",
      "Requirement already satisfied: packaging in /usr/local/lib/python3.7/dist-packages (from fastcore) (21.3)\n",
      "Requirement already satisfied: pyparsing!=3.0.5,>=2.0.2 in /usr/local/lib/python3.7/dist-packages (from packaging->fastcore) (3.0.6)\n",
      "Installing collected packages: fastcore\n",
      "Successfully installed fastcore-1.3.27\n"
     ]
    }
   ],
   "source": [
    "!pip install fastcore"
   ]
  },
  {
   "cell_type": "code",
   "execution_count": null,
   "metadata": {
    "colab": {
     "base_uri": "https://localhost:8080/"
    },
    "executionInfo": {
     "elapsed": 2792,
     "status": "ok",
     "timestamp": 1640948928061,
     "user": {
      "displayName": "Héctor",
      "photoUrl": "https://lh3.googleusercontent.com/a/default-user=s64",
      "userId": "16824592100163285665"
     },
     "user_tz": -60
    },
    "id": "J_ZwQPzsLV7b",
    "outputId": "8e2921a3-ef22-488c-876b-b1288c1981a3"
   },
   "outputs": [
    {
     "name": "stdout",
     "output_type": "stream",
     "text": [
      "Name: fastcore\n",
      "Version: 1.3.27\n",
      "Summary: Python supercharged for fastai development\n",
      "Home-page: https://github.com/fastai/fastcore/tree/master/\n",
      "Author: Jeremy Howard and Sylvain Gugger\n",
      "Author-email: infos@fast.ai\n",
      "License: Apache Software License 2.0\n",
      "Location: /usr/local/lib/python3.7/dist-packages\n",
      "Requires: packaging, pip\n",
      "Required-by: \n"
     ]
    }
   ],
   "source": [
    "!pip show fastcore"
   ]
  },
  {
   "cell_type": "code",
   "execution_count": 5,
   "metadata": {
    "executionInfo": {
     "elapsed": 8297,
     "status": "ok",
     "timestamp": 1641237899800,
     "user": {
      "displayName": "Héctor",
      "photoUrl": "https://lh3.googleusercontent.com/a/default-user=s64",
      "userId": "16824592100163285665"
     },
     "user_tz": -60
    },
    "id": "auzRmVB67jPs"
   },
   "outputs": [],
   "source": [
    "from fastai.vision.all import *"
   ]
  },
  {
   "cell_type": "code",
   "execution_count": null,
   "metadata": {
    "colab": {
     "base_uri": "https://localhost:8080/",
     "height": 37
    },
    "executionInfo": {
     "elapsed": 5309,
     "status": "ok",
     "timestamp": 1641123874825,
     "user": {
      "displayName": "Héctor",
      "photoUrl": "https://lh3.googleusercontent.com/a/default-user=s64",
      "userId": "16824592100163285665"
     },
     "user_tz": -60
    },
    "id": "ZrQl7tz46ung",
    "outputId": "66e7e22b-a943-49de-81c0-6ca29044322b"
   },
   "outputs": [
    {
     "data": {
      "text/html": [
       "\n",
       "    <div>\n",
       "        <style>\n",
       "            /* Turns off some styling */\n",
       "            progress {\n",
       "                /* gets rid of default border in Firefox and Opera. */\n",
       "                border: none;\n",
       "                /* Needs to be in here for Safari polyfill so background images work as expected. */\n",
       "                background-size: auto;\n",
       "            }\n",
       "            .progress-bar-interrupted, .progress-bar-interrupted::-webkit-progress-bar {\n",
       "                background: #F44336;\n",
       "            }\n",
       "        </style>\n",
       "      <progress value='3219456' class='' max='3214948' style='width:300px; height:20px; vertical-align: middle;'></progress>\n",
       "      100.14% [3219456/3214948 00:00<00:00]\n",
       "    </div>\n",
       "    "
      ],
      "text/plain": [
       "<IPython.core.display.HTML object>"
      ]
     },
     "metadata": {},
     "output_type": "display_data"
    }
   ],
   "source": [
    "path = untar_data(URLs.MNIST_SAMPLE)"
   ]
  },
  {
   "cell_type": "code",
   "execution_count": null,
   "metadata": {
    "colab": {
     "base_uri": "https://localhost:8080/"
    },
    "executionInfo": {
     "elapsed": 294,
     "status": "ok",
     "timestamp": 1641123896090,
     "user": {
      "displayName": "Héctor",
      "photoUrl": "https://lh3.googleusercontent.com/a/default-user=s64",
      "userId": "16824592100163285665"
     },
     "user_tz": -60
    },
    "id": "7se_f8iF70Nj",
    "outputId": "d464f37b-0925-42d4-d4df-f88b1ce476a1"
   },
   "outputs": [
    {
     "data": {
      "text/plain": [
       "(#3) [Path('/root/.fastai/data/mnist_sample/valid'),Path('/root/.fastai/data/mnist_sample/train'),Path('/root/.fastai/data/mnist_sample/labels.csv')]"
      ]
     },
     "execution_count": 4,
     "metadata": {},
     "output_type": "execute_result"
    }
   ],
   "source": [
    "path.ls()"
   ]
  },
  {
   "cell_type": "code",
   "execution_count": null,
   "metadata": {
    "colab": {
     "base_uri": "https://localhost:8080/"
    },
    "executionInfo": {
     "elapsed": 547,
     "status": "ok",
     "timestamp": 1639305020816,
     "user": {
      "displayName": "Héctor",
      "photoUrl": "https://lh3.googleusercontent.com/a/default-user=s64",
      "userId": "16824592100163285665"
     },
     "user_tz": -60
    },
    "id": "BdvegsFs8qp8",
    "outputId": "ff87825b-2e4e-41dc-ed3d-45f29478b202"
   },
   "outputs": [
    {
     "data": {
      "text/plain": [
       "(#2) [Path('/root/.fastai/data/mnist_sample/train/7'),Path('/root/.fastai/data/mnist_sample/train/3')]"
      ]
     },
     "execution_count": 6,
     "metadata": {},
     "output_type": "execute_result"
    }
   ],
   "source": [
    "(path/'train').ls()"
   ]
  },
  {
   "cell_type": "code",
   "execution_count": null,
   "metadata": {
    "colab": {
     "base_uri": "https://localhost:8080/"
    },
    "executionInfo": {
     "elapsed": 315,
     "status": "ok",
     "timestamp": 1641125302214,
     "user": {
      "displayName": "Héctor",
      "photoUrl": "https://lh3.googleusercontent.com/a/default-user=s64",
      "userId": "16824592100163285665"
     },
     "user_tz": -60
    },
    "id": "E6plO15j-3sZ",
    "outputId": "06408c37-8a5a-4b02-a8f2-7e4bb63db5b0"
   },
   "outputs": [
    {
     "data": {
      "text/plain": [
       "(#6131) [Path('/root/.fastai/data/mnist_sample/train/3/10.png'),Path('/root/.fastai/data/mnist_sample/train/3/10000.png'),Path('/root/.fastai/data/mnist_sample/train/3/10011.png'),Path('/root/.fastai/data/mnist_sample/train/3/10031.png'),Path('/root/.fastai/data/mnist_sample/train/3/10034.png'),Path('/root/.fastai/data/mnist_sample/train/3/10042.png'),Path('/root/.fastai/data/mnist_sample/train/3/10052.png'),Path('/root/.fastai/data/mnist_sample/train/3/1007.png'),Path('/root/.fastai/data/mnist_sample/train/3/10074.png'),Path('/root/.fastai/data/mnist_sample/train/3/10091.png')...]"
      ]
     },
     "execution_count": 34,
     "metadata": {},
     "output_type": "execute_result"
    }
   ],
   "source": [
    "threes = (path/'train'/'3').ls().sorted()\n",
    "sevens = (path/'train'/'7').ls().sorted()\n",
    "threes"
   ]
  },
  {
   "cell_type": "code",
   "execution_count": null,
   "metadata": {
    "colab": {
     "base_uri": "https://localhost:8080/",
     "height": 45
    },
    "executionInfo": {
     "elapsed": 279,
     "status": "ok",
     "timestamp": 1639217841456,
     "user": {
      "displayName": "Héctor",
      "photoUrl": "https://lh3.googleusercontent.com/a/default-user=s64",
      "userId": "16824592100163285665"
     },
     "user_tz": -60
    },
    "id": "unmtkNRf_eAC",
    "outputId": "11bfdfa6-5263-41eb-f1a2-9a2013f6a2cc"
   },
   "outputs": [
    {
     "data": {
      "image/png": "[encoded data removed]",
      "text/plain": [
       "<PIL.PngImagePlugin.PngImageFile image mode=L size=28x28 at 0x7FBD56E83C10>"
      ]
     },
     "execution_count": 21,
     "metadata": {},
     "output_type": "execute_result"
    }
   ],
   "source": [
    "im3_path = threes[1]\n",
    "im3 = Image.open(im3_path)\n",
    "im3"
   ]
  },
  {
   "cell_type": "code",
   "execution_count": null,
   "metadata": {
    "colab": {
     "base_uri": "https://localhost:8080/"
    },
    "executionInfo": {
     "elapsed": 318,
     "status": "ok",
     "timestamp": 1639217962813,
     "user": {
      "displayName": "Héctor",
      "photoUrl": "https://lh3.googleusercontent.com/a/default-user=s64",
      "userId": "16824592100163285665"
     },
     "user_tz": -60
    },
    "id": "v6gQ3vKD_sVC",
    "outputId": "65578f15-777a-4ca3-86a3-fd304b2ddad4"
   },
   "outputs": [
    {
     "data": {
      "text/plain": [
       "array([[  0,   0,   0,   0,   0,   0],\n",
       "       [  0,   0,   0,   0,   0,  29],\n",
       "       [  0,   0,   0,  48, 166, 224],\n",
       "       [  0,  93, 244, 249, 253, 187],\n",
       "       [  0, 107, 253, 253, 230,  48],\n",
       "       [  0,   3,  20,  20,  15,   0]], dtype=uint8)"
      ]
     },
     "execution_count": 23,
     "metadata": {},
     "output_type": "execute_result"
    }
   ],
   "source": [
    "array(im3)[4:10, 4:10]"
   ]
  },
  {
   "cell_type": "code",
   "execution_count": null,
   "metadata": {
    "colab": {
     "base_uri": "https://localhost:8080/"
    },
    "executionInfo": {
     "elapsed": 252,
     "status": "ok",
     "timestamp": 1639218016116,
     "user": {
      "displayName": "Héctor",
      "photoUrl": "https://lh3.googleusercontent.com/a/default-user=s64",
      "userId": "16824592100163285665"
     },
     "user_tz": -60
    },
    "id": "C4OCHaTr_sfT",
    "outputId": "60b43c3a-7e91-446b-d2b1-208f53638e9c"
   },
   "outputs": [
    {
     "data": {
      "text/plain": [
       "tensor([[  0,   0,   0,   0,   0,   0],\n",
       "        [  0,   0,   0,   0,   0,  29],\n",
       "        [  0,   0,   0,  48, 166, 224],\n",
       "        [  0,  93, 244, 249, 253, 187],\n",
       "        [  0, 107, 253, 253, 230,  48],\n",
       "        [  0,   3,  20,  20,  15,   0]], dtype=torch.uint8)"
      ]
     },
     "execution_count": 24,
     "metadata": {},
     "output_type": "execute_result"
    }
   ],
   "source": [
    "tensor(im3)[4:10,4:10]"
   ]
  },
  {
   "cell_type": "code",
   "execution_count": null,
   "metadata": {
    "colab": {
     "base_uri": "https://localhost:8080/",
     "height": 388
    },
    "executionInfo": {
     "elapsed": 351,
     "status": "ok",
     "timestamp": 1639218164680,
     "user": {
      "displayName": "Héctor",
      "photoUrl": "https://lh3.googleusercontent.com/a/default-user=s64",
      "userId": "16824592100163285665"
     },
     "user_tz": -60
    },
    "id": "kzQIagnhAe0K",
    "outputId": "075126b4-c916-423e-ccb3-ed9854149926"
   },
   "outputs": [
    {
     "data": {
      "text/html": [
       "<div>\n",
       "<style scoped>\n",
       "    .dataframe tbody tr th:only-of-type {\n",
       "        vertical-align: middle;\n",
       "    }\n",
       "\n",
       "    .dataframe tbody tr th {\n",
       "        vertical-align: top;\n",
       "    }\n",
       "\n",
       "    .dataframe thead th {\n",
       "        text-align: right;\n",
       "    }\n",
       "</style>\n",
       "<table border=\"1\" class=\"dataframe\">\n",
       "  <thead>\n",
       "    <tr style=\"text-align: right;\">\n",
       "      <th></th>\n",
       "      <th>0</th>\n",
       "      <th>1</th>\n",
       "      <th>2</th>\n",
       "      <th>3</th>\n",
       "      <th>4</th>\n",
       "      <th>5</th>\n",
       "      <th>6</th>\n",
       "      <th>7</th>\n",
       "      <th>8</th>\n",
       "      <th>9</th>\n",
       "      <th>10</th>\n",
       "      <th>11</th>\n",
       "      <th>12</th>\n",
       "      <th>13</th>\n",
       "      <th>14</th>\n",
       "      <th>15</th>\n",
       "      <th>16</th>\n",
       "      <th>17</th>\n",
       "    </tr>\n",
       "  </thead>\n",
       "  <tbody>\n",
       "    <tr>\n",
       "      <th>0</th>\n",
       "      <td>0</td>\n",
       "      <td>0</td>\n",
       "      <td>0</td>\n",
       "      <td>0</td>\n",
       "      <td>0</td>\n",
       "      <td>0</td>\n",
       "      <td>0</td>\n",
       "      <td>0</td>\n",
       "      <td>0</td>\n",
       "      <td>0</td>\n",
       "      <td>0</td>\n",
       "      <td>0</td>\n",
       "      <td>0</td>\n",
       "      <td>0</td>\n",
       "      <td>0</td>\n",
       "      <td>0</td>\n",
       "      <td>0</td>\n",
       "      <td>0</td>\n",
       "    </tr>\n",
       "    <tr>\n",
       "      <th>1</th>\n",
       "      <td>0</td>\n",
       "      <td>0</td>\n",
       "      <td>0</td>\n",
       "      <td>0</td>\n",
       "      <td>0</td>\n",
       "      <td>29</td>\n",
       "      <td>150</td>\n",
       "      <td>195</td>\n",
       "      <td>254</td>\n",
       "      <td>255</td>\n",
       "      <td>254</td>\n",
       "      <td>176</td>\n",
       "      <td>193</td>\n",
       "      <td>150</td>\n",
       "      <td>96</td>\n",
       "      <td>0</td>\n",
       "      <td>0</td>\n",
       "      <td>0</td>\n",
       "    </tr>\n",
       "    <tr>\n",
       "      <th>2</th>\n",
       "      <td>0</td>\n",
       "      <td>0</td>\n",
       "      <td>0</td>\n",
       "      <td>48</td>\n",
       "      <td>166</td>\n",
       "      <td>224</td>\n",
       "      <td>253</td>\n",
       "      <td>253</td>\n",
       "      <td>234</td>\n",
       "      <td>196</td>\n",
       "      <td>253</td>\n",
       "      <td>253</td>\n",
       "      <td>253</td>\n",
       "      <td>253</td>\n",
       "      <td>233</td>\n",
       "      <td>0</td>\n",
       "      <td>0</td>\n",
       "      <td>0</td>\n",
       "    </tr>\n",
       "    <tr>\n",
       "      <th>3</th>\n",
       "      <td>0</td>\n",
       "      <td>93</td>\n",
       "      <td>244</td>\n",
       "      <td>249</td>\n",
       "      <td>253</td>\n",
       "      <td>187</td>\n",
       "      <td>46</td>\n",
       "      <td>10</td>\n",
       "      <td>8</td>\n",
       "      <td>4</td>\n",
       "      <td>10</td>\n",
       "      <td>194</td>\n",
       "      <td>253</td>\n",
       "      <td>253</td>\n",
       "      <td>233</td>\n",
       "      <td>0</td>\n",
       "      <td>0</td>\n",
       "      <td>0</td>\n",
       "    </tr>\n",
       "    <tr>\n",
       "      <th>4</th>\n",
       "      <td>0</td>\n",
       "      <td>107</td>\n",
       "      <td>253</td>\n",
       "      <td>253</td>\n",
       "      <td>230</td>\n",
       "      <td>48</td>\n",
       "      <td>0</td>\n",
       "      <td>0</td>\n",
       "      <td>0</td>\n",
       "      <td>0</td>\n",
       "      <td>0</td>\n",
       "      <td>192</td>\n",
       "      <td>253</td>\n",
       "      <td>253</td>\n",
       "      <td>156</td>\n",
       "      <td>0</td>\n",
       "      <td>0</td>\n",
       "      <td>0</td>\n",
       "    </tr>\n",
       "    <tr>\n",
       "      <th>5</th>\n",
       "      <td>0</td>\n",
       "      <td>3</td>\n",
       "      <td>20</td>\n",
       "      <td>20</td>\n",
       "      <td>15</td>\n",
       "      <td>0</td>\n",
       "      <td>0</td>\n",
       "      <td>0</td>\n",
       "      <td>0</td>\n",
       "      <td>0</td>\n",
       "      <td>43</td>\n",
       "      <td>224</td>\n",
       "      <td>253</td>\n",
       "      <td>245</td>\n",
       "      <td>74</td>\n",
       "      <td>0</td>\n",
       "      <td>0</td>\n",
       "      <td>0</td>\n",
       "    </tr>\n",
       "    <tr>\n",
       "      <th>6</th>\n",
       "      <td>0</td>\n",
       "      <td>0</td>\n",
       "      <td>0</td>\n",
       "      <td>0</td>\n",
       "      <td>0</td>\n",
       "      <td>0</td>\n",
       "      <td>0</td>\n",
       "      <td>0</td>\n",
       "      <td>0</td>\n",
       "      <td>0</td>\n",
       "      <td>249</td>\n",
       "      <td>253</td>\n",
       "      <td>245</td>\n",
       "      <td>126</td>\n",
       "      <td>0</td>\n",
       "      <td>0</td>\n",
       "      <td>0</td>\n",
       "      <td>0</td>\n",
       "    </tr>\n",
       "    <tr>\n",
       "      <th>7</th>\n",
       "      <td>0</td>\n",
       "      <td>0</td>\n",
       "      <td>0</td>\n",
       "      <td>0</td>\n",
       "      <td>0</td>\n",
       "      <td>0</td>\n",
       "      <td>0</td>\n",
       "      <td>14</td>\n",
       "      <td>101</td>\n",
       "      <td>223</td>\n",
       "      <td>253</td>\n",
       "      <td>248</td>\n",
       "      <td>124</td>\n",
       "      <td>0</td>\n",
       "      <td>0</td>\n",
       "      <td>0</td>\n",
       "      <td>0</td>\n",
       "      <td>0</td>\n",
       "    </tr>\n",
       "    <tr>\n",
       "      <th>8</th>\n",
       "      <td>0</td>\n",
       "      <td>0</td>\n",
       "      <td>0</td>\n",
       "      <td>0</td>\n",
       "      <td>0</td>\n",
       "      <td>11</td>\n",
       "      <td>166</td>\n",
       "      <td>239</td>\n",
       "      <td>253</td>\n",
       "      <td>253</td>\n",
       "      <td>253</td>\n",
       "      <td>187</td>\n",
       "      <td>30</td>\n",
       "      <td>0</td>\n",
       "      <td>0</td>\n",
       "      <td>0</td>\n",
       "      <td>0</td>\n",
       "      <td>0</td>\n",
       "    </tr>\n",
       "    <tr>\n",
       "      <th>9</th>\n",
       "      <td>0</td>\n",
       "      <td>0</td>\n",
       "      <td>0</td>\n",
       "      <td>0</td>\n",
       "      <td>0</td>\n",
       "      <td>16</td>\n",
       "      <td>248</td>\n",
       "      <td>250</td>\n",
       "      <td>253</td>\n",
       "      <td>253</td>\n",
       "      <td>253</td>\n",
       "      <td>253</td>\n",
       "      <td>232</td>\n",
       "      <td>213</td>\n",
       "      <td>111</td>\n",
       "      <td>2</td>\n",
       "      <td>0</td>\n",
       "      <td>0</td>\n",
       "    </tr>\n",
       "    <tr>\n",
       "      <th>10</th>\n",
       "      <td>0</td>\n",
       "      <td>0</td>\n",
       "      <td>0</td>\n",
       "      <td>0</td>\n",
       "      <td>0</td>\n",
       "      <td>0</td>\n",
       "      <td>0</td>\n",
       "      <td>43</td>\n",
       "      <td>98</td>\n",
       "      <td>98</td>\n",
       "      <td>208</td>\n",
       "      <td>253</td>\n",
       "      <td>253</td>\n",
       "      <td>253</td>\n",
       "      <td>253</td>\n",
       "      <td>187</td>\n",
       "      <td>22</td>\n",
       "      <td>0</td>\n",
       "    </tr>\n",
       "  </tbody>\n",
       "</table>\n",
       "</div>"
      ],
      "text/plain": [
       "    0    1    2    3    4    5    6    7   ...   10   11   12   13   14   15  16  17\n",
       "0    0    0    0    0    0    0    0    0  ...    0    0    0    0    0    0   0   0\n",
       "1    0    0    0    0    0   29  150  195  ...  254  176  193  150   96    0   0   0\n",
       "2    0    0    0   48  166  224  253  253  ...  253  253  253  253  233    0   0   0\n",
       "3    0   93  244  249  253  187   46   10  ...   10  194  253  253  233    0   0   0\n",
       "4    0  107  253  253  230   48    0    0  ...    0  192  253  253  156    0   0   0\n",
       "5    0    3   20   20   15    0    0    0  ...   43  224  253  245   74    0   0   0\n",
       "6    0    0    0    0    0    0    0    0  ...  249  253  245  126    0    0   0   0\n",
       "7    0    0    0    0    0    0    0   14  ...  253  248  124    0    0    0   0   0\n",
       "8    0    0    0    0    0   11  166  239  ...  253  187   30    0    0    0   0   0\n",
       "9    0    0    0    0    0   16  248  250  ...  253  253  232  213  111    2   0   0\n",
       "10   0    0    0    0    0    0    0   43  ...  208  253  253  253  253  187  22   0\n",
       "\n",
       "[11 rows x 18 columns]"
      ]
     },
     "execution_count": 28,
     "metadata": {},
     "output_type": "execute_result"
    }
   ],
   "source": [
    "im3_t = tensor(im3)\n",
    "df = pd.DataFrame(im3_t[4:15,4:22])\n",
    "df"
   ]
  },
  {
   "cell_type": "code",
   "execution_count": null,
   "metadata": {
    "colab": {
     "base_uri": "https://localhost:8080/",
     "height": 388
    },
    "executionInfo": {
     "elapsed": 705,
     "status": "ok",
     "timestamp": 1639218257697,
     "user": {
      "displayName": "Héctor",
      "photoUrl": "https://lh3.googleusercontent.com/a/default-user=s64",
      "userId": "16824592100163285665"
     },
     "user_tz": -60
    },
    "id": "b5zIDB4QA6wi",
    "outputId": "7d5f2933-e4c0-4866-fb57-d59f7b7fd7bf"
   },
   "outputs": [
    {
     "data": {
      "text/html": [
       "<style  type=\"text/css\" >\n",
       "#T_70437928_5a6c_11ec_950f_0242ac1c0002row0_col0,#T_70437928_5a6c_11ec_950f_0242ac1c0002row0_col1,#T_70437928_5a6c_11ec_950f_0242ac1c0002row0_col2,#T_70437928_5a6c_11ec_950f_0242ac1c0002row0_col3,#T_70437928_5a6c_11ec_950f_0242ac1c0002row0_col4,#T_70437928_5a6c_11ec_950f_0242ac1c0002row0_col5,#T_70437928_5a6c_11ec_950f_0242ac1c0002row0_col6,#T_70437928_5a6c_11ec_950f_0242ac1c0002row0_col7,#T_70437928_5a6c_11ec_950f_0242ac1c0002row0_col8,#T_70437928_5a6c_11ec_950f_0242ac1c0002row0_col9,#T_70437928_5a6c_11ec_950f_0242ac1c0002row0_col10,#T_70437928_5a6c_11ec_950f_0242ac1c0002row0_col11,#T_70437928_5a6c_11ec_950f_0242ac1c0002row0_col12,#T_70437928_5a6c_11ec_950f_0242ac1c0002row0_col13,#T_70437928_5a6c_11ec_950f_0242ac1c0002row0_col14,#T_70437928_5a6c_11ec_950f_0242ac1c0002row0_col15,#T_70437928_5a6c_11ec_950f_0242ac1c0002row0_col16,#T_70437928_5a6c_11ec_950f_0242ac1c0002row0_col17,#T_70437928_5a6c_11ec_950f_0242ac1c0002row1_col0,#T_70437928_5a6c_11ec_950f_0242ac1c0002row1_col1,#T_70437928_5a6c_11ec_950f_0242ac1c0002row1_col2,#T_70437928_5a6c_11ec_950f_0242ac1c0002row1_col3,#T_70437928_5a6c_11ec_950f_0242ac1c0002row1_col4,#T_70437928_5a6c_11ec_950f_0242ac1c0002row1_col15,#T_70437928_5a6c_11ec_950f_0242ac1c0002row1_col16,#T_70437928_5a6c_11ec_950f_0242ac1c0002row1_col17,#T_70437928_5a6c_11ec_950f_0242ac1c0002row2_col0,#T_70437928_5a6c_11ec_950f_0242ac1c0002row2_col1,#T_70437928_5a6c_11ec_950f_0242ac1c0002row2_col2,#T_70437928_5a6c_11ec_950f_0242ac1c0002row2_col15,#T_70437928_5a6c_11ec_950f_0242ac1c0002row2_col16,#T_70437928_5a6c_11ec_950f_0242ac1c0002row2_col17,#T_70437928_5a6c_11ec_950f_0242ac1c0002row3_col0,#T_70437928_5a6c_11ec_950f_0242ac1c0002row3_col15,#T_70437928_5a6c_11ec_950f_0242ac1c0002row3_col16,#T_70437928_5a6c_11ec_950f_0242ac1c0002row3_col17,#T_70437928_5a6c_11ec_950f_0242ac1c0002row4_col0,#T_70437928_5a6c_11ec_950f_0242ac1c0002row4_col6,#T_70437928_5a6c_11ec_950f_0242ac1c0002row4_col7,#T_70437928_5a6c_11ec_950f_0242ac1c0002row4_col8,#T_70437928_5a6c_11ec_950f_0242ac1c0002row4_col9,#T_70437928_5a6c_11ec_950f_0242ac1c0002row4_col10,#T_70437928_5a6c_11ec_950f_0242ac1c0002row4_col15,#T_70437928_5a6c_11ec_950f_0242ac1c0002row4_col16,#T_70437928_5a6c_11ec_950f_0242ac1c0002row4_col17,#T_70437928_5a6c_11ec_950f_0242ac1c0002row5_col0,#T_70437928_5a6c_11ec_950f_0242ac1c0002row5_col5,#T_70437928_5a6c_11ec_950f_0242ac1c0002row5_col6,#T_70437928_5a6c_11ec_950f_0242ac1c0002row5_col7,#T_70437928_5a6c_11ec_950f_0242ac1c0002row5_col8,#T_70437928_5a6c_11ec_950f_0242ac1c0002row5_col9,#T_70437928_5a6c_11ec_950f_0242ac1c0002row5_col15,#T_70437928_5a6c_11ec_950f_0242ac1c0002row5_col16,#T_70437928_5a6c_11ec_950f_0242ac1c0002row5_col17,#T_70437928_5a6c_11ec_950f_0242ac1c0002row6_col0,#T_70437928_5a6c_11ec_950f_0242ac1c0002row6_col1,#T_70437928_5a6c_11ec_950f_0242ac1c0002row6_col2,#T_70437928_5a6c_11ec_950f_0242ac1c0002row6_col3,#T_70437928_5a6c_11ec_950f_0242ac1c0002row6_col4,#T_70437928_5a6c_11ec_950f_0242ac1c0002row6_col5,#T_70437928_5a6c_11ec_950f_0242ac1c0002row6_col6,#T_70437928_5a6c_11ec_950f_0242ac1c0002row6_col7,#T_70437928_5a6c_11ec_950f_0242ac1c0002row6_col8,#T_70437928_5a6c_11ec_950f_0242ac1c0002row6_col9,#T_70437928_5a6c_11ec_950f_0242ac1c0002row6_col14,#T_70437928_5a6c_11ec_950f_0242ac1c0002row6_col15,#T_70437928_5a6c_11ec_950f_0242ac1c0002row6_col16,#T_70437928_5a6c_11ec_950f_0242ac1c0002row6_col17,#T_70437928_5a6c_11ec_950f_0242ac1c0002row7_col0,#T_70437928_5a6c_11ec_950f_0242ac1c0002row7_col1,#T_70437928_5a6c_11ec_950f_0242ac1c0002row7_col2,#T_70437928_5a6c_11ec_950f_0242ac1c0002row7_col3,#T_70437928_5a6c_11ec_950f_0242ac1c0002row7_col4,#T_70437928_5a6c_11ec_950f_0242ac1c0002row7_col5,#T_70437928_5a6c_11ec_950f_0242ac1c0002row7_col6,#T_70437928_5a6c_11ec_950f_0242ac1c0002row7_col13,#T_70437928_5a6c_11ec_950f_0242ac1c0002row7_col14,#T_70437928_5a6c_11ec_950f_0242ac1c0002row7_col15,#T_70437928_5a6c_11ec_950f_0242ac1c0002row7_col16,#T_70437928_5a6c_11ec_950f_0242ac1c0002row7_col17,#T_70437928_5a6c_11ec_950f_0242ac1c0002row8_col0,#T_70437928_5a6c_11ec_950f_0242ac1c0002row8_col1,#T_70437928_5a6c_11ec_950f_0242ac1c0002row8_col2,#T_70437928_5a6c_11ec_950f_0242ac1c0002row8_col3,#T_70437928_5a6c_11ec_950f_0242ac1c0002row8_col4,#T_70437928_5a6c_11ec_950f_0242ac1c0002row8_col13,#T_70437928_5a6c_11ec_950f_0242ac1c0002row8_col14,#T_70437928_5a6c_11ec_950f_0242ac1c0002row8_col15,#T_70437928_5a6c_11ec_950f_0242ac1c0002row8_col16,#T_70437928_5a6c_11ec_950f_0242ac1c0002row8_col17,#T_70437928_5a6c_11ec_950f_0242ac1c0002row9_col0,#T_70437928_5a6c_11ec_950f_0242ac1c0002row9_col1,#T_70437928_5a6c_11ec_950f_0242ac1c0002row9_col2,#T_70437928_5a6c_11ec_950f_0242ac1c0002row9_col3,#T_70437928_5a6c_11ec_950f_0242ac1c0002row9_col4,#T_70437928_5a6c_11ec_950f_0242ac1c0002row9_col16,#T_70437928_5a6c_11ec_950f_0242ac1c0002row9_col17,#T_70437928_5a6c_11ec_950f_0242ac1c0002row10_col0,#T_70437928_5a6c_11ec_950f_0242ac1c0002row10_col1,#T_70437928_5a6c_11ec_950f_0242ac1c0002row10_col2,#T_70437928_5a6c_11ec_950f_0242ac1c0002row10_col3,#T_70437928_5a6c_11ec_950f_0242ac1c0002row10_col4,#T_70437928_5a6c_11ec_950f_0242ac1c0002row10_col5,#T_70437928_5a6c_11ec_950f_0242ac1c0002row10_col6,#T_70437928_5a6c_11ec_950f_0242ac1c0002row10_col17{\n",
       "            font-size:  6pt;\n",
       "            background-color:  #ffffff;\n",
       "            color:  #000000;\n",
       "        }#T_70437928_5a6c_11ec_950f_0242ac1c0002row1_col5{\n",
       "            font-size:  6pt;\n",
       "            background-color:  #efefef;\n",
       "            color:  #000000;\n",
       "        }#T_70437928_5a6c_11ec_950f_0242ac1c0002row1_col6,#T_70437928_5a6c_11ec_950f_0242ac1c0002row1_col13{\n",
       "            font-size:  6pt;\n",
       "            background-color:  #7c7c7c;\n",
       "            color:  #000000;\n",
       "        }#T_70437928_5a6c_11ec_950f_0242ac1c0002row1_col7{\n",
       "            font-size:  6pt;\n",
       "            background-color:  #4a4a4a;\n",
       "            color:  #f1f1f1;\n",
       "        }#T_70437928_5a6c_11ec_950f_0242ac1c0002row1_col8,#T_70437928_5a6c_11ec_950f_0242ac1c0002row1_col9,#T_70437928_5a6c_11ec_950f_0242ac1c0002row1_col10,#T_70437928_5a6c_11ec_950f_0242ac1c0002row2_col5,#T_70437928_5a6c_11ec_950f_0242ac1c0002row2_col6,#T_70437928_5a6c_11ec_950f_0242ac1c0002row2_col7,#T_70437928_5a6c_11ec_950f_0242ac1c0002row2_col11,#T_70437928_5a6c_11ec_950f_0242ac1c0002row2_col12,#T_70437928_5a6c_11ec_950f_0242ac1c0002row2_col13,#T_70437928_5a6c_11ec_950f_0242ac1c0002row3_col4,#T_70437928_5a6c_11ec_950f_0242ac1c0002row3_col12,#T_70437928_5a6c_11ec_950f_0242ac1c0002row3_col13,#T_70437928_5a6c_11ec_950f_0242ac1c0002row4_col1,#T_70437928_5a6c_11ec_950f_0242ac1c0002row4_col2,#T_70437928_5a6c_11ec_950f_0242ac1c0002row4_col3,#T_70437928_5a6c_11ec_950f_0242ac1c0002row4_col12,#T_70437928_5a6c_11ec_950f_0242ac1c0002row4_col13,#T_70437928_5a6c_11ec_950f_0242ac1c0002row5_col12,#T_70437928_5a6c_11ec_950f_0242ac1c0002row6_col11,#T_70437928_5a6c_11ec_950f_0242ac1c0002row9_col11,#T_70437928_5a6c_11ec_950f_0242ac1c0002row10_col11,#T_70437928_5a6c_11ec_950f_0242ac1c0002row10_col12,#T_70437928_5a6c_11ec_950f_0242ac1c0002row10_col13,#T_70437928_5a6c_11ec_950f_0242ac1c0002row10_col14,#T_70437928_5a6c_11ec_950f_0242ac1c0002row10_col15,#T_70437928_5a6c_11ec_950f_0242ac1c0002row10_col16{\n",
       "            font-size:  6pt;\n",
       "            background-color:  #000000;\n",
       "            color:  #f1f1f1;\n",
       "        }#T_70437928_5a6c_11ec_950f_0242ac1c0002row1_col11{\n",
       "            font-size:  6pt;\n",
       "            background-color:  #606060;\n",
       "            color:  #f1f1f1;\n",
       "        }#T_70437928_5a6c_11ec_950f_0242ac1c0002row1_col12{\n",
       "            font-size:  6pt;\n",
       "            background-color:  #4d4d4d;\n",
       "            color:  #f1f1f1;\n",
       "        }#T_70437928_5a6c_11ec_950f_0242ac1c0002row1_col14{\n",
       "            font-size:  6pt;\n",
       "            background-color:  #bbbbbb;\n",
       "            color:  #000000;\n",
       "        }#T_70437928_5a6c_11ec_950f_0242ac1c0002row2_col3{\n",
       "            font-size:  6pt;\n",
       "            background-color:  #e4e4e4;\n",
       "            color:  #000000;\n",
       "        }#T_70437928_5a6c_11ec_950f_0242ac1c0002row2_col4,#T_70437928_5a6c_11ec_950f_0242ac1c0002row8_col6{\n",
       "            font-size:  6pt;\n",
       "            background-color:  #6b6b6b;\n",
       "            color:  #000000;\n",
       "        }#T_70437928_5a6c_11ec_950f_0242ac1c0002row2_col8,#T_70437928_5a6c_11ec_950f_0242ac1c0002row2_col14,#T_70437928_5a6c_11ec_950f_0242ac1c0002row3_col14{\n",
       "            font-size:  6pt;\n",
       "            background-color:  #171717;\n",
       "            color:  #f1f1f1;\n",
       "        }#T_70437928_5a6c_11ec_950f_0242ac1c0002row2_col9,#T_70437928_5a6c_11ec_950f_0242ac1c0002row3_col11{\n",
       "            font-size:  6pt;\n",
       "            background-color:  #4b4b4b;\n",
       "            color:  #f1f1f1;\n",
       "        }#T_70437928_5a6c_11ec_950f_0242ac1c0002row2_col10,#T_70437928_5a6c_11ec_950f_0242ac1c0002row7_col10,#T_70437928_5a6c_11ec_950f_0242ac1c0002row8_col8,#T_70437928_5a6c_11ec_950f_0242ac1c0002row8_col10,#T_70437928_5a6c_11ec_950f_0242ac1c0002row9_col8,#T_70437928_5a6c_11ec_950f_0242ac1c0002row9_col10{\n",
       "            font-size:  6pt;\n",
       "            background-color:  #010101;\n",
       "            color:  #f1f1f1;\n",
       "        }#T_70437928_5a6c_11ec_950f_0242ac1c0002row3_col1{\n",
       "            font-size:  6pt;\n",
       "            background-color:  #272727;\n",
       "            color:  #f1f1f1;\n",
       "        }#T_70437928_5a6c_11ec_950f_0242ac1c0002row3_col2{\n",
       "            font-size:  6pt;\n",
       "            background-color:  #0a0a0a;\n",
       "            color:  #f1f1f1;\n",
       "        }#T_70437928_5a6c_11ec_950f_0242ac1c0002row3_col3{\n",
       "            font-size:  6pt;\n",
       "            background-color:  #050505;\n",
       "            color:  #f1f1f1;\n",
       "        }#T_70437928_5a6c_11ec_950f_0242ac1c0002row3_col5{\n",
       "            font-size:  6pt;\n",
       "            background-color:  #333333;\n",
       "            color:  #f1f1f1;\n",
       "        }#T_70437928_5a6c_11ec_950f_0242ac1c0002row3_col6{\n",
       "            font-size:  6pt;\n",
       "            background-color:  #e6e6e6;\n",
       "            color:  #000000;\n",
       "        }#T_70437928_5a6c_11ec_950f_0242ac1c0002row3_col7,#T_70437928_5a6c_11ec_950f_0242ac1c0002row3_col10{\n",
       "            font-size:  6pt;\n",
       "            background-color:  #fafafa;\n",
       "            color:  #000000;\n",
       "        }#T_70437928_5a6c_11ec_950f_0242ac1c0002row3_col8{\n",
       "            font-size:  6pt;\n",
       "            background-color:  #fbfbfb;\n",
       "            color:  #000000;\n",
       "        }#T_70437928_5a6c_11ec_950f_0242ac1c0002row3_col9{\n",
       "            font-size:  6pt;\n",
       "            background-color:  #fdfdfd;\n",
       "            color:  #000000;\n",
       "        }#T_70437928_5a6c_11ec_950f_0242ac1c0002row4_col4{\n",
       "            font-size:  6pt;\n",
       "            background-color:  #1b1b1b;\n",
       "            color:  #f1f1f1;\n",
       "        }#T_70437928_5a6c_11ec_950f_0242ac1c0002row4_col5{\n",
       "            font-size:  6pt;\n",
       "            background-color:  #e0e0e0;\n",
       "            color:  #000000;\n",
       "        }#T_70437928_5a6c_11ec_950f_0242ac1c0002row4_col11{\n",
       "            font-size:  6pt;\n",
       "            background-color:  #4e4e4e;\n",
       "            color:  #f1f1f1;\n",
       "        }#T_70437928_5a6c_11ec_950f_0242ac1c0002row4_col14{\n",
       "            font-size:  6pt;\n",
       "            background-color:  #767676;\n",
       "            color:  #000000;\n",
       "        }#T_70437928_5a6c_11ec_950f_0242ac1c0002row5_col1{\n",
       "            font-size:  6pt;\n",
       "            background-color:  #fcfcfc;\n",
       "            color:  #000000;\n",
       "        }#T_70437928_5a6c_11ec_950f_0242ac1c0002row5_col2,#T_70437928_5a6c_11ec_950f_0242ac1c0002row5_col3{\n",
       "            font-size:  6pt;\n",
       "            background-color:  #f6f6f6;\n",
       "            color:  #000000;\n",
       "        }#T_70437928_5a6c_11ec_950f_0242ac1c0002row5_col4,#T_70437928_5a6c_11ec_950f_0242ac1c0002row7_col7{\n",
       "            font-size:  6pt;\n",
       "            background-color:  #f8f8f8;\n",
       "            color:  #000000;\n",
       "        }#T_70437928_5a6c_11ec_950f_0242ac1c0002row5_col10,#T_70437928_5a6c_11ec_950f_0242ac1c0002row10_col7{\n",
       "            font-size:  6pt;\n",
       "            background-color:  #e8e8e8;\n",
       "            color:  #000000;\n",
       "        }#T_70437928_5a6c_11ec_950f_0242ac1c0002row5_col11{\n",
       "            font-size:  6pt;\n",
       "            background-color:  #222222;\n",
       "            color:  #f1f1f1;\n",
       "        }#T_70437928_5a6c_11ec_950f_0242ac1c0002row5_col13,#T_70437928_5a6c_11ec_950f_0242ac1c0002row6_col12{\n",
       "            font-size:  6pt;\n",
       "            background-color:  #090909;\n",
       "            color:  #f1f1f1;\n",
       "        }#T_70437928_5a6c_11ec_950f_0242ac1c0002row5_col14{\n",
       "            font-size:  6pt;\n",
       "            background-color:  #d0d0d0;\n",
       "            color:  #000000;\n",
       "        }#T_70437928_5a6c_11ec_950f_0242ac1c0002row6_col10,#T_70437928_5a6c_11ec_950f_0242ac1c0002row7_col11,#T_70437928_5a6c_11ec_950f_0242ac1c0002row9_col6{\n",
       "            font-size:  6pt;\n",
       "            background-color:  #060606;\n",
       "            color:  #f1f1f1;\n",
       "        }#T_70437928_5a6c_11ec_950f_0242ac1c0002row6_col13{\n",
       "            font-size:  6pt;\n",
       "            background-color:  #979797;\n",
       "            color:  #000000;\n",
       "        }#T_70437928_5a6c_11ec_950f_0242ac1c0002row7_col8{\n",
       "            font-size:  6pt;\n",
       "            background-color:  #b6b6b6;\n",
       "            color:  #000000;\n",
       "        }#T_70437928_5a6c_11ec_950f_0242ac1c0002row7_col9{\n",
       "            font-size:  6pt;\n",
       "            background-color:  #252525;\n",
       "            color:  #f1f1f1;\n",
       "        }#T_70437928_5a6c_11ec_950f_0242ac1c0002row7_col12{\n",
       "            font-size:  6pt;\n",
       "            background-color:  #999999;\n",
       "            color:  #000000;\n",
       "        }#T_70437928_5a6c_11ec_950f_0242ac1c0002row8_col5{\n",
       "            font-size:  6pt;\n",
       "            background-color:  #f9f9f9;\n",
       "            color:  #000000;\n",
       "        }#T_70437928_5a6c_11ec_950f_0242ac1c0002row8_col7{\n",
       "            font-size:  6pt;\n",
       "            background-color:  #101010;\n",
       "            color:  #f1f1f1;\n",
       "        }#T_70437928_5a6c_11ec_950f_0242ac1c0002row8_col9,#T_70437928_5a6c_11ec_950f_0242ac1c0002row9_col9{\n",
       "            font-size:  6pt;\n",
       "            background-color:  #020202;\n",
       "            color:  #f1f1f1;\n",
       "        }#T_70437928_5a6c_11ec_950f_0242ac1c0002row8_col11{\n",
       "            font-size:  6pt;\n",
       "            background-color:  #545454;\n",
       "            color:  #f1f1f1;\n",
       "        }#T_70437928_5a6c_11ec_950f_0242ac1c0002row8_col12{\n",
       "            font-size:  6pt;\n",
       "            background-color:  #f1f1f1;\n",
       "            color:  #000000;\n",
       "        }#T_70437928_5a6c_11ec_950f_0242ac1c0002row9_col5{\n",
       "            font-size:  6pt;\n",
       "            background-color:  #f7f7f7;\n",
       "            color:  #000000;\n",
       "        }#T_70437928_5a6c_11ec_950f_0242ac1c0002row9_col7{\n",
       "            font-size:  6pt;\n",
       "            background-color:  #030303;\n",
       "            color:  #f1f1f1;\n",
       "        }#T_70437928_5a6c_11ec_950f_0242ac1c0002row9_col12{\n",
       "            font-size:  6pt;\n",
       "            background-color:  #181818;\n",
       "            color:  #f1f1f1;\n",
       "        }#T_70437928_5a6c_11ec_950f_0242ac1c0002row9_col13{\n",
       "            font-size:  6pt;\n",
       "            background-color:  #303030;\n",
       "            color:  #f1f1f1;\n",
       "        }#T_70437928_5a6c_11ec_950f_0242ac1c0002row9_col14{\n",
       "            font-size:  6pt;\n",
       "            background-color:  #a9a9a9;\n",
       "            color:  #000000;\n",
       "        }#T_70437928_5a6c_11ec_950f_0242ac1c0002row9_col15{\n",
       "            font-size:  6pt;\n",
       "            background-color:  #fefefe;\n",
       "            color:  #000000;\n",
       "        }#T_70437928_5a6c_11ec_950f_0242ac1c0002row10_col8,#T_70437928_5a6c_11ec_950f_0242ac1c0002row10_col9{\n",
       "            font-size:  6pt;\n",
       "            background-color:  #bababa;\n",
       "            color:  #000000;\n",
       "        }#T_70437928_5a6c_11ec_950f_0242ac1c0002row10_col10{\n",
       "            font-size:  6pt;\n",
       "            background-color:  #393939;\n",
       "            color:  #f1f1f1;\n",
       "        }</style><table id=\"T_70437928_5a6c_11ec_950f_0242ac1c0002\" class=\"dataframe\"><thead>    <tr>        <th class=\"blank level0\" ></th>        <th class=\"col_heading level0 col0\" >0</th>        <th class=\"col_heading level0 col1\" >1</th>        <th class=\"col_heading level0 col2\" >2</th>        <th class=\"col_heading level0 col3\" >3</th>        <th class=\"col_heading level0 col4\" >4</th>        <th class=\"col_heading level0 col5\" >5</th>        <th class=\"col_heading level0 col6\" >6</th>        <th class=\"col_heading level0 col7\" >7</th>        <th class=\"col_heading level0 col8\" >8</th>        <th class=\"col_heading level0 col9\" >9</th>        <th class=\"col_heading level0 col10\" >10</th>        <th class=\"col_heading level0 col11\" >11</th>        <th class=\"col_heading level0 col12\" >12</th>        <th class=\"col_heading level0 col13\" >13</th>        <th class=\"col_heading level0 col14\" >14</th>        <th class=\"col_heading level0 col15\" >15</th>        <th class=\"col_heading level0 col16\" >16</th>        <th class=\"col_heading level0 col17\" >17</th>    </tr></thead><tbody>\n",
       "                <tr>\n",
       "                        <th id=\"T_70437928_5a6c_11ec_950f_0242ac1c0002level0_row0\" class=\"row_heading level0 row0\" >0</th>\n",
       "                        <td id=\"T_70437928_5a6c_11ec_950f_0242ac1c0002row0_col0\" class=\"data row0 col0\" >0</td>\n",
       "                        <td id=\"T_70437928_5a6c_11ec_950f_0242ac1c0002row0_col1\" class=\"data row0 col1\" >0</td>\n",
       "                        <td id=\"T_70437928_5a6c_11ec_950f_0242ac1c0002row0_col2\" class=\"data row0 col2\" >0</td>\n",
       "                        <td id=\"T_70437928_5a6c_11ec_950f_0242ac1c0002row0_col3\" class=\"data row0 col3\" >0</td>\n",
       "                        <td id=\"T_70437928_5a6c_11ec_950f_0242ac1c0002row0_col4\" class=\"data row0 col4\" >0</td>\n",
       "                        <td id=\"T_70437928_5a6c_11ec_950f_0242ac1c0002row0_col5\" class=\"data row0 col5\" >0</td>\n",
       "                        <td id=\"T_70437928_5a6c_11ec_950f_0242ac1c0002row0_col6\" class=\"data row0 col6\" >0</td>\n",
       "                        <td id=\"T_70437928_5a6c_11ec_950f_0242ac1c0002row0_col7\" class=\"data row0 col7\" >0</td>\n",
       "                        <td id=\"T_70437928_5a6c_11ec_950f_0242ac1c0002row0_col8\" class=\"data row0 col8\" >0</td>\n",
       "                        <td id=\"T_70437928_5a6c_11ec_950f_0242ac1c0002row0_col9\" class=\"data row0 col9\" >0</td>\n",
       "                        <td id=\"T_70437928_5a6c_11ec_950f_0242ac1c0002row0_col10\" class=\"data row0 col10\" >0</td>\n",
       "                        <td id=\"T_70437928_5a6c_11ec_950f_0242ac1c0002row0_col11\" class=\"data row0 col11\" >0</td>\n",
       "                        <td id=\"T_70437928_5a6c_11ec_950f_0242ac1c0002row0_col12\" class=\"data row0 col12\" >0</td>\n",
       "                        <td id=\"T_70437928_5a6c_11ec_950f_0242ac1c0002row0_col13\" class=\"data row0 col13\" >0</td>\n",
       "                        <td id=\"T_70437928_5a6c_11ec_950f_0242ac1c0002row0_col14\" class=\"data row0 col14\" >0</td>\n",
       "                        <td id=\"T_70437928_5a6c_11ec_950f_0242ac1c0002row0_col15\" class=\"data row0 col15\" >0</td>\n",
       "                        <td id=\"T_70437928_5a6c_11ec_950f_0242ac1c0002row0_col16\" class=\"data row0 col16\" >0</td>\n",
       "                        <td id=\"T_70437928_5a6c_11ec_950f_0242ac1c0002row0_col17\" class=\"data row0 col17\" >0</td>\n",
       "            </tr>\n",
       "            <tr>\n",
       "                        <th id=\"T_70437928_5a6c_11ec_950f_0242ac1c0002level0_row1\" class=\"row_heading level0 row1\" >1</th>\n",
       "                        <td id=\"T_70437928_5a6c_11ec_950f_0242ac1c0002row1_col0\" class=\"data row1 col0\" >0</td>\n",
       "                        <td id=\"T_70437928_5a6c_11ec_950f_0242ac1c0002row1_col1\" class=\"data row1 col1\" >0</td>\n",
       "                        <td id=\"T_70437928_5a6c_11ec_950f_0242ac1c0002row1_col2\" class=\"data row1 col2\" >0</td>\n",
       "                        <td id=\"T_70437928_5a6c_11ec_950f_0242ac1c0002row1_col3\" class=\"data row1 col3\" >0</td>\n",
       "                        <td id=\"T_70437928_5a6c_11ec_950f_0242ac1c0002row1_col4\" class=\"data row1 col4\" >0</td>\n",
       "                        <td id=\"T_70437928_5a6c_11ec_950f_0242ac1c0002row1_col5\" class=\"data row1 col5\" >29</td>\n",
       "                        <td id=\"T_70437928_5a6c_11ec_950f_0242ac1c0002row1_col6\" class=\"data row1 col6\" >150</td>\n",
       "                        <td id=\"T_70437928_5a6c_11ec_950f_0242ac1c0002row1_col7\" class=\"data row1 col7\" >195</td>\n",
       "                        <td id=\"T_70437928_5a6c_11ec_950f_0242ac1c0002row1_col8\" class=\"data row1 col8\" >254</td>\n",
       "                        <td id=\"T_70437928_5a6c_11ec_950f_0242ac1c0002row1_col9\" class=\"data row1 col9\" >255</td>\n",
       "                        <td id=\"T_70437928_5a6c_11ec_950f_0242ac1c0002row1_col10\" class=\"data row1 col10\" >254</td>\n",
       "                        <td id=\"T_70437928_5a6c_11ec_950f_0242ac1c0002row1_col11\" class=\"data row1 col11\" >176</td>\n",
       "                        <td id=\"T_70437928_5a6c_11ec_950f_0242ac1c0002row1_col12\" class=\"data row1 col12\" >193</td>\n",
       "                        <td id=\"T_70437928_5a6c_11ec_950f_0242ac1c0002row1_col13\" class=\"data row1 col13\" >150</td>\n",
       "                        <td id=\"T_70437928_5a6c_11ec_950f_0242ac1c0002row1_col14\" class=\"data row1 col14\" >96</td>\n",
       "                        <td id=\"T_70437928_5a6c_11ec_950f_0242ac1c0002row1_col15\" class=\"data row1 col15\" >0</td>\n",
       "                        <td id=\"T_70437928_5a6c_11ec_950f_0242ac1c0002row1_col16\" class=\"data row1 col16\" >0</td>\n",
       "                        <td id=\"T_70437928_5a6c_11ec_950f_0242ac1c0002row1_col17\" class=\"data row1 col17\" >0</td>\n",
       "            </tr>\n",
       "            <tr>\n",
       "                        <th id=\"T_70437928_5a6c_11ec_950f_0242ac1c0002level0_row2\" class=\"row_heading level0 row2\" >2</th>\n",
       "                        <td id=\"T_70437928_5a6c_11ec_950f_0242ac1c0002row2_col0\" class=\"data row2 col0\" >0</td>\n",
       "                        <td id=\"T_70437928_5a6c_11ec_950f_0242ac1c0002row2_col1\" class=\"data row2 col1\" >0</td>\n",
       "                        <td id=\"T_70437928_5a6c_11ec_950f_0242ac1c0002row2_col2\" class=\"data row2 col2\" >0</td>\n",
       "                        <td id=\"T_70437928_5a6c_11ec_950f_0242ac1c0002row2_col3\" class=\"data row2 col3\" >48</td>\n",
       "                        <td id=\"T_70437928_5a6c_11ec_950f_0242ac1c0002row2_col4\" class=\"data row2 col4\" >166</td>\n",
       "                        <td id=\"T_70437928_5a6c_11ec_950f_0242ac1c0002row2_col5\" class=\"data row2 col5\" >224</td>\n",
       "                        <td id=\"T_70437928_5a6c_11ec_950f_0242ac1c0002row2_col6\" class=\"data row2 col6\" >253</td>\n",
       "                        <td id=\"T_70437928_5a6c_11ec_950f_0242ac1c0002row2_col7\" class=\"data row2 col7\" >253</td>\n",
       "                        <td id=\"T_70437928_5a6c_11ec_950f_0242ac1c0002row2_col8\" class=\"data row2 col8\" >234</td>\n",
       "                        <td id=\"T_70437928_5a6c_11ec_950f_0242ac1c0002row2_col9\" class=\"data row2 col9\" >196</td>\n",
       "                        <td id=\"T_70437928_5a6c_11ec_950f_0242ac1c0002row2_col10\" class=\"data row2 col10\" >253</td>\n",
       "                        <td id=\"T_70437928_5a6c_11ec_950f_0242ac1c0002row2_col11\" class=\"data row2 col11\" >253</td>\n",
       "                        <td id=\"T_70437928_5a6c_11ec_950f_0242ac1c0002row2_col12\" class=\"data row2 col12\" >253</td>\n",
       "                        <td id=\"T_70437928_5a6c_11ec_950f_0242ac1c0002row2_col13\" class=\"data row2 col13\" >253</td>\n",
       "                        <td id=\"T_70437928_5a6c_11ec_950f_0242ac1c0002row2_col14\" class=\"data row2 col14\" >233</td>\n",
       "                        <td id=\"T_70437928_5a6c_11ec_950f_0242ac1c0002row2_col15\" class=\"data row2 col15\" >0</td>\n",
       "                        <td id=\"T_70437928_5a6c_11ec_950f_0242ac1c0002row2_col16\" class=\"data row2 col16\" >0</td>\n",
       "                        <td id=\"T_70437928_5a6c_11ec_950f_0242ac1c0002row2_col17\" class=\"data row2 col17\" >0</td>\n",
       "            </tr>\n",
       "            <tr>\n",
       "                        <th id=\"T_70437928_5a6c_11ec_950f_0242ac1c0002level0_row3\" class=\"row_heading level0 row3\" >3</th>\n",
       "                        <td id=\"T_70437928_5a6c_11ec_950f_0242ac1c0002row3_col0\" class=\"data row3 col0\" >0</td>\n",
       "                        <td id=\"T_70437928_5a6c_11ec_950f_0242ac1c0002row3_col1\" class=\"data row3 col1\" >93</td>\n",
       "                        <td id=\"T_70437928_5a6c_11ec_950f_0242ac1c0002row3_col2\" class=\"data row3 col2\" >244</td>\n",
       "                        <td id=\"T_70437928_5a6c_11ec_950f_0242ac1c0002row3_col3\" class=\"data row3 col3\" >249</td>\n",
       "                        <td id=\"T_70437928_5a6c_11ec_950f_0242ac1c0002row3_col4\" class=\"data row3 col4\" >253</td>\n",
       "                        <td id=\"T_70437928_5a6c_11ec_950f_0242ac1c0002row3_col5\" class=\"data row3 col5\" >187</td>\n",
       "                        <td id=\"T_70437928_5a6c_11ec_950f_0242ac1c0002row3_col6\" class=\"data row3 col6\" >46</td>\n",
       "                        <td id=\"T_70437928_5a6c_11ec_950f_0242ac1c0002row3_col7\" class=\"data row3 col7\" >10</td>\n",
       "                        <td id=\"T_70437928_5a6c_11ec_950f_0242ac1c0002row3_col8\" class=\"data row3 col8\" >8</td>\n",
       "                        <td id=\"T_70437928_5a6c_11ec_950f_0242ac1c0002row3_col9\" class=\"data row3 col9\" >4</td>\n",
       "                        <td id=\"T_70437928_5a6c_11ec_950f_0242ac1c0002row3_col10\" class=\"data row3 col10\" >10</td>\n",
       "                        <td id=\"T_70437928_5a6c_11ec_950f_0242ac1c0002row3_col11\" class=\"data row3 col11\" >194</td>\n",
       "                        <td id=\"T_70437928_5a6c_11ec_950f_0242ac1c0002row3_col12\" class=\"data row3 col12\" >253</td>\n",
       "                        <td id=\"T_70437928_5a6c_11ec_950f_0242ac1c0002row3_col13\" class=\"data row3 col13\" >253</td>\n",
       "                        <td id=\"T_70437928_5a6c_11ec_950f_0242ac1c0002row3_col14\" class=\"data row3 col14\" >233</td>\n",
       "                        <td id=\"T_70437928_5a6c_11ec_950f_0242ac1c0002row3_col15\" class=\"data row3 col15\" >0</td>\n",
       "                        <td id=\"T_70437928_5a6c_11ec_950f_0242ac1c0002row3_col16\" class=\"data row3 col16\" >0</td>\n",
       "                        <td id=\"T_70437928_5a6c_11ec_950f_0242ac1c0002row3_col17\" class=\"data row3 col17\" >0</td>\n",
       "            </tr>\n",
       "            <tr>\n",
       "                        <th id=\"T_70437928_5a6c_11ec_950f_0242ac1c0002level0_row4\" class=\"row_heading level0 row4\" >4</th>\n",
       "                        <td id=\"T_70437928_5a6c_11ec_950f_0242ac1c0002row4_col0\" class=\"data row4 col0\" >0</td>\n",
       "                        <td id=\"T_70437928_5a6c_11ec_950f_0242ac1c0002row4_col1\" class=\"data row4 col1\" >107</td>\n",
       "                        <td id=\"T_70437928_5a6c_11ec_950f_0242ac1c0002row4_col2\" class=\"data row4 col2\" >253</td>\n",
       "                        <td id=\"T_70437928_5a6c_11ec_950f_0242ac1c0002row4_col3\" class=\"data row4 col3\" >253</td>\n",
       "                        <td id=\"T_70437928_5a6c_11ec_950f_0242ac1c0002row4_col4\" class=\"data row4 col4\" >230</td>\n",
       "                        <td id=\"T_70437928_5a6c_11ec_950f_0242ac1c0002row4_col5\" class=\"data row4 col5\" >48</td>\n",
       "                        <td id=\"T_70437928_5a6c_11ec_950f_0242ac1c0002row4_col6\" class=\"data row4 col6\" >0</td>\n",
       "                        <td id=\"T_70437928_5a6c_11ec_950f_0242ac1c0002row4_col7\" class=\"data row4 col7\" >0</td>\n",
       "                        <td id=\"T_70437928_5a6c_11ec_950f_0242ac1c0002row4_col8\" class=\"data row4 col8\" >0</td>\n",
       "                        <td id=\"T_70437928_5a6c_11ec_950f_0242ac1c0002row4_col9\" class=\"data row4 col9\" >0</td>\n",
       "                        <td id=\"T_70437928_5a6c_11ec_950f_0242ac1c0002row4_col10\" class=\"data row4 col10\" >0</td>\n",
       "                        <td id=\"T_70437928_5a6c_11ec_950f_0242ac1c0002row4_col11\" class=\"data row4 col11\" >192</td>\n",
       "                        <td id=\"T_70437928_5a6c_11ec_950f_0242ac1c0002row4_col12\" class=\"data row4 col12\" >253</td>\n",
       "                        <td id=\"T_70437928_5a6c_11ec_950f_0242ac1c0002row4_col13\" class=\"data row4 col13\" >253</td>\n",
       "                        <td id=\"T_70437928_5a6c_11ec_950f_0242ac1c0002row4_col14\" class=\"data row4 col14\" >156</td>\n",
       "                        <td id=\"T_70437928_5a6c_11ec_950f_0242ac1c0002row4_col15\" class=\"data row4 col15\" >0</td>\n",
       "                        <td id=\"T_70437928_5a6c_11ec_950f_0242ac1c0002row4_col16\" class=\"data row4 col16\" >0</td>\n",
       "                        <td id=\"T_70437928_5a6c_11ec_950f_0242ac1c0002row4_col17\" class=\"data row4 col17\" >0</td>\n",
       "            </tr>\n",
       "            <tr>\n",
       "                        <th id=\"T_70437928_5a6c_11ec_950f_0242ac1c0002level0_row5\" class=\"row_heading level0 row5\" >5</th>\n",
       "                        <td id=\"T_70437928_5a6c_11ec_950f_0242ac1c0002row5_col0\" class=\"data row5 col0\" >0</td>\n",
       "                        <td id=\"T_70437928_5a6c_11ec_950f_0242ac1c0002row5_col1\" class=\"data row5 col1\" >3</td>\n",
       "                        <td id=\"T_70437928_5a6c_11ec_950f_0242ac1c0002row5_col2\" class=\"data row5 col2\" >20</td>\n",
       "                        <td id=\"T_70437928_5a6c_11ec_950f_0242ac1c0002row5_col3\" class=\"data row5 col3\" >20</td>\n",
       "                        <td id=\"T_70437928_5a6c_11ec_950f_0242ac1c0002row5_col4\" class=\"data row5 col4\" >15</td>\n",
       "                        <td id=\"T_70437928_5a6c_11ec_950f_0242ac1c0002row5_col5\" class=\"data row5 col5\" >0</td>\n",
       "                        <td id=\"T_70437928_5a6c_11ec_950f_0242ac1c0002row5_col6\" class=\"data row5 col6\" >0</td>\n",
       "                        <td id=\"T_70437928_5a6c_11ec_950f_0242ac1c0002row5_col7\" class=\"data row5 col7\" >0</td>\n",
       "                        <td id=\"T_70437928_5a6c_11ec_950f_0242ac1c0002row5_col8\" class=\"data row5 col8\" >0</td>\n",
       "                        <td id=\"T_70437928_5a6c_11ec_950f_0242ac1c0002row5_col9\" class=\"data row5 col9\" >0</td>\n",
       "                        <td id=\"T_70437928_5a6c_11ec_950f_0242ac1c0002row5_col10\" class=\"data row5 col10\" >43</td>\n",
       "                        <td id=\"T_70437928_5a6c_11ec_950f_0242ac1c0002row5_col11\" class=\"data row5 col11\" >224</td>\n",
       "                        <td id=\"T_70437928_5a6c_11ec_950f_0242ac1c0002row5_col12\" class=\"data row5 col12\" >253</td>\n",
       "                        <td id=\"T_70437928_5a6c_11ec_950f_0242ac1c0002row5_col13\" class=\"data row5 col13\" >245</td>\n",
       "                        <td id=\"T_70437928_5a6c_11ec_950f_0242ac1c0002row5_col14\" class=\"data row5 col14\" >74</td>\n",
       "                        <td id=\"T_70437928_5a6c_11ec_950f_0242ac1c0002row5_col15\" class=\"data row5 col15\" >0</td>\n",
       "                        <td id=\"T_70437928_5a6c_11ec_950f_0242ac1c0002row5_col16\" class=\"data row5 col16\" >0</td>\n",
       "                        <td id=\"T_70437928_5a6c_11ec_950f_0242ac1c0002row5_col17\" class=\"data row5 col17\" >0</td>\n",
       "            </tr>\n",
       "            <tr>\n",
       "                        <th id=\"T_70437928_5a6c_11ec_950f_0242ac1c0002level0_row6\" class=\"row_heading level0 row6\" >6</th>\n",
       "                        <td id=\"T_70437928_5a6c_11ec_950f_0242ac1c0002row6_col0\" class=\"data row6 col0\" >0</td>\n",
       "                        <td id=\"T_70437928_5a6c_11ec_950f_0242ac1c0002row6_col1\" class=\"data row6 col1\" >0</td>\n",
       "                        <td id=\"T_70437928_5a6c_11ec_950f_0242ac1c0002row6_col2\" class=\"data row6 col2\" >0</td>\n",
       "                        <td id=\"T_70437928_5a6c_11ec_950f_0242ac1c0002row6_col3\" class=\"data row6 col3\" >0</td>\n",
       "                        <td id=\"T_70437928_5a6c_11ec_950f_0242ac1c0002row6_col4\" class=\"data row6 col4\" >0</td>\n",
       "                        <td id=\"T_70437928_5a6c_11ec_950f_0242ac1c0002row6_col5\" class=\"data row6 col5\" >0</td>\n",
       "                        <td id=\"T_70437928_5a6c_11ec_950f_0242ac1c0002row6_col6\" class=\"data row6 col6\" >0</td>\n",
       "                        <td id=\"T_70437928_5a6c_11ec_950f_0242ac1c0002row6_col7\" class=\"data row6 col7\" >0</td>\n",
       "                        <td id=\"T_70437928_5a6c_11ec_950f_0242ac1c0002row6_col8\" class=\"data row6 col8\" >0</td>\n",
       "                        <td id=\"T_70437928_5a6c_11ec_950f_0242ac1c0002row6_col9\" class=\"data row6 col9\" >0</td>\n",
       "                        <td id=\"T_70437928_5a6c_11ec_950f_0242ac1c0002row6_col10\" class=\"data row6 col10\" >249</td>\n",
       "                        <td id=\"T_70437928_5a6c_11ec_950f_0242ac1c0002row6_col11\" class=\"data row6 col11\" >253</td>\n",
       "                        <td id=\"T_70437928_5a6c_11ec_950f_0242ac1c0002row6_col12\" class=\"data row6 col12\" >245</td>\n",
       "                        <td id=\"T_70437928_5a6c_11ec_950f_0242ac1c0002row6_col13\" class=\"data row6 col13\" >126</td>\n",
       "                        <td id=\"T_70437928_5a6c_11ec_950f_0242ac1c0002row6_col14\" class=\"data row6 col14\" >0</td>\n",
       "                        <td id=\"T_70437928_5a6c_11ec_950f_0242ac1c0002row6_col15\" class=\"data row6 col15\" >0</td>\n",
       "                        <td id=\"T_70437928_5a6c_11ec_950f_0242ac1c0002row6_col16\" class=\"data row6 col16\" >0</td>\n",
       "                        <td id=\"T_70437928_5a6c_11ec_950f_0242ac1c0002row6_col17\" class=\"data row6 col17\" >0</td>\n",
       "            </tr>\n",
       "            <tr>\n",
       "                        <th id=\"T_70437928_5a6c_11ec_950f_0242ac1c0002level0_row7\" class=\"row_heading level0 row7\" >7</th>\n",
       "                        <td id=\"T_70437928_5a6c_11ec_950f_0242ac1c0002row7_col0\" class=\"data row7 col0\" >0</td>\n",
       "                        <td id=\"T_70437928_5a6c_11ec_950f_0242ac1c0002row7_col1\" class=\"data row7 col1\" >0</td>\n",
       "                        <td id=\"T_70437928_5a6c_11ec_950f_0242ac1c0002row7_col2\" class=\"data row7 col2\" >0</td>\n",
       "                        <td id=\"T_70437928_5a6c_11ec_950f_0242ac1c0002row7_col3\" class=\"data row7 col3\" >0</td>\n",
       "                        <td id=\"T_70437928_5a6c_11ec_950f_0242ac1c0002row7_col4\" class=\"data row7 col4\" >0</td>\n",
       "                        <td id=\"T_70437928_5a6c_11ec_950f_0242ac1c0002row7_col5\" class=\"data row7 col5\" >0</td>\n",
       "                        <td id=\"T_70437928_5a6c_11ec_950f_0242ac1c0002row7_col6\" class=\"data row7 col6\" >0</td>\n",
       "                        <td id=\"T_70437928_5a6c_11ec_950f_0242ac1c0002row7_col7\" class=\"data row7 col7\" >14</td>\n",
       "                        <td id=\"T_70437928_5a6c_11ec_950f_0242ac1c0002row7_col8\" class=\"data row7 col8\" >101</td>\n",
       "                        <td id=\"T_70437928_5a6c_11ec_950f_0242ac1c0002row7_col9\" class=\"data row7 col9\" >223</td>\n",
       "                        <td id=\"T_70437928_5a6c_11ec_950f_0242ac1c0002row7_col10\" class=\"data row7 col10\" >253</td>\n",
       "                        <td id=\"T_70437928_5a6c_11ec_950f_0242ac1c0002row7_col11\" class=\"data row7 col11\" >248</td>\n",
       "                        <td id=\"T_70437928_5a6c_11ec_950f_0242ac1c0002row7_col12\" class=\"data row7 col12\" >124</td>\n",
       "                        <td id=\"T_70437928_5a6c_11ec_950f_0242ac1c0002row7_col13\" class=\"data row7 col13\" >0</td>\n",
       "                        <td id=\"T_70437928_5a6c_11ec_950f_0242ac1c0002row7_col14\" class=\"data row7 col14\" >0</td>\n",
       "                        <td id=\"T_70437928_5a6c_11ec_950f_0242ac1c0002row7_col15\" class=\"data row7 col15\" >0</td>\n",
       "                        <td id=\"T_70437928_5a6c_11ec_950f_0242ac1c0002row7_col16\" class=\"data row7 col16\" >0</td>\n",
       "                        <td id=\"T_70437928_5a6c_11ec_950f_0242ac1c0002row7_col17\" class=\"data row7 col17\" >0</td>\n",
       "            </tr>\n",
       "            <tr>\n",
       "                        <th id=\"T_70437928_5a6c_11ec_950f_0242ac1c0002level0_row8\" class=\"row_heading level0 row8\" >8</th>\n",
       "                        <td id=\"T_70437928_5a6c_11ec_950f_0242ac1c0002row8_col0\" class=\"data row8 col0\" >0</td>\n",
       "                        <td id=\"T_70437928_5a6c_11ec_950f_0242ac1c0002row8_col1\" class=\"data row8 col1\" >0</td>\n",
       "                        <td id=\"T_70437928_5a6c_11ec_950f_0242ac1c0002row8_col2\" class=\"data row8 col2\" >0</td>\n",
       "                        <td id=\"T_70437928_5a6c_11ec_950f_0242ac1c0002row8_col3\" class=\"data row8 col3\" >0</td>\n",
       "                        <td id=\"T_70437928_5a6c_11ec_950f_0242ac1c0002row8_col4\" class=\"data row8 col4\" >0</td>\n",
       "                        <td id=\"T_70437928_5a6c_11ec_950f_0242ac1c0002row8_col5\" class=\"data row8 col5\" >11</td>\n",
       "                        <td id=\"T_70437928_5a6c_11ec_950f_0242ac1c0002row8_col6\" class=\"data row8 col6\" >166</td>\n",
       "                        <td id=\"T_70437928_5a6c_11ec_950f_0242ac1c0002row8_col7\" class=\"data row8 col7\" >239</td>\n",
       "                        <td id=\"T_70437928_5a6c_11ec_950f_0242ac1c0002row8_col8\" class=\"data row8 col8\" >253</td>\n",
       "                        <td id=\"T_70437928_5a6c_11ec_950f_0242ac1c0002row8_col9\" class=\"data row8 col9\" >253</td>\n",
       "                        <td id=\"T_70437928_5a6c_11ec_950f_0242ac1c0002row8_col10\" class=\"data row8 col10\" >253</td>\n",
       "                        <td id=\"T_70437928_5a6c_11ec_950f_0242ac1c0002row8_col11\" class=\"data row8 col11\" >187</td>\n",
       "                        <td id=\"T_70437928_5a6c_11ec_950f_0242ac1c0002row8_col12\" class=\"data row8 col12\" >30</td>\n",
       "                        <td id=\"T_70437928_5a6c_11ec_950f_0242ac1c0002row8_col13\" class=\"data row8 col13\" >0</td>\n",
       "                        <td id=\"T_70437928_5a6c_11ec_950f_0242ac1c0002row8_col14\" class=\"data row8 col14\" >0</td>\n",
       "                        <td id=\"T_70437928_5a6c_11ec_950f_0242ac1c0002row8_col15\" class=\"data row8 col15\" >0</td>\n",
       "                        <td id=\"T_70437928_5a6c_11ec_950f_0242ac1c0002row8_col16\" class=\"data row8 col16\" >0</td>\n",
       "                        <td id=\"T_70437928_5a6c_11ec_950f_0242ac1c0002row8_col17\" class=\"data row8 col17\" >0</td>\n",
       "            </tr>\n",
       "            <tr>\n",
       "                        <th id=\"T_70437928_5a6c_11ec_950f_0242ac1c0002level0_row9\" class=\"row_heading level0 row9\" >9</th>\n",
       "                        <td id=\"T_70437928_5a6c_11ec_950f_0242ac1c0002row9_col0\" class=\"data row9 col0\" >0</td>\n",
       "                        <td id=\"T_70437928_5a6c_11ec_950f_0242ac1c0002row9_col1\" class=\"data row9 col1\" >0</td>\n",
       "                        <td id=\"T_70437928_5a6c_11ec_950f_0242ac1c0002row9_col2\" class=\"data row9 col2\" >0</td>\n",
       "                        <td id=\"T_70437928_5a6c_11ec_950f_0242ac1c0002row9_col3\" class=\"data row9 col3\" >0</td>\n",
       "                        <td id=\"T_70437928_5a6c_11ec_950f_0242ac1c0002row9_col4\" class=\"data row9 col4\" >0</td>\n",
       "                        <td id=\"T_70437928_5a6c_11ec_950f_0242ac1c0002row9_col5\" class=\"data row9 col5\" >16</td>\n",
       "                        <td id=\"T_70437928_5a6c_11ec_950f_0242ac1c0002row9_col6\" class=\"data row9 col6\" >248</td>\n",
       "                        <td id=\"T_70437928_5a6c_11ec_950f_0242ac1c0002row9_col7\" class=\"data row9 col7\" >250</td>\n",
       "                        <td id=\"T_70437928_5a6c_11ec_950f_0242ac1c0002row9_col8\" class=\"data row9 col8\" >253</td>\n",
       "                        <td id=\"T_70437928_5a6c_11ec_950f_0242ac1c0002row9_col9\" class=\"data row9 col9\" >253</td>\n",
       "                        <td id=\"T_70437928_5a6c_11ec_950f_0242ac1c0002row9_col10\" class=\"data row9 col10\" >253</td>\n",
       "                        <td id=\"T_70437928_5a6c_11ec_950f_0242ac1c0002row9_col11\" class=\"data row9 col11\" >253</td>\n",
       "                        <td id=\"T_70437928_5a6c_11ec_950f_0242ac1c0002row9_col12\" class=\"data row9 col12\" >232</td>\n",
       "                        <td id=\"T_70437928_5a6c_11ec_950f_0242ac1c0002row9_col13\" class=\"data row9 col13\" >213</td>\n",
       "                        <td id=\"T_70437928_5a6c_11ec_950f_0242ac1c0002row9_col14\" class=\"data row9 col14\" >111</td>\n",
       "                        <td id=\"T_70437928_5a6c_11ec_950f_0242ac1c0002row9_col15\" class=\"data row9 col15\" >2</td>\n",
       "                        <td id=\"T_70437928_5a6c_11ec_950f_0242ac1c0002row9_col16\" class=\"data row9 col16\" >0</td>\n",
       "                        <td id=\"T_70437928_5a6c_11ec_950f_0242ac1c0002row9_col17\" class=\"data row9 col17\" >0</td>\n",
       "            </tr>\n",
       "            <tr>\n",
       "                        <th id=\"T_70437928_5a6c_11ec_950f_0242ac1c0002level0_row10\" class=\"row_heading level0 row10\" >10</th>\n",
       "                        <td id=\"T_70437928_5a6c_11ec_950f_0242ac1c0002row10_col0\" class=\"data row10 col0\" >0</td>\n",
       "                        <td id=\"T_70437928_5a6c_11ec_950f_0242ac1c0002row10_col1\" class=\"data row10 col1\" >0</td>\n",
       "                        <td id=\"T_70437928_5a6c_11ec_950f_0242ac1c0002row10_col2\" class=\"data row10 col2\" >0</td>\n",
       "                        <td id=\"T_70437928_5a6c_11ec_950f_0242ac1c0002row10_col3\" class=\"data row10 col3\" >0</td>\n",
       "                        <td id=\"T_70437928_5a6c_11ec_950f_0242ac1c0002row10_col4\" class=\"data row10 col4\" >0</td>\n",
       "                        <td id=\"T_70437928_5a6c_11ec_950f_0242ac1c0002row10_col5\" class=\"data row10 col5\" >0</td>\n",
       "                        <td id=\"T_70437928_5a6c_11ec_950f_0242ac1c0002row10_col6\" class=\"data row10 col6\" >0</td>\n",
       "                        <td id=\"T_70437928_5a6c_11ec_950f_0242ac1c0002row10_col7\" class=\"data row10 col7\" >43</td>\n",
       "                        <td id=\"T_70437928_5a6c_11ec_950f_0242ac1c0002row10_col8\" class=\"data row10 col8\" >98</td>\n",
       "                        <td id=\"T_70437928_5a6c_11ec_950f_0242ac1c0002row10_col9\" class=\"data row10 col9\" >98</td>\n",
       "                        <td id=\"T_70437928_5a6c_11ec_950f_0242ac1c0002row10_col10\" class=\"data row10 col10\" >208</td>\n",
       "                        <td id=\"T_70437928_5a6c_11ec_950f_0242ac1c0002row10_col11\" class=\"data row10 col11\" >253</td>\n",
       "                        <td id=\"T_70437928_5a6c_11ec_950f_0242ac1c0002row10_col12\" class=\"data row10 col12\" >253</td>\n",
       "                        <td id=\"T_70437928_5a6c_11ec_950f_0242ac1c0002row10_col13\" class=\"data row10 col13\" >253</td>\n",
       "                        <td id=\"T_70437928_5a6c_11ec_950f_0242ac1c0002row10_col14\" class=\"data row10 col14\" >253</td>\n",
       "                        <td id=\"T_70437928_5a6c_11ec_950f_0242ac1c0002row10_col15\" class=\"data row10 col15\" >187</td>\n",
       "                        <td id=\"T_70437928_5a6c_11ec_950f_0242ac1c0002row10_col16\" class=\"data row10 col16\" >22</td>\n",
       "                        <td id=\"T_70437928_5a6c_11ec_950f_0242ac1c0002row10_col17\" class=\"data row10 col17\" >0</td>\n",
       "            </tr>\n",
       "    </tbody></table>"
      ],
      "text/plain": [
       "<pandas.io.formats.style.Styler at 0x7fbd56157b10>"
      ]
     },
     "execution_count": 29,
     "metadata": {},
     "output_type": "execute_result"
    }
   ],
   "source": [
    "df.style.set_properties(**{'font-size': '6pt'}).background_gradient('Greys')"
   ]
  },
  {
   "cell_type": "code",
   "execution_count": null,
   "metadata": {
    "colab": {
     "base_uri": "https://localhost:8080/"
    },
    "executionInfo": {
     "elapsed": 4107,
     "status": "ok",
     "timestamp": 1641125347570,
     "user": {
      "displayName": "Héctor",
      "photoUrl": "https://lh3.googleusercontent.com/a/default-user=s64",
      "userId": "16824592100163285665"
     },
     "user_tz": -60
    },
    "id": "kVKI-vEVBCQL",
    "outputId": "ba5079f9-dbbf-4171-dd7a-7dc67cf91909"
   },
   "outputs": [
    {
     "data": {
      "text/plain": [
       "(6131, 6265)"
      ]
     },
     "execution_count": 35,
     "metadata": {},
     "output_type": "execute_result"
    }
   ],
   "source": [
    "seven_tensors = [tensor(Image.open(num)) for num in sevens]\n",
    "three_tensors = [tensor(Image.open(num)) for num in threes]\n",
    "len(three_tensors), len(seven_tensors)"
   ]
  },
  {
   "cell_type": "code",
   "execution_count": null,
   "metadata": {
    "colab": {
     "base_uri": "https://localhost:8080/",
     "height": 102
    },
    "executionInfo": {
     "elapsed": 335,
     "status": "ok",
     "timestamp": 1639218699096,
     "user": {
      "displayName": "Héctor",
      "photoUrl": "https://lh3.googleusercontent.com/a/default-user=s64",
      "userId": "16824592100163285665"
     },
     "user_tz": -60
    },
    "id": "6tr4-RMFC45M",
    "outputId": "ea25407a-c992-4741-bd2b-6ea2bb72cee0"
   },
   "outputs": [
    {
     "data": {
      "text/plain": [
       "<matplotlib.axes._subplots.AxesSubplot at 0x7fbd55eb7950>"
      ]
     },
     "execution_count": 32,
     "metadata": {},
     "output_type": "execute_result"
    },
    {
     "data": {
      "image/png": "[encoded data removed]",
      "text/plain": [
       "<Figure size 72x72 with 1 Axes>"
      ]
     },
     "metadata": {
      "needs_background": "light"
     },
     "output_type": "display_data"
    }
   ],
   "source": [
    "show_image(three_tensors[1])"
   ]
  },
  {
   "cell_type": "code",
   "execution_count": null,
   "metadata": {
    "id": "8keH4DKlDBhz"
   },
   "outputs": [],
   "source": [
    "stacked_sevens = torch.stack(seven_tensors).float()/255\n",
    "stacked_threes = torch.stack(three_tensors).float()/255"
   ]
  },
  {
   "cell_type": "code",
   "execution_count": null,
   "metadata": {
    "colab": {
     "base_uri": "https://localhost:8080/"
    },
    "executionInfo": {
     "elapsed": 351,
     "status": "ok",
     "timestamp": 1639218886505,
     "user": {
      "displayName": "Héctor",
      "photoUrl": "https://lh3.googleusercontent.com/a/default-user=s64",
      "userId": "16824592100163285665"
     },
     "user_tz": -60
    },
    "id": "9tjX120VDwtT",
    "outputId": "bf662032-3d8b-4ab5-f190-8b00db506898"
   },
   "outputs": [
    {
     "data": {
      "text/plain": [
       "torch.Size([6131, 28, 28])"
      ]
     },
     "execution_count": 34,
     "metadata": {},
     "output_type": "execute_result"
    }
   ],
   "source": [
    "stacked_threes.shape"
   ]
  },
  {
   "cell_type": "code",
   "execution_count": null,
   "metadata": {
    "colab": {
     "base_uri": "https://localhost:8080/"
    },
    "executionInfo": {
     "elapsed": 307,
     "status": "ok",
     "timestamp": 1639218958762,
     "user": {
      "displayName": "Héctor",
      "photoUrl": "https://lh3.googleusercontent.com/a/default-user=s64",
      "userId": "16824592100163285665"
     },
     "user_tz": -60
    },
    "id": "6Z7WTkK_DzPz",
    "outputId": "dacf4609-df05-41b4-9234-1c546f0d3a1e"
   },
   "outputs": [
    {
     "data": {
      "text/plain": [
       "3"
      ]
     },
     "execution_count": 35,
     "metadata": {},
     "output_type": "execute_result"
    }
   ],
   "source": [
    "len(stacked_threes.shape)"
   ]
  },
  {
   "cell_type": "code",
   "execution_count": null,
   "metadata": {
    "colab": {
     "base_uri": "https://localhost:8080/"
    },
    "executionInfo": {
     "elapsed": 240,
     "status": "ok",
     "timestamp": 1639219022476,
     "user": {
      "displayName": "Héctor",
      "photoUrl": "https://lh3.googleusercontent.com/a/default-user=s64",
      "userId": "16824592100163285665"
     },
     "user_tz": -60
    },
    "id": "7l-6xGUgEE4j",
    "outputId": "8b342b8d-9351-4ec0-ff61-3c5cfc1c4ff9"
   },
   "outputs": [
    {
     "data": {
      "text/plain": [
       "3"
      ]
     },
     "execution_count": 36,
     "metadata": {},
     "output_type": "execute_result"
    }
   ],
   "source": [
    "stacked_threes.ndim"
   ]
  },
  {
   "cell_type": "code",
   "execution_count": null,
   "metadata": {
    "colab": {
     "base_uri": "https://localhost:8080/",
     "height": 102
    },
    "executionInfo": {
     "elapsed": 324,
     "status": "ok",
     "timestamp": 1639219106028,
     "user": {
      "displayName": "Héctor",
      "photoUrl": "https://lh3.googleusercontent.com/a/default-user=s64",
      "userId": "16824592100163285665"
     },
     "user_tz": -60
    },
    "id": "lgoTGJVJEUZ8",
    "outputId": "2c15cca3-f2e0-47e6-ac0b-18b8a2c999cb"
   },
   "outputs": [
    {
     "data": {
      "text/plain": [
       "<matplotlib.axes._subplots.AxesSubplot at 0x7fbd55bdec10>"
      ]
     },
     "execution_count": 37,
     "metadata": {},
     "output_type": "execute_result"
    },
    {
     "data": {
      "image/png": "[encoded data removed]",
      "text/plain": [
       "<Figure size 72x72 with 1 Axes>"
      ]
     },
     "metadata": {
      "needs_background": "light"
     },
     "output_type": "display_data"
    }
   ],
   "source": [
    "mean3 = stacked_threes.mean(0)\n",
    "show_image(mean3)"
   ]
  },
  {
   "cell_type": "code",
   "execution_count": null,
   "metadata": {
    "colab": {
     "base_uri": "https://localhost:8080/",
     "height": 102
    },
    "executionInfo": {
     "elapsed": 265,
     "status": "ok",
     "timestamp": 1639219183089,
     "user": {
      "displayName": "Héctor",
      "photoUrl": "https://lh3.googleusercontent.com/a/default-user=s64",
      "userId": "16824592100163285665"
     },
     "user_tz": -60
    },
    "id": "bOgoqcK6EovG",
    "outputId": "b0779ab4-3640-439b-c894-de66a9219549"
   },
   "outputs": [
    {
     "data": {
      "text/plain": [
       "<matplotlib.axes._subplots.AxesSubplot at 0x7fbd556cb5d0>"
      ]
     },
     "execution_count": 38,
     "metadata": {},
     "output_type": "execute_result"
    },
    {
     "data": {
      "image/png": "[encoded data removed]",
      "text/plain": [
       "<Figure size 72x72 with 1 Axes>"
      ]
     },
     "metadata": {
      "needs_background": "light"
     },
     "output_type": "display_data"
    }
   ],
   "source": [
    "mean7 = stacked_sevens.mean(0)\n",
    "show_image(mean7)"
   ]
  },
  {
   "cell_type": "code",
   "execution_count": null,
   "metadata": {
    "colab": {
     "base_uri": "https://localhost:8080/",
     "height": 102
    },
    "executionInfo": {
     "elapsed": 384,
     "status": "ok",
     "timestamp": 1639219237879,
     "user": {
      "displayName": "Héctor",
      "photoUrl": "https://lh3.googleusercontent.com/a/default-user=s64",
      "userId": "16824592100163285665"
     },
     "user_tz": -60
    },
    "id": "yGXqhleZE7uD",
    "outputId": "85b118e7-11cf-4e97-b5e3-be1000600a11"
   },
   "outputs": [
    {
     "data": {
      "text/plain": [
       "<matplotlib.axes._subplots.AxesSubplot at 0x7fbd556a7650>"
      ]
     },
     "execution_count": 40,
     "metadata": {},
     "output_type": "execute_result"
    },
    {
     "data": {
      "image/png": "[encoded data removed]",
      "text/plain": [
       "<Figure size 72x72 with 1 Axes>"
      ]
     },
     "metadata": {
      "needs_background": "light"
     },
     "output_type": "display_data"
    }
   ],
   "source": [
    "a_3 = stacked_threes[1]\n",
    "show_image(a_3)"
   ]
  },
  {
   "cell_type": "code",
   "execution_count": null,
   "metadata": {
    "colab": {
     "base_uri": "https://localhost:8080/"
    },
    "executionInfo": {
     "elapsed": 327,
     "status": "ok",
     "timestamp": 1639219420804,
     "user": {
      "displayName": "Héctor",
      "photoUrl": "https://lh3.googleusercontent.com/a/default-user=s64",
      "userId": "16824592100163285665"
     },
     "user_tz": -60
    },
    "id": "F7j94VmZFFkT",
    "outputId": "b4259bbb-59b1-42bc-a883-dfe9db01801c"
   },
   "outputs": [
    {
     "data": {
      "text/plain": [
       "(tensor(0.1114), tensor(0.2021))"
      ]
     },
     "execution_count": 41,
     "metadata": {},
     "output_type": "execute_result"
    }
   ],
   "source": [
    "dist_3_abs = (a_3 - mean3).abs().mean()\n",
    "dist_3_sqr = ((a_3 - mean3)**2).mean().sqrt()\n",
    "dist_3_abs,dist_3_sqr"
   ]
  },
  {
   "cell_type": "code",
   "execution_count": null,
   "metadata": {
    "colab": {
     "base_uri": "https://localhost:8080/"
    },
    "executionInfo": {
     "elapsed": 268,
     "status": "ok",
     "timestamp": 1639219478354,
     "user": {
      "displayName": "Héctor",
      "photoUrl": "https://lh3.googleusercontent.com/a/default-user=s64",
      "userId": "16824592100163285665"
     },
     "user_tz": -60
    },
    "id": "GQZvXjQIF1uL",
    "outputId": "ef07cd3e-a9a2-4fd4-c4ce-da6ddbc5d2a1"
   },
   "outputs": [
    {
     "data": {
      "text/plain": [
       "(tensor(0.1586), tensor(0.3021))"
      ]
     },
     "execution_count": 43,
     "metadata": {},
     "output_type": "execute_result"
    }
   ],
   "source": [
    "dist_7_abs = (a_3 - mean7).abs().mean()\n",
    "dist_7_sqr = ((a_3 - mean7)**2).mean().sqrt()\n",
    "dist_7_abs,dist_7_sqr"
   ]
  },
  {
   "cell_type": "code",
   "execution_count": null,
   "metadata": {
    "colab": {
     "base_uri": "https://localhost:8080/"
    },
    "executionInfo": {
     "elapsed": 324,
     "status": "ok",
     "timestamp": 1639219571860,
     "user": {
      "displayName": "Héctor",
      "photoUrl": "https://lh3.googleusercontent.com/a/default-user=s64",
      "userId": "16824592100163285665"
     },
     "user_tz": -60
    },
    "id": "J5UpPFP4F-FL",
    "outputId": "0e266cf4-4dd9-4375-9331-3621bcf088e3"
   },
   "outputs": [
    {
     "data": {
      "text/plain": [
       "(tensor(0.1586), tensor(0.3021))"
      ]
     },
     "execution_count": 44,
     "metadata": {},
     "output_type": "execute_result"
    }
   ],
   "source": [
    "F.l1_loss(a_3,mean7), F.mse_loss(a_3,mean7).sqrt()"
   ]
  },
  {
   "cell_type": "code",
   "execution_count": null,
   "metadata": {
    "id": "D-Ho8_KCGwdv"
   },
   "outputs": [],
   "source": [
    "data = [[1,2,3], [4,5,6]]\n",
    "tns = tensor(data)"
   ]
  },
  {
   "cell_type": "code",
   "execution_count": null,
   "metadata": {
    "colab": {
     "base_uri": "https://localhost:8080/",
     "height": 35
    },
    "executionInfo": {
     "elapsed": 317,
     "status": "ok",
     "timestamp": 1639223761763,
     "user": {
      "displayName": "Héctor",
      "photoUrl": "https://lh3.googleusercontent.com/a/default-user=s64",
      "userId": "16824592100163285665"
     },
     "user_tz": -60
    },
    "id": "IXk2Bp2GWWUd",
    "outputId": "efb6a59d-4c0d-44d9-c470-587e569c3cdf"
   },
   "outputs": [
    {
     "data": {
      "application/vnd.google.colaboratory.intrinsic+json": {
       "type": "string"
      },
      "text/plain": [
       "'torch.LongTensor'"
      ]
     },
     "execution_count": 48,
     "metadata": {},
     "output_type": "execute_result"
    }
   ],
   "source": [
    "tns.type()"
   ]
  },
  {
   "cell_type": "code",
   "execution_count": null,
   "metadata": {
    "colab": {
     "base_uri": "https://localhost:8080/",
     "height": 35
    },
    "executionInfo": {
     "elapsed": 249,
     "status": "ok",
     "timestamp": 1639223798446,
     "user": {
      "displayName": "Héctor",
      "photoUrl": "https://lh3.googleusercontent.com/a/default-user=s64",
      "userId": "16824592100163285665"
     },
     "user_tz": -60
    },
    "id": "XG3e9og1WZfd",
    "outputId": "ffd3563a-723e-4da8-aa86-76b6ae14f21e"
   },
   "outputs": [
    {
     "data": {
      "application/vnd.google.colaboratory.intrinsic+json": {
       "type": "string"
      },
      "text/plain": [
       "'torch.FloatTensor'"
      ]
     },
     "execution_count": 51,
     "metadata": {},
     "output_type": "execute_result"
    }
   ],
   "source": [
    "(tns*1.5).type()"
   ]
  },
  {
   "cell_type": "code",
   "execution_count": null,
   "metadata": {
    "colab": {
     "base_uri": "https://localhost:8080/"
    },
    "executionInfo": {
     "elapsed": 1074,
     "status": "ok",
     "timestamp": 1639334261934,
     "user": {
      "displayName": "Héctor",
      "photoUrl": "https://lh3.googleusercontent.com/a/default-user=s64",
      "userId": "16824592100163285665"
     },
     "user_tz": -60
    },
    "id": "1Zbosxj0Wa6f",
    "outputId": "ee464cbc-2107-4b78-9376-2dff984dc88c"
   },
   "outputs": [
    {
     "data": {
      "text/plain": [
       "(torch.Size([1010, 28, 28]), torch.Size([1028, 28, 28]))"
      ]
     },
     "execution_count": 9,
     "metadata": {},
     "output_type": "execute_result"
    }
   ],
   "source": [
    "valid_3_tens = torch.stack([tensor(Image.open(num)) for num in (path/'valid'/'3').ls()])\n",
    "valid_3_tens = valid_3_tens.float()/255\n",
    "valid_7_tens = torch.stack([tensor(Image.open(num)) for num in (path/'valid'/'7').ls()])\n",
    "valid_7_tens = valid_7_tens.float()/255\n",
    "valid_3_tens.shape, valid_7_tens.shape"
   ]
  },
  {
   "cell_type": "code",
   "execution_count": null,
   "metadata": {
    "colab": {
     "base_uri": "https://localhost:8080/"
    },
    "executionInfo": {
     "elapsed": 311,
     "status": "ok",
     "timestamp": 1639226265670,
     "user": {
      "displayName": "Héctor",
      "photoUrl": "https://lh3.googleusercontent.com/a/default-user=s64",
      "userId": "16824592100163285665"
     },
     "user_tz": -60
    },
    "id": "kmpjTx50ZIX2",
    "outputId": "62fe08bb-f643-4c4d-e6fd-84f1108129d5"
   },
   "outputs": [
    {
     "data": {
      "text/plain": [
       "tensor(0.1114)"
      ]
     },
     "execution_count": 94,
     "metadata": {},
     "output_type": "execute_result"
    }
   ],
   "source": [
    "def mnist_distance(a,b): return (a-b).abs().mean((-1,-2))\n",
    "mnist_distance(a_3, mean3)"
   ]
  },
  {
   "cell_type": "code",
   "execution_count": null,
   "metadata": {
    "colab": {
     "base_uri": "https://localhost:8080/"
    },
    "executionInfo": {
     "elapsed": 353,
     "status": "ok",
     "timestamp": 1639226280506,
     "user": {
      "displayName": "Héctor",
      "photoUrl": "https://lh3.googleusercontent.com/a/default-user=s64",
      "userId": "16824592100163285665"
     },
     "user_tz": -60
    },
    "id": "7awQWqmZZ1rb",
    "outputId": "dcc57f99-1ac4-487c-879c-4af069ec0bb3"
   },
   "outputs": [
    {
     "data": {
      "text/plain": [
       "(tensor([0.1352, 0.1244, 0.1638,  ..., 0.1380, 0.1233, 0.1379]),\n",
       " torch.Size([1010]))"
      ]
     },
     "execution_count": 95,
     "metadata": {},
     "output_type": "execute_result"
    }
   ],
   "source": [
    "valid_3_dist = mnist_distance(valid_3_tens, mean3)\n",
    "valid_3_dist, valid_3_dist.shape"
   ]
  },
  {
   "cell_type": "code",
   "execution_count": null,
   "metadata": {
    "id": "s99HvdB0fC1f"
   },
   "outputs": [],
   "source": [
    "def is_3(x): return mnist_distance(x, mean3) < mnist_distance(x, mean7)"
   ]
  },
  {
   "cell_type": "code",
   "execution_count": null,
   "metadata": {
    "colab": {
     "base_uri": "https://localhost:8080/"
    },
    "executionInfo": {
     "elapsed": 414,
     "status": "ok",
     "timestamp": 1639226573157,
     "user": {
      "displayName": "Héctor",
      "photoUrl": "https://lh3.googleusercontent.com/a/default-user=s64",
      "userId": "16824592100163285665"
     },
     "user_tz": -60
    },
    "id": "28AhTbWCg1d5",
    "outputId": "373a1643-7133-4145-b18c-818ab02e89f6"
   },
   "outputs": [
    {
     "data": {
      "text/plain": [
       "(tensor(True), tensor(1.))"
      ]
     },
     "execution_count": 100,
     "metadata": {},
     "output_type": "execute_result"
    }
   ],
   "source": [
    "is_3(a_3), is_3(a_3).float()"
   ]
  },
  {
   "cell_type": "code",
   "execution_count": null,
   "metadata": {
    "colab": {
     "base_uri": "https://localhost:8080/"
    },
    "executionInfo": {
     "elapsed": 281,
     "status": "ok",
     "timestamp": 1639226615279,
     "user": {
      "displayName": "Héctor",
      "photoUrl": "https://lh3.googleusercontent.com/a/default-user=s64",
      "userId": "16824592100163285665"
     },
     "user_tz": -60
    },
    "id": "Xz6dI13rg7dp",
    "outputId": "990ca52c-e113-436f-9ed4-fdddb5ffaa35"
   },
   "outputs": [
    {
     "data": {
      "text/plain": [
       "tensor([ True, False,  True,  ...,  True,  True,  True])"
      ]
     },
     "execution_count": 101,
     "metadata": {},
     "output_type": "execute_result"
    }
   ],
   "source": [
    "is_3(valid_3_tens)"
   ]
  },
  {
   "cell_type": "code",
   "execution_count": null,
   "metadata": {
    "colab": {
     "base_uri": "https://localhost:8080/"
    },
    "executionInfo": {
     "elapsed": 266,
     "status": "ok",
     "timestamp": 1639226783591,
     "user": {
      "displayName": "Héctor",
      "photoUrl": "https://lh3.googleusercontent.com/a/default-user=s64",
      "userId": "16824592100163285665"
     },
     "user_tz": -60
    },
    "id": "XkjE9BmEhSEm",
    "outputId": "28a9c642-4c4c-4c11-f768-cc481b9f4782"
   },
   "outputs": [
    {
     "data": {
      "text/plain": [
       "(tensor(0.9168), tensor(0.9854), tensor(0.9511))"
      ]
     },
     "execution_count": 102,
     "metadata": {},
     "output_type": "execute_result"
    }
   ],
   "source": [
    "accuracy_3s = is_3(valid_3_tens).float().mean()\n",
    "accuracy_7s = (1 - is_3(valid_7_tens).float().mean())\n",
    "\n",
    "accuracy_3s, accuracy_7s, (accuracy_3s + accuracy_7s)/2"
   ]
  },
  {
   "cell_type": "code",
   "execution_count": null,
   "metadata": {
    "id": "F5ixUrVah7TN"
   },
   "outputs": [],
   "source": [
    "xt = tensor(3.).requires_grad_()"
   ]
  },
  {
   "cell_type": "code",
   "execution_count": null,
   "metadata": {
    "id": "dTnfxaF1Q6Tb"
   },
   "outputs": [],
   "source": [
    "def f(x): return x**2"
   ]
  },
  {
   "cell_type": "code",
   "execution_count": null,
   "metadata": {
    "colab": {
     "base_uri": "https://localhost:8080/"
    },
    "executionInfo": {
     "elapsed": 322,
     "status": "ok",
     "timestamp": 1639239687667,
     "user": {
      "displayName": "Héctor",
      "photoUrl": "https://lh3.googleusercontent.com/a/default-user=s64",
      "userId": "16824592100163285665"
     },
     "user_tz": -60
    },
    "id": "8JYOyOHsTEJ1",
    "outputId": "13d9e68f-6eb3-432f-b07a-ad7c13bcb728"
   },
   "outputs": [
    {
     "data": {
      "text/plain": [
       "tensor(9., grad_fn=<PowBackward0>)"
      ]
     },
     "execution_count": 5,
     "metadata": {},
     "output_type": "execute_result"
    }
   ],
   "source": [
    "yt = f(xt)\n",
    "yt"
   ]
  },
  {
   "cell_type": "code",
   "execution_count": null,
   "metadata": {
    "id": "rti2QlQ3TJr7"
   },
   "outputs": [],
   "source": [
    "yt.backward()"
   ]
  },
  {
   "cell_type": "code",
   "execution_count": null,
   "metadata": {
    "colab": {
     "base_uri": "https://localhost:8080/"
    },
    "executionInfo": {
     "elapsed": 14,
     "status": "ok",
     "timestamp": 1639239910898,
     "user": {
      "displayName": "Héctor",
      "photoUrl": "https://lh3.googleusercontent.com/a/default-user=s64",
      "userId": "16824592100163285665"
     },
     "user_tz": -60
    },
    "id": "zlAvVZOITgPy",
    "outputId": "bc401f3e-2bb5-45a2-e393-14d87c3accfe"
   },
   "outputs": [
    {
     "data": {
      "text/plain": [
       "tensor(6.)"
      ]
     },
     "execution_count": 7,
     "metadata": {},
     "output_type": "execute_result"
    }
   ],
   "source": [
    "xt.grad"
   ]
  },
  {
   "cell_type": "code",
   "execution_count": null,
   "metadata": {
    "id": "SEecenGLUAGE"
   },
   "outputs": [],
   "source": [
    "xt = tensor([3.,4.,10.]).requires_grad_()"
   ]
  },
  {
   "cell_type": "code",
   "execution_count": null,
   "metadata": {
    "colab": {
     "base_uri": "https://localhost:8080/"
    },
    "executionInfo": {
     "elapsed": 316,
     "status": "ok",
     "timestamp": 1639240003674,
     "user": {
      "displayName": "Héctor",
      "photoUrl": "https://lh3.googleusercontent.com/a/default-user=s64",
      "userId": "16824592100163285665"
     },
     "user_tz": -60
    },
    "id": "wGC55YC6UVrL",
    "outputId": "aa16350d-8d82-4c8b-cfb1-9a45c8ec4c42"
   },
   "outputs": [
    {
     "data": {
      "text/plain": [
       "tensor([ 3.,  4., 10.], requires_grad=True)"
      ]
     },
     "execution_count": 9,
     "metadata": {},
     "output_type": "execute_result"
    }
   ],
   "source": [
    "xt"
   ]
  },
  {
   "cell_type": "code",
   "execution_count": null,
   "metadata": {
    "id": "7F-oBd1XUWzk"
   },
   "outputs": [],
   "source": [
    "def f(x): return (x**2).sum()"
   ]
  },
  {
   "cell_type": "code",
   "execution_count": null,
   "metadata": {
    "colab": {
     "base_uri": "https://localhost:8080/"
    },
    "executionInfo": {
     "elapsed": 298,
     "status": "ok",
     "timestamp": 1639240136588,
     "user": {
      "displayName": "Héctor",
      "photoUrl": "https://lh3.googleusercontent.com/a/default-user=s64",
      "userId": "16824592100163285665"
     },
     "user_tz": -60
    },
    "id": "TIzrJenyUw9b",
    "outputId": "78a43ffd-d8f5-416a-a9b5-0f0ea5c0a927"
   },
   "outputs": [
    {
     "data": {
      "text/plain": [
       "tensor(125., grad_fn=<SumBackward0>)"
      ]
     },
     "execution_count": 11,
     "metadata": {},
     "output_type": "execute_result"
    }
   ],
   "source": [
    "yt = f(xt)\n",
    "yt"
   ]
  },
  {
   "cell_type": "code",
   "execution_count": null,
   "metadata": {
    "id": "nk5FIpdKU3R7"
   },
   "outputs": [],
   "source": [
    "yt.backward()"
   ]
  },
  {
   "cell_type": "code",
   "execution_count": null,
   "metadata": {
    "colab": {
     "base_uri": "https://localhost:8080/"
    },
    "executionInfo": {
     "elapsed": 336,
     "status": "ok",
     "timestamp": 1639240224558,
     "user": {
      "displayName": "Héctor",
      "photoUrl": "https://lh3.googleusercontent.com/a/default-user=s64",
      "userId": "16824592100163285665"
     },
     "user_tz": -60
    },
    "id": "kKVPBWXQVI1J",
    "outputId": "287c89ab-f841-4d3a-8954-7827d1b09122"
   },
   "outputs": [
    {
     "data": {
      "text/plain": [
       "tensor([ 6.,  8., 20.])"
      ]
     },
     "execution_count": 13,
     "metadata": {},
     "output_type": "execute_result"
    }
   ],
   "source": [
    "xt.grad"
   ]
  },
  {
   "cell_type": "code",
   "execution_count": null,
   "metadata": {
    "colab": {
     "base_uri": "https://localhost:8080/"
    },
    "executionInfo": {
     "elapsed": 330,
     "status": "ok",
     "timestamp": 1639243212837,
     "user": {
      "displayName": "Héctor",
      "photoUrl": "https://lh3.googleusercontent.com/a/default-user=s64",
      "userId": "16824592100163285665"
     },
     "user_tz": -60
    },
    "id": "JNox9sG7VMw3",
    "outputId": "6ce90a4d-5947-491a-f511-4370a4042c95"
   },
   "outputs": [
    {
     "data": {
      "text/plain": [
       "tensor([ 0.,  1.,  2.,  3.,  4.,  5.,  6.,  7.,  8.,  9., 10., 11., 12., 13.,\n",
       "        14., 15., 16., 17., 18., 19.])"
      ]
     },
     "execution_count": 14,
     "metadata": {},
     "output_type": "execute_result"
    }
   ],
   "source": [
    "time = torch.arange(0,20).float()\n",
    "time"
   ]
  },
  {
   "cell_type": "code",
   "execution_count": null,
   "metadata": {
    "colab": {
     "base_uri": "https://localhost:8080/"
    },
    "executionInfo": {
     "elapsed": 317,
     "status": "ok",
     "timestamp": 1639243312662,
     "user": {
      "displayName": "Héctor",
      "photoUrl": "https://lh3.googleusercontent.com/a/default-user=s64",
      "userId": "16824592100163285665"
     },
     "user_tz": -60
    },
    "id": "7tfZLK6NgmM8",
    "outputId": "f545c2a7-2eb6-4b2b-abc6-fefeeac33f69"
   },
   "outputs": [
    {
     "data": {
      "text/plain": [
       "tensor([70.6534, 50.7248, 40.0643, 29.2106, 25.4191, 14.1730, 10.1968,  5.0340,\n",
       "         0.2761, -2.5499,  1.5795,  6.2874,  7.3068, 12.6951, 16.9738, 24.1165,\n",
       "        31.1309, 43.9861, 54.8268, 66.4126])"
      ]
     },
     "execution_count": 16,
     "metadata": {},
     "output_type": "execute_result"
    }
   ],
   "source": [
    "speed = torch.randn(20)*3 + 0.75*(time-9.5)**2 + 1\n",
    "speed"
   ]
  },
  {
   "cell_type": "code",
   "execution_count": null,
   "metadata": {
    "colab": {
     "base_uri": "https://localhost:8080/",
     "height": 282
    },
    "executionInfo": {
     "elapsed": 333,
     "status": "ok",
     "timestamp": 1639243385695,
     "user": {
      "displayName": "Héctor",
      "photoUrl": "https://lh3.googleusercontent.com/a/default-user=s64",
      "userId": "16824592100163285665"
     },
     "user_tz": -60
    },
    "id": "s1OSJTfdhAOy",
    "outputId": "f60fc3ed-dcde-4f81-a863-554f4cdc28ce"
   },
   "outputs": [
    {
     "data": {
      "text/plain": [
       "<matplotlib.collections.PathCollection at 0x7f79126ce990>"
      ]
     },
     "execution_count": 18,
     "metadata": {},
     "output_type": "execute_result"
    },
    {
     "data": {
      "image/png": "[encoded data removed]",
      "text/plain": [
       "<Figure size 432x288 with 1 Axes>"
      ]
     },
     "metadata": {
      "needs_background": "light"
     },
     "output_type": "display_data"
    }
   ],
   "source": [
    "plt.scatter(time,speed)"
   ]
  },
  {
   "cell_type": "code",
   "execution_count": null,
   "metadata": {
    "id": "35Yv0iR7hX0l"
   },
   "outputs": [],
   "source": [
    "def f(t, params):\n",
    "  a,b,c = params\n",
    "  return a*(t**2) + (b*t) + c"
   ]
  },
  {
   "cell_type": "code",
   "execution_count": null,
   "metadata": {
    "id": "6gv5A6_piZGd"
   },
   "outputs": [],
   "source": [
    "def mse(preds, targets): return ((preds - targets)**2).mean().sqrt()"
   ]
  },
  {
   "cell_type": "code",
   "execution_count": null,
   "metadata": {
    "id": "EbATX1U8jnyF"
   },
   "outputs": [],
   "source": [
    "params = torch.randn(3).requires_grad_()"
   ]
  },
  {
   "cell_type": "code",
   "execution_count": null,
   "metadata": {
    "colab": {
     "base_uri": "https://localhost:8080/"
    },
    "executionInfo": {
     "elapsed": 18,
     "status": "ok",
     "timestamp": 1639245860644,
     "user": {
      "displayName": "Héctor",
      "photoUrl": "https://lh3.googleusercontent.com/a/default-user=s64",
      "userId": "16824592100163285665"
     },
     "user_tz": -60
    },
    "id": "T9PRF7GymNyt",
    "outputId": "cc69512a-403b-425f-e1fb-4a6bfafa97fb"
   },
   "outputs": [
    {
     "data": {
      "text/plain": [
       "tensor([ 0.6825, -0.5224, -0.4718], requires_grad=True)"
      ]
     },
     "execution_count": 56,
     "metadata": {},
     "output_type": "execute_result"
    }
   ],
   "source": [
    "params"
   ]
  },
  {
   "cell_type": "code",
   "execution_count": null,
   "metadata": {
    "id": "9337C_LIkpiB"
   },
   "outputs": [],
   "source": [
    "preds = f(time, params)"
   ]
  },
  {
   "cell_type": "code",
   "execution_count": null,
   "metadata": {
    "colab": {
     "base_uri": "https://localhost:8080/",
     "height": 269
    },
    "executionInfo": {
     "elapsed": 508,
     "status": "ok",
     "timestamp": 1639245872058,
     "user": {
      "displayName": "Héctor",
      "photoUrl": "https://lh3.googleusercontent.com/a/default-user=s64",
      "userId": "16824592100163285665"
     },
     "user_tz": -60
    },
    "id": "dcOz2-UlkHzl",
    "outputId": "11bcaca9-8ce5-42a9-e86f-825beeb80dc4"
   },
   "outputs": [
    {
     "data": {
      "image/png": "[encoded data removed]",
      "text/plain": [
       "<Figure size 432x288 with 1 Axes>"
      ]
     },
     "metadata": {
      "needs_background": "light"
     },
     "output_type": "display_data"
    }
   ],
   "source": [
    "def show_preds(preds, ax=None):\n",
    "  if ax is None: ax = plt.subplots()[1]\n",
    "  ax.scatter(time, speed)\n",
    "  ax.scatter(time, to_np(preds), color='red')\n",
    "  ax.set_ylim(-300,100)\n",
    "\n",
    "show_preds(preds)"
   ]
  },
  {
   "cell_type": "code",
   "execution_count": null,
   "metadata": {
    "colab": {
     "base_uri": "https://localhost:8080/"
    },
    "executionInfo": {
     "elapsed": 377,
     "status": "ok",
     "timestamp": 1639245880681,
     "user": {
      "displayName": "Héctor",
      "photoUrl": "https://lh3.googleusercontent.com/a/default-user=s64",
      "userId": "16824592100163285665"
     },
     "user_tz": -60
    },
    "id": "TR_esEE1k7cU",
    "outputId": "a39886b5-065d-4ace-948a-cb0f0981815a"
   },
   "outputs": [
    {
     "data": {
      "text/plain": [
       "tensor(89.0300, grad_fn=<SqrtBackward0>)"
      ]
     },
     "execution_count": 59,
     "metadata": {},
     "output_type": "execute_result"
    }
   ],
   "source": [
    "loss = mse(preds, speed)\n",
    "loss"
   ]
  },
  {
   "cell_type": "code",
   "execution_count": null,
   "metadata": {
    "id": "hHTQ3abilxUx"
   },
   "outputs": [],
   "source": [
    "loss.backward()"
   ]
  },
  {
   "cell_type": "code",
   "execution_count": null,
   "metadata": {
    "colab": {
     "base_uri": "https://localhost:8080/"
    },
    "executionInfo": {
     "elapsed": 438,
     "status": "ok",
     "timestamp": 1639245883568,
     "user": {
      "displayName": "Héctor",
      "photoUrl": "https://lh3.googleusercontent.com/a/default-user=s64",
      "userId": "16824592100163285665"
     },
     "user_tz": -60
    },
    "id": "0R13-sXYmBoS",
    "outputId": "97c60d20-aa38-4cdd-cb17-76cac7ece6ae"
   },
   "outputs": [
    {
     "data": {
      "text/plain": [
       "tensor([161.1962,  10.3104,   0.6001])"
      ]
     },
     "execution_count": 61,
     "metadata": {},
     "output_type": "execute_result"
    }
   ],
   "source": [
    "params.grad"
   ]
  },
  {
   "cell_type": "code",
   "execution_count": null,
   "metadata": {
    "id": "sua9m_ysmFEL"
   },
   "outputs": [],
   "source": [
    "lr = 1e-5\n",
    "params.data -= lr * params.grad.data\n",
    "params.grad = None"
   ]
  },
  {
   "cell_type": "code",
   "execution_count": null,
   "metadata": {
    "colab": {
     "base_uri": "https://localhost:8080/"
    },
    "executionInfo": {
     "elapsed": 381,
     "status": "ok",
     "timestamp": 1639245888958,
     "user": {
      "displayName": "Héctor",
      "photoUrl": "https://lh3.googleusercontent.com/a/default-user=s64",
      "userId": "16824592100163285665"
     },
     "user_tz": -60
    },
    "id": "whJVHdwimIUC",
    "outputId": "caefd10e-89fb-4c54-8ffa-5bee660d773d"
   },
   "outputs": [
    {
     "data": {
      "text/plain": [
       "tensor([ 0.6809, -0.5225, -0.4718], requires_grad=True)"
      ]
     },
     "execution_count": 63,
     "metadata": {},
     "output_type": "execute_result"
    }
   ],
   "source": [
    "params"
   ]
  },
  {
   "cell_type": "code",
   "execution_count": null,
   "metadata": {
    "colab": {
     "base_uri": "https://localhost:8080/"
    },
    "executionInfo": {
     "elapsed": 326,
     "status": "ok",
     "timestamp": 1639245890863,
     "user": {
      "displayName": "Héctor",
      "photoUrl": "https://lh3.googleusercontent.com/a/default-user=s64",
      "userId": "16824592100163285665"
     },
     "user_tz": -60
    },
    "id": "aCsrLqa8mpHj",
    "outputId": "79a0ce2b-773e-4074-9d61-874a1fe24880"
   },
   "outputs": [
    {
     "data": {
      "text/plain": [
       "tensor(88.7691, grad_fn=<SqrtBackward0>)"
      ]
     },
     "execution_count": 64,
     "metadata": {},
     "output_type": "execute_result"
    }
   ],
   "source": [
    "preds = f(time, params)\n",
    "mse(preds, speed)"
   ]
  },
  {
   "cell_type": "code",
   "execution_count": null,
   "metadata": {
    "colab": {
     "base_uri": "https://localhost:8080/",
     "height": 269
    },
    "executionInfo": {
     "elapsed": 732,
     "status": "ok",
     "timestamp": 1639245894919,
     "user": {
      "displayName": "Héctor",
      "photoUrl": "https://lh3.googleusercontent.com/a/default-user=s64",
      "userId": "16824592100163285665"
     },
     "user_tz": -60
    },
    "id": "PTkRjn8zoC3F",
    "outputId": "58ec1fff-fd19-4c50-f908-b3238ac9e167"
   },
   "outputs": [
    {
     "data": {
      "image/png": "[encoded data removed]",
      "text/plain": [
       "<Figure size 432x288 with 1 Axes>"
      ]
     },
     "metadata": {
      "needs_background": "light"
     },
     "output_type": "display_data"
    }
   ],
   "source": [
    "show_preds(preds)"
   ]
  },
  {
   "cell_type": "code",
   "execution_count": null,
   "metadata": {
    "id": "jB8Rpvj4oH_t"
   },
   "outputs": [],
   "source": [
    "def apply_step(params, prn=True):\n",
    "  preds = f(time, params)\n",
    "  loss = mse(preds, speed)\n",
    "  loss.backward()\n",
    "  params.data -= lr * params.grad.data\n",
    "  params.grad = None\n",
    "  if prn: print(loss.item())\n",
    "  return preds"
   ]
  },
  {
   "cell_type": "code",
   "execution_count": null,
   "metadata": {
    "colab": {
     "base_uri": "https://localhost:8080/"
    },
    "executionInfo": {
     "elapsed": 19,
     "status": "ok",
     "timestamp": 1639245941890,
     "user": {
      "displayName": "Héctor",
      "photoUrl": "https://lh3.googleusercontent.com/a/default-user=s64",
      "userId": "16824592100163285665"
     },
     "user_tz": -60
    },
    "id": "RVS1axKeovZ9",
    "outputId": "87d27243-6bf3-4d5e-a5a6-c467432ce387"
   },
   "outputs": [
    {
     "name": "stdout",
     "output_type": "stream",
     "text": [
      "72.39315795898438\n",
      "72.14337158203125\n",
      "71.89380645751953\n",
      "71.64447021484375\n",
      "71.39537811279297\n",
      "71.1465072631836\n",
      "70.89786529541016\n",
      "70.64946746826172\n",
      "70.40132904052734\n",
      "70.15341186523438\n"
     ]
    }
   ],
   "source": [
    "for i in range(10): apply_step(params)"
   ]
  },
  {
   "cell_type": "code",
   "execution_count": null,
   "metadata": {
    "colab": {
     "base_uri": "https://localhost:8080/",
     "height": 225
    },
    "executionInfo": {
     "elapsed": 1318,
     "status": "ok",
     "timestamp": 1639245950185,
     "user": {
      "displayName": "Héctor",
      "photoUrl": "https://lh3.googleusercontent.com/a/default-user=s64",
      "userId": "16824592100163285665"
     },
     "user_tz": -60
    },
    "id": "_WxFsElOo4lt",
    "outputId": "f4bdb811-157f-4480-f04d-bfbd9b441ad1"
   },
   "outputs": [
    {
     "data": {
      "image/png": "[encoded data removed]",
      "text/plain": [
       "<Figure size 864x216 with 4 Axes>"
      ]
     },
     "metadata": {
      "needs_background": "light"
     },
     "output_type": "display_data"
    }
   ],
   "source": [
    "_,axs = plt.subplots(1,4,figsize=(12,3))\n",
    "for ax in axs: show_preds(apply_step(params, False), ax)\n",
    "plt.tight_layout()"
   ]
  },
  {
   "cell_type": "code",
   "execution_count": null,
   "metadata": {
    "id": "tJO0f7Ndp979"
   },
   "outputs": [],
   "source": [
    "unsqueeze??"
   ]
  },
  {
   "cell_type": "code",
   "execution_count": null,
   "metadata": {
    "colab": {
     "base_uri": "https://localhost:8080/"
    },
    "executionInfo": {
     "elapsed": 395,
     "status": "ok",
     "timestamp": 1639305201046,
     "user": {
      "displayName": "Héctor",
      "photoUrl": "https://lh3.googleusercontent.com/a/default-user=s64",
      "userId": "16824592100163285665"
     },
     "user_tz": -60
    },
    "id": "4IYReISMM8xB",
    "outputId": "f2f9564c-0ef4-4e77-be46-c9753e58b05b"
   },
   "outputs": [
    {
     "data": {
      "text/plain": [
       "torch.Size([6131, 28, 28])"
      ]
     },
     "execution_count": 12,
     "metadata": {},
     "output_type": "execute_result"
    }
   ],
   "source": [
    "stacked_threes.shape"
   ]
  },
  {
   "cell_type": "code",
   "execution_count": null,
   "metadata": {
    "id": "VrEEiUkRMsTM"
   },
   "outputs": [],
   "source": [
    "train_x = torch.cat([stacked_threes, stacked_sevens]).view(-1, 28*28)"
   ]
  },
  {
   "cell_type": "code",
   "execution_count": null,
   "metadata": {
    "id": "Cznx0Cm9Nlhh"
   },
   "outputs": [],
   "source": [
    "train_y = tensor([1]*len(threes) + [0]*len(sevens)).unsqueeze(1)"
   ]
  },
  {
   "cell_type": "code",
   "execution_count": null,
   "metadata": {
    "colab": {
     "base_uri": "https://localhost:8080/"
    },
    "executionInfo": {
     "elapsed": 13,
     "status": "ok",
     "timestamp": 1639334311461,
     "user": {
      "displayName": "Héctor",
      "photoUrl": "https://lh3.googleusercontent.com/a/default-user=s64",
      "userId": "16824592100163285665"
     },
     "user_tz": -60
    },
    "id": "91zxNFASPCWn",
    "outputId": "9d5f05b9-7e7a-48ee-bb6f-b6ef44d68e8a"
   },
   "outputs": [
    {
     "data": {
      "text/plain": [
       "(torch.Size([12396, 784]), torch.Size([12396, 1]))"
      ]
     },
     "execution_count": 12,
     "metadata": {},
     "output_type": "execute_result"
    }
   ],
   "source": [
    "train_x.shape, train_y.shape"
   ]
  },
  {
   "cell_type": "code",
   "execution_count": null,
   "metadata": {
    "id": "EhErW4W9PjcV"
   },
   "outputs": [],
   "source": [
    "dset = list(zip(train_x, train_y))"
   ]
  },
  {
   "cell_type": "code",
   "execution_count": null,
   "metadata": {
    "colab": {
     "base_uri": "https://localhost:8080/"
    },
    "executionInfo": {
     "elapsed": 233,
     "status": "ok",
     "timestamp": 1641125538376,
     "user": {
      "displayName": "Héctor",
      "photoUrl": "https://lh3.googleusercontent.com/a/default-user=s64",
      "userId": "16824592100163285665"
     },
     "user_tz": -60
    },
    "id": "2NFppQ-8s69g",
    "outputId": "b504a8f7-6a74-486c-f8a5-cb4a33d4a872"
   },
   "outputs": [
    {
     "data": {
      "text/plain": [
       "torch.Size([12396, 784])"
      ]
     },
     "execution_count": 42,
     "metadata": {},
     "output_type": "execute_result"
    }
   ],
   "source": [
    "train_x.shape"
   ]
  },
  {
   "cell_type": "code",
   "execution_count": null,
   "metadata": {
    "colab": {
     "base_uri": "https://localhost:8080/"
    },
    "executionInfo": {
     "elapsed": 496,
     "status": "ok",
     "timestamp": 1639306142257,
     "user": {
      "displayName": "Héctor",
      "photoUrl": "https://lh3.googleusercontent.com/a/default-user=s64",
      "userId": "16824592100163285665"
     },
     "user_tz": -60
    },
    "id": "0qvzZo1uQQuV",
    "outputId": "21bb260f-dff1-48a5-974a-c36c0b995474"
   },
   "outputs": [
    {
     "data": {
      "text/plain": [
       "(torch.Size([784]), tensor([1]))"
      ]
     },
     "execution_count": 38,
     "metadata": {},
     "output_type": "execute_result"
    }
   ],
   "source": [
    "x,y = dset[0]\n",
    "x.shape,y"
   ]
  },
  {
   "cell_type": "code",
   "execution_count": null,
   "metadata": {
    "id": "06Dx2ItbQReG"
   },
   "outputs": [],
   "source": [
    "valid_x = torch.cat([valid_3_tens, valid_7_tens]).view(-1, 28*28)\n",
    "valid_y = tensor([1]*len(valid_3_tens) + [0]*len(valid_7_tens)).unsqueeze(1)\n",
    "valid_dset = list(zip(valid_x, valid_y))"
   ]
  },
  {
   "cell_type": "code",
   "execution_count": null,
   "metadata": {
    "colab": {
     "base_uri": "https://localhost:8080/"
    },
    "executionInfo": {
     "elapsed": 6,
     "status": "ok",
     "timestamp": 1639334317028,
     "user": {
      "displayName": "Héctor",
      "photoUrl": "https://lh3.googleusercontent.com/a/default-user=s64",
      "userId": "16824592100163285665"
     },
     "user_tz": -60
    },
    "id": "vqhcg5tCRpw-",
    "outputId": "96fafb8b-a042-4d6d-97b1-b95bf6a84219"
   },
   "outputs": [
    {
     "data": {
      "text/plain": [
       "2038"
      ]
     },
     "execution_count": 15,
     "metadata": {},
     "output_type": "execute_result"
    }
   ],
   "source": [
    "len(valid_dset)"
   ]
  },
  {
   "cell_type": "code",
   "execution_count": null,
   "metadata": {
    "id": "ViCKTh-TRxkO"
   },
   "outputs": [],
   "source": [
    "def init_params(size, std=1.0): return (torch.randn(size)*std).requires_grad_()"
   ]
  },
  {
   "cell_type": "code",
   "execution_count": null,
   "metadata": {
    "id": "DPC9mg1_SdK-"
   },
   "outputs": [],
   "source": [
    "weights = init_params(28*28,1)"
   ]
  },
  {
   "cell_type": "code",
   "execution_count": null,
   "metadata": {
    "colab": {
     "base_uri": "https://localhost:8080/"
    },
    "executionInfo": {
     "elapsed": 389,
     "status": "ok",
     "timestamp": 1639306667737,
     "user": {
      "displayName": "Héctor",
      "photoUrl": "https://lh3.googleusercontent.com/a/default-user=s64",
      "userId": "16824592100163285665"
     },
     "user_tz": -60
    },
    "id": "xqqtyuSwSkG2",
    "outputId": "02b702ac-e00e-4b58-a96f-cd19cb32fdd7"
   },
   "outputs": [
    {
     "data": {
      "text/plain": [
       "torch.Size([784])"
      ]
     },
     "execution_count": 46,
     "metadata": {},
     "output_type": "execute_result"
    }
   ],
   "source": [
    "weights.shape"
   ]
  },
  {
   "cell_type": "code",
   "execution_count": null,
   "metadata": {
    "colab": {
     "base_uri": "https://localhost:8080/"
    },
    "executionInfo": {
     "elapsed": 12,
     "status": "ok",
     "timestamp": 1639306846364,
     "user": {
      "displayName": "Héctor",
      "photoUrl": "https://lh3.googleusercontent.com/a/default-user=s64",
      "userId": "16824592100163285665"
     },
     "user_tz": -60
    },
    "id": "-90C_0tCTP-a",
    "outputId": "0506a9a7-4ea9-42ab-b941-2f0d24436fbe"
   },
   "outputs": [
    {
     "data": {
      "text/plain": [
       "torch.Size([1])"
      ]
     },
     "execution_count": 47,
     "metadata": {},
     "output_type": "execute_result"
    }
   ],
   "source": [
    "bias = init_params(1)\n",
    "bias.shape"
   ]
  },
  {
   "cell_type": "code",
   "execution_count": null,
   "metadata": {
    "colab": {
     "base_uri": "https://localhost:8080/"
    },
    "executionInfo": {
     "elapsed": 393,
     "status": "ok",
     "timestamp": 1639306953227,
     "user": {
      "displayName": "Héctor",
      "photoUrl": "https://lh3.googleusercontent.com/a/default-user=s64",
      "userId": "16824592100163285665"
     },
     "user_tz": -60
    },
    "id": "w4zURG97TYX-",
    "outputId": "ebd81ef3-e7f3-4165-ec2d-3fd89446ac17"
   },
   "outputs": [
    {
     "data": {
      "text/plain": [
       "(torch.Size([784]), torch.Size([784]), torch.Size([1]))"
      ]
     },
     "execution_count": 50,
     "metadata": {},
     "output_type": "execute_result"
    }
   ],
   "source": [
    "train_x[0].shape, weights.shape, bias.shape"
   ]
  },
  {
   "cell_type": "code",
   "execution_count": null,
   "metadata": {
    "colab": {
     "base_uri": "https://localhost:8080/"
    },
    "executionInfo": {
     "elapsed": 396,
     "status": "ok",
     "timestamp": 1639307058953,
     "user": {
      "displayName": "Héctor",
      "photoUrl": "https://lh3.googleusercontent.com/a/default-user=s64",
      "userId": "16824592100163285665"
     },
     "user_tz": -60
    },
    "id": "ul6TP-RiTsoO",
    "outputId": "451a35b0-0f44-44e7-b257-ad0b65bd4151"
   },
   "outputs": [
    {
     "data": {
      "text/plain": [
       "tensor([4.9366], grad_fn=<AddBackward0>)"
      ]
     },
     "execution_count": 55,
     "metadata": {},
     "output_type": "execute_result"
    }
   ],
   "source": [
    "(train_x[0]*weights.T).sum() + bias"
   ]
  },
  {
   "cell_type": "code",
   "execution_count": null,
   "metadata": {
    "colab": {
     "base_uri": "https://localhost:8080/"
    },
    "executionInfo": {
     "elapsed": 306,
     "status": "ok",
     "timestamp": 1639334365638,
     "user": {
      "displayName": "Héctor",
      "photoUrl": "https://lh3.googleusercontent.com/a/default-user=s64",
      "userId": "16824592100163285665"
     },
     "user_tz": -60
    },
    "id": "HY6rVgScT2m2",
    "outputId": "112166a5-ef75-482a-fe57-0e9562afc9c7"
   },
   "outputs": [
    {
     "data": {
      "text/plain": [
       "tensor([ 5.2219,  2.7728,  5.9356,  ..., 10.7256,  7.3352,  6.1192],\n",
       "       grad_fn=<AddBackward0>)"
      ]
     },
     "execution_count": 20,
     "metadata": {},
     "output_type": "execute_result"
    }
   ],
   "source": [
    "def linear1(xb): return xb@weights + bias\n",
    "preds = linear1(train_x)\n",
    "preds"
   ]
  },
  {
   "cell_type": "code",
   "execution_count": null,
   "metadata": {
    "colab": {
     "base_uri": "https://localhost:8080/"
    },
    "executionInfo": {
     "elapsed": 436,
     "status": "ok",
     "timestamp": 1639307666922,
     "user": {
      "displayName": "Héctor",
      "photoUrl": "https://lh3.googleusercontent.com/a/default-user=s64",
      "userId": "16824592100163285665"
     },
     "user_tz": -60
    },
    "id": "5T5frRDdVhMl",
    "outputId": "fdeb7afa-62e7-45dc-f55f-f861ded5e704"
   },
   "outputs": [
    {
     "data": {
      "text/plain": [
       "tensor([[ True, False, False,  ..., False,  True, False],\n",
       "        [ True, False, False,  ..., False,  True, False],\n",
       "        [ True, False, False,  ..., False,  True, False],\n",
       "        ...,\n",
       "        [False,  True,  True,  ...,  True, False,  True],\n",
       "        [False,  True,  True,  ...,  True, False,  True],\n",
       "        [False,  True,  True,  ...,  True, False,  True]])"
      ]
     },
     "execution_count": 59,
     "metadata": {},
     "output_type": "execute_result"
    }
   ],
   "source": [
    "corrects = (preds>0.0).float() == train_y\n",
    "corrects"
   ]
  },
  {
   "cell_type": "code",
   "execution_count": null,
   "metadata": {
    "colab": {
     "base_uri": "https://localhost:8080/"
    },
    "executionInfo": {
     "elapsed": 556,
     "status": "ok",
     "timestamp": 1639307711757,
     "user": {
      "displayName": "Héctor",
      "photoUrl": "https://lh3.googleusercontent.com/a/default-user=s64",
      "userId": "16824592100163285665"
     },
     "user_tz": -60
    },
    "id": "UsJMuJoTWG3s",
    "outputId": "8ae5d652-251d-4782-aa18-4aa8e27f68ea"
   },
   "outputs": [
    {
     "data": {
      "text/plain": [
       "0.5007569193840027"
      ]
     },
     "execution_count": 62,
     "metadata": {},
     "output_type": "execute_result"
    }
   ],
   "source": [
    "corrects.float().mean().item()"
   ]
  },
  {
   "cell_type": "code",
   "execution_count": null,
   "metadata": {
    "id": "B1TN-SpKWiFe"
   },
   "outputs": [],
   "source": [
    "trgts = tensor([1,0,1])\n",
    "preds = tensor([0.9,0.4,0.2])"
   ]
  },
  {
   "cell_type": "code",
   "execution_count": null,
   "metadata": {
    "id": "q22cXqAjW872"
   },
   "outputs": [],
   "source": [
    "def mnist_loss(predictions, targets): \n",
    "  return torch.where(targets==1, 1-predictions, predictions).mean()"
   ]
  },
  {
   "cell_type": "code",
   "execution_count": null,
   "metadata": {
    "colab": {
     "base_uri": "https://localhost:8080/"
    },
    "executionInfo": {
     "elapsed": 358,
     "status": "ok",
     "timestamp": 1641124346477,
     "user": {
      "displayName": "Héctor",
      "photoUrl": "https://lh3.googleusercontent.com/a/default-user=s64",
      "userId": "16824592100163285665"
     },
     "user_tz": -60
    },
    "id": "TxhJ38F9e9x1",
    "outputId": "47e26960-13bc-4201-a5e0-1005a7ed6bc2"
   },
   "outputs": [
    {
     "data": {
      "text/plain": [
       "tensor(0.4333)"
      ]
     },
     "execution_count": 8,
     "metadata": {},
     "output_type": "execute_result"
    }
   ],
   "source": [
    "mnist_loss(preds, trgts)"
   ]
  },
  {
   "cell_type": "code",
   "execution_count": null,
   "metadata": {
    "colab": {
     "base_uri": "https://localhost:8080/"
    },
    "executionInfo": {
     "elapsed": 276,
     "status": "ok",
     "timestamp": 1641124578033,
     "user": {
      "displayName": "Héctor",
      "photoUrl": "https://lh3.googleusercontent.com/a/default-user=s64",
      "userId": "16824592100163285665"
     },
     "user_tz": -60
    },
    "id": "abmQkAc9ochX",
    "outputId": "72393fdd-7f16-4ef2-9f6e-4aa8c096f0a1"
   },
   "outputs": [
    {
     "data": {
      "text/plain": [
       "tensor([0.1000, 0.4000, 0.8000])"
      ]
     },
     "execution_count": 13,
     "metadata": {},
     "output_type": "execute_result"
    }
   ],
   "source": [
    "torch.where(trgts==1, 1-preds, preds)"
   ]
  },
  {
   "cell_type": "code",
   "execution_count": null,
   "metadata": {
    "colab": {
     "base_uri": "https://localhost:8080/"
    },
    "executionInfo": {
     "elapsed": 297,
     "status": "ok",
     "timestamp": 1641124408466,
     "user": {
      "displayName": "Héctor",
      "photoUrl": "https://lh3.googleusercontent.com/a/default-user=s64",
      "userId": "16824592100163285665"
     },
     "user_tz": -60
    },
    "id": "v81rDiCqoclj",
    "outputId": "f97ca723-a43a-4a1f-fce3-1b1d18f82723"
   },
   "outputs": [
    {
     "data": {
      "text/plain": [
       "tensor([ True, False,  True])"
      ]
     },
     "execution_count": 10,
     "metadata": {},
     "output_type": "execute_result"
    }
   ],
   "source": [
    "trgts==1"
   ]
  },
  {
   "cell_type": "code",
   "execution_count": null,
   "metadata": {
    "colab": {
     "base_uri": "https://localhost:8080/"
    },
    "executionInfo": {
     "elapsed": 221,
     "status": "ok",
     "timestamp": 1641125002072,
     "user": {
      "displayName": "Héctor",
      "photoUrl": "https://lh3.googleusercontent.com/a/default-user=s64",
      "userId": "16824592100163285665"
     },
     "user_tz": -60
    },
    "id": "d9o-vMyWocqS",
    "outputId": "38ea13ac-02b7-407d-d7f8-cde6ffd80460"
   },
   "outputs": [
    {
     "data": {
      "text/plain": [
       "tensor([0.9002, 0.4013, 0.0219])"
      ]
     },
     "execution_count": 30,
     "metadata": {},
     "output_type": "execute_result"
    }
   ],
   "source": [
    "tensor([2.2, -0.4, -3.8]).sigmoid()"
   ]
  },
  {
   "cell_type": "code",
   "execution_count": null,
   "metadata": {
    "colab": {
     "base_uri": "https://localhost:8080/"
    },
    "executionInfo": {
     "elapsed": 320,
     "status": "ok",
     "timestamp": 1641125042523,
     "user": {
      "displayName": "Héctor",
      "photoUrl": "https://lh3.googleusercontent.com/a/default-user=s64",
      "userId": "16824592100163285665"
     },
     "user_tz": -60
    },
    "id": "5dGQeiOHocvQ",
    "outputId": "243fcf00-9c93-407d-a5e8-045993844e33"
   },
   "outputs": [
    {
     "data": {
      "text/plain": [
       "tensor([0.9002, 0.5000, 0.0219])"
      ]
     },
     "execution_count": 33,
     "metadata": {},
     "output_type": "execute_result"
    }
   ],
   "source": [
    "tensor([2.2, 0, -3.8]).sigmoid()"
   ]
  },
  {
   "cell_type": "code",
   "execution_count": null,
   "metadata": {
    "colab": {
     "base_uri": "https://localhost:8080/"
    },
    "executionInfo": {
     "elapsed": 231,
     "status": "ok",
     "timestamp": 1641127803964,
     "user": {
      "displayName": "Héctor",
      "photoUrl": "https://lh3.googleusercontent.com/a/default-user=s64",
      "userId": "16824592100163285665"
     },
     "user_tz": -60
    },
    "id": "mNPzPfp1oczZ",
    "outputId": "f831145c-d05f-4ff8-f214-5b107ac3904e"
   },
   "outputs": [
    {
     "data": {
      "text/plain": [
       "tensor([0.9287, 0.0690, 0.0023])"
      ]
     },
     "execution_count": 69,
     "metadata": {},
     "output_type": "execute_result"
    }
   ],
   "source": [
    "torch.softmax(tensor([2.2, -0.4, -3.8]), dim=0)"
   ]
  },
  {
   "cell_type": "code",
   "execution_count": null,
   "metadata": {
    "colab": {
     "base_uri": "https://localhost:8080/"
    },
    "executionInfo": {
     "elapsed": 7,
     "status": "ok",
     "timestamp": 1641127832410,
     "user": {
      "displayName": "Héctor",
      "photoUrl": "https://lh3.googleusercontent.com/a/default-user=s64",
      "userId": "16824592100163285665"
     },
     "user_tz": -60
    },
    "id": "yBJXg9Y7odI2",
    "outputId": "119023e8-056b-43e1-9e1a-6e6ad5571eea"
   },
   "outputs": [
    {
     "data": {
      "text/plain": [
       "tensor(1.)"
      ]
     },
     "execution_count": 70,
     "metadata": {},
     "output_type": "execute_result"
    }
   ],
   "source": [
    "torch.softmax(tensor([2.2, -0.4, -3.8]), dim=0).sum()"
   ]
  },
  {
   "cell_type": "code",
   "execution_count": null,
   "metadata": {
    "colab": {
     "base_uri": "https://localhost:8080/"
    },
    "executionInfo": {
     "elapsed": 435,
     "status": "ok",
     "timestamp": 1639310744186,
     "user": {
      "displayName": "Héctor",
      "photoUrl": "https://lh3.googleusercontent.com/a/default-user=s64",
      "userId": "16824592100163285665"
     },
     "user_tz": -60
    },
    "id": "beXYhhE3gEim",
    "outputId": "36104e99-0a31-4cc9-a80f-d319f08dfe7b"
   },
   "outputs": [
    {
     "data": {
      "text/plain": [
       "tensor(0.2333)"
      ]
     },
     "execution_count": 82,
     "metadata": {},
     "output_type": "execute_result"
    }
   ],
   "source": [
    "mnist_loss(tensor([0.9,0.4,0.8]), trgts)"
   ]
  },
  {
   "cell_type": "code",
   "execution_count": null,
   "metadata": {
    "id": "y26upmaVjHr-"
   },
   "outputs": [],
   "source": [
    "def mnist_loss(predictions, targets):\n",
    "  predictions = predictions.sigmoid() \n",
    "  return torch.where(targets==1, 1-predictions, predictions).mean()"
   ]
  },
  {
   "cell_type": "code",
   "execution_count": null,
   "metadata": {
    "colab": {
     "base_uri": "https://localhost:8080/"
    },
    "executionInfo": {
     "elapsed": 340,
     "status": "ok",
     "timestamp": 1639330007589,
     "user": {
      "displayName": "Héctor",
      "photoUrl": "https://lh3.googleusercontent.com/a/default-user=s64",
      "userId": "16824592100163285665"
     },
     "user_tz": -60
    },
    "id": "RFkrV169kmV-",
    "outputId": "be6077f1-9ec3-48ed-8d25-591fa1f8a00e"
   },
   "outputs": [
    {
     "data": {
      "text/plain": [
       "[tensor([ 0, 12,  7,  5, 11]),\n",
       " tensor([14,  8,  6, 13,  4]),\n",
       " tensor([ 1, 10,  2,  3,  9])]"
      ]
     },
     "execution_count": 11,
     "metadata": {},
     "output_type": "execute_result"
    }
   ],
   "source": [
    "coll = range(15)\n",
    "dl = DataLoader(coll, batch_size=5, shuffle=True)\n",
    "list(dl)"
   ]
  },
  {
   "cell_type": "code",
   "execution_count": null,
   "metadata": {
    "colab": {
     "base_uri": "https://localhost:8080/"
    },
    "executionInfo": {
     "elapsed": 341,
     "status": "ok",
     "timestamp": 1639330724601,
     "user": {
      "displayName": "Héctor",
      "photoUrl": "https://lh3.googleusercontent.com/a/default-user=s64",
      "userId": "16824592100163285665"
     },
     "user_tz": -60
    },
    "id": "le5Leu-KrXeM",
    "outputId": "32e74eba-3c66-4e90-a5bb-5978147dd573"
   },
   "outputs": [
    {
     "data": {
      "text/plain": [
       "(#26) [(0, 'a'),(1, 'b'),(2, 'c'),(3, 'd'),(4, 'e'),(5, 'f'),(6, 'g'),(7, 'h'),(8, 'i'),(9, 'j')...]"
      ]
     },
     "execution_count": 18,
     "metadata": {},
     "output_type": "execute_result"
    }
   ],
   "source": [
    "ds = L(enumerate(string.ascii_lowercase))\n",
    "ds"
   ]
  },
  {
   "cell_type": "code",
   "execution_count": null,
   "metadata": {
    "colab": {
     "base_uri": "https://localhost:8080/"
    },
    "executionInfo": {
     "elapsed": 347,
     "status": "ok",
     "timestamp": 1639330777827,
     "user": {
      "displayName": "Héctor",
      "photoUrl": "https://lh3.googleusercontent.com/a/default-user=s64",
      "userId": "16824592100163285665"
     },
     "user_tz": -60
    },
    "id": "WntywyZertVc",
    "outputId": "619672be-9bcc-49bd-eb4a-a3946adc72a4"
   },
   "outputs": [
    {
     "data": {
      "text/plain": [
       "[(tensor([25,  6,  0,  4, 24,  8]), ('z', 'g', 'a', 'e', 'y', 'i')),\n",
       " (tensor([22, 14,  2, 13,  7, 17]), ('w', 'o', 'c', 'n', 'h', 'r')),\n",
       " (tensor([10,  3,  1, 15, 21, 18]), ('k', 'd', 'b', 'p', 'v', 's')),\n",
       " (tensor([20, 12, 11,  5, 23, 19]), ('u', 'm', 'l', 'f', 'x', 't')),\n",
       " (tensor([ 9, 16]), ('j', 'q'))]"
      ]
     },
     "execution_count": 19,
     "metadata": {},
     "output_type": "execute_result"
    }
   ],
   "source": [
    "dl = DataLoader(ds, batch_size=6, shuffle=True)\n",
    "list(dl)"
   ]
  },
  {
   "cell_type": "code",
   "execution_count": null,
   "metadata": {
    "colab": {
     "base_uri": "https://localhost:8080/"
    },
    "executionInfo": {
     "elapsed": 2775,
     "status": "ok",
     "timestamp": 1640169589216,
     "user": {
      "displayName": "Héctor",
      "photoUrl": "https://lh3.googleusercontent.com/a/default-user=s64",
      "userId": "16824592100163285665"
     },
     "user_tz": -60
    },
    "id": "gXIpc5xjuXCv",
    "outputId": "cda9ff8d-f821-4c01-f6a4-8c34b8542b3f"
   },
   "outputs": [
    {
     "name": "stdout",
     "output_type": "stream",
     "text": [
      "Name: fastai\n",
      "Version: 1.0.61\n",
      "Summary: fastai makes deep learning with PyTorch faster, more accurate, and easier\n",
      "Home-page: https://github.com/fastai/fastai\n",
      "Author: Jeremy Howard\n",
      "Author-email: info@fast.ai\n",
      "License: Apache Software License 2.0\n",
      "Location: /usr/local/lib/python3.7/dist-packages\n",
      "Requires: beautifulsoup4, numpy, packaging, pandas, spacy, nvidia-ml-py3, pyyaml, numexpr, torch, matplotlib, Pillow, requests, torchvision, scipy, bottleneck, fastprogress\n",
      "Required-by: \n"
     ]
    }
   ],
   "source": [
    "!pip show fastai"
   ]
  },
  {
   "cell_type": "markdown",
   "metadata": {
    "id": "bnfwdbJUwiy6"
   },
   "source": [
    "### Training loop for a model using SGD"
   ]
  },
  {
   "cell_type": "code",
   "execution_count": null,
   "metadata": {
    "id": "_LS0SvM2vFLs"
   },
   "outputs": [],
   "source": [
    "##inicializar los parámetros\n",
    "weights = init_params(28*28, 1)\n",
    "bias = init_params(1)"
   ]
  },
  {
   "cell_type": "code",
   "execution_count": null,
   "metadata": {
    "colab": {
     "base_uri": "https://localhost:8080/"
    },
    "executionInfo": {
     "elapsed": 327,
     "status": "ok",
     "timestamp": 1641125627641,
     "user": {
      "displayName": "Héctor",
      "photoUrl": "https://lh3.googleusercontent.com/a/default-user=s64",
      "userId": "16824592100163285665"
     },
     "user_tz": -60
    },
    "id": "kv_Xco6IxAYy",
    "outputId": "a4ee8c5e-932b-4cf3-e90f-d17706978c20"
   },
   "outputs": [
    {
     "data": {
      "text/plain": [
       "(torch.Size([256, 784]), torch.Size([256, 1]))"
      ]
     },
     "execution_count": 45,
     "metadata": {},
     "output_type": "execute_result"
    }
   ],
   "source": [
    "dl = DataLoader(dset, batch_size=256)\n",
    "xb,yb = first(dl)\n",
    "xb.shape,yb.shape"
   ]
  },
  {
   "cell_type": "code",
   "execution_count": null,
   "metadata": {
    "id": "CJSWwJIqx2G_"
   },
   "outputs": [],
   "source": [
    "valid_dl = DataLoader(valid_dset, batch_size=256)"
   ]
  },
  {
   "cell_type": "code",
   "execution_count": null,
   "metadata": {
    "colab": {
     "base_uri": "https://localhost:8080/"
    },
    "executionInfo": {
     "elapsed": 5,
     "status": "ok",
     "timestamp": 1639334373629,
     "user": {
      "displayName": "Héctor",
      "photoUrl": "https://lh3.googleusercontent.com/a/default-user=s64",
      "userId": "16824592100163285665"
     },
     "user_tz": -60
    },
    "id": "c1wIYaWlypYo",
    "outputId": "0ee08646-3ee3-4b62-a7f1-0908294e7a7f"
   },
   "outputs": [
    {
     "data": {
      "text/plain": [
       "torch.Size([4, 784])"
      ]
     },
     "execution_count": 23,
     "metadata": {},
     "output_type": "execute_result"
    }
   ],
   "source": [
    "batch = train_x[:4]\n",
    "batch.shape"
   ]
  },
  {
   "cell_type": "code",
   "execution_count": null,
   "metadata": {
    "colab": {
     "base_uri": "https://localhost:8080/"
    },
    "executionInfo": {
     "elapsed": 7,
     "status": "ok",
     "timestamp": 1639334374127,
     "user": {
      "displayName": "Héctor",
      "photoUrl": "https://lh3.googleusercontent.com/a/default-user=s64",
      "userId": "16824592100163285665"
     },
     "user_tz": -60
    },
    "id": "FN11snRKy1jL",
    "outputId": "8e130823-b90c-448d-f302-235f4a0a7cca"
   },
   "outputs": [
    {
     "data": {
      "text/plain": [
       "tensor([5.2219, 2.7728, 5.9356, 9.1121], grad_fn=<AddBackward0>)"
      ]
     },
     "execution_count": 24,
     "metadata": {},
     "output_type": "execute_result"
    }
   ],
   "source": [
    "preds = linear1(batch)\n",
    "preds"
   ]
  },
  {
   "cell_type": "code",
   "execution_count": null,
   "metadata": {
    "colab": {
     "base_uri": "https://localhost:8080/"
    },
    "executionInfo": {
     "elapsed": 17,
     "status": "ok",
     "timestamp": 1639334374703,
     "user": {
      "displayName": "Héctor",
      "photoUrl": "https://lh3.googleusercontent.com/a/default-user=s64",
      "userId": "16824592100163285665"
     },
     "user_tz": -60
    },
    "id": "to12r03gzOoF",
    "outputId": "3c8b8002-603b-44c1-fccb-8d1328e1d182"
   },
   "outputs": [
    {
     "data": {
      "text/plain": [
       "tensor(0.0167, grad_fn=<MeanBackward0>)"
      ]
     },
     "execution_count": 25,
     "metadata": {},
     "output_type": "execute_result"
    }
   ],
   "source": [
    "loss = mnist_loss(preds, train_y[:4])\n",
    "loss"
   ]
  },
  {
   "cell_type": "code",
   "execution_count": null,
   "metadata": {
    "id": "Ysy4cWMVzk31"
   },
   "outputs": [],
   "source": [
    "loss.backward()"
   ]
  },
  {
   "cell_type": "code",
   "execution_count": null,
   "metadata": {
    "colab": {
     "base_uri": "https://localhost:8080/"
    },
    "executionInfo": {
     "elapsed": 22,
     "status": "ok",
     "timestamp": 1639334375880,
     "user": {
      "displayName": "Héctor",
      "photoUrl": "https://lh3.googleusercontent.com/a/default-user=s64",
      "userId": "16824592100163285665"
     },
     "user_tz": -60
    },
    "id": "6iKxphO9zqU_",
    "outputId": "dd1ea576-81f4-4889-f340-a773d1c94c1a"
   },
   "outputs": [
    {
     "data": {
      "text/plain": [
       "(torch.Size([784]), tensor(-0.0023), tensor([-0.0159]))"
      ]
     },
     "execution_count": 27,
     "metadata": {},
     "output_type": "execute_result"
    }
   ],
   "source": [
    "weights.grad.shape, weights.grad.mean(), bias.grad"
   ]
  },
  {
   "cell_type": "code",
   "execution_count": null,
   "metadata": {
    "id": "KNYWYxhJz7KN"
   },
   "outputs": [],
   "source": [
    "def calc_grad(xb,yb, model):\n",
    "  preds = model(xb)\n",
    "  loss = mnist_loss(preds, yb)\n",
    "  loss.backward()"
   ]
  },
  {
   "cell_type": "code",
   "execution_count": null,
   "metadata": {
    "colab": {
     "base_uri": "https://localhost:8080/"
    },
    "executionInfo": {
     "elapsed": 21,
     "status": "ok",
     "timestamp": 1639334377912,
     "user": {
      "displayName": "Héctor",
      "photoUrl": "https://lh3.googleusercontent.com/a/default-user=s64",
      "userId": "16824592100163285665"
     },
     "user_tz": -60
    },
    "id": "sgbRe84t0sLU",
    "outputId": "a1eded08-1096-424c-dd54-1756de263c14"
   },
   "outputs": [
    {
     "data": {
      "text/plain": [
       "(tensor(-0.0045), tensor([-0.0317]))"
      ]
     },
     "execution_count": 29,
     "metadata": {},
     "output_type": "execute_result"
    }
   ],
   "source": [
    "calc_grad(batch, train_y[:4], linear1)\n",
    "weights.grad.mean(), bias.grad"
   ]
  },
  {
   "cell_type": "code",
   "execution_count": null,
   "metadata": {
    "colab": {
     "base_uri": "https://localhost:8080/"
    },
    "executionInfo": {
     "elapsed": 400,
     "status": "ok",
     "timestamp": 1639334381612,
     "user": {
      "displayName": "Héctor",
      "photoUrl": "https://lh3.googleusercontent.com/a/default-user=s64",
      "userId": "16824592100163285665"
     },
     "user_tz": -60
    },
    "id": "_ogPc3kc1GNm",
    "outputId": "834ae954-ea69-48ef-b916-6b3074e35ae3"
   },
   "outputs": [
    {
     "data": {
      "text/plain": [
       "tensor([0.])"
      ]
     },
     "execution_count": 30,
     "metadata": {},
     "output_type": "execute_result"
    }
   ],
   "source": [
    "## reiniciar los grads\n",
    "weights.grad.zero_()\n",
    "bias.grad.zero_()"
   ]
  },
  {
   "cell_type": "code",
   "execution_count": null,
   "metadata": {
    "id": "lYl3_qZd60c7"
   },
   "outputs": [],
   "source": [
    "def train_epoch(model, lr, params):\n",
    "  for xb,yb in dl:\n",
    "    calc_grad(xb, yb, model)\n",
    "    for p in params:\n",
    "      p.data -= p.grad*lr\n",
    "      p.grad.zero_()"
   ]
  },
  {
   "cell_type": "code",
   "execution_count": null,
   "metadata": {
    "colab": {
     "base_uri": "https://localhost:8080/"
    },
    "executionInfo": {
     "elapsed": 22,
     "status": "ok",
     "timestamp": 1639334784148,
     "user": {
      "displayName": "Héctor",
      "photoUrl": "https://lh3.googleusercontent.com/a/default-user=s64",
      "userId": "16824592100163285665"
     },
     "user_tz": -60
    },
    "id": "QaHSWVaL82Rw",
    "outputId": "24a76534-47e9-4747-be86-8dff963ccb0a"
   },
   "outputs": [
    {
     "data": {
      "text/plain": [
       "tensor([[True, True, True, True]])"
      ]
     },
     "execution_count": 39,
     "metadata": {},
     "output_type": "execute_result"
    }
   ],
   "source": [
    "(preds>0.5).float() == train_y[:4].T"
   ]
  },
  {
   "cell_type": "code",
   "execution_count": null,
   "metadata": {
    "id": "QX_qhxLs9ovt"
   },
   "outputs": [],
   "source": [
    "def batch_accuracy(xb,yb):\n",
    "  preds = xb.sigmoid()\n",
    "  correct = (preds>0.5) == yb\n",
    "  return correct.float().mean()"
   ]
  },
  {
   "cell_type": "code",
   "execution_count": null,
   "metadata": {
    "colab": {
     "base_uri": "https://localhost:8080/"
    },
    "executionInfo": {
     "elapsed": 318,
     "status": "ok",
     "timestamp": 1639335446770,
     "user": {
      "displayName": "Héctor",
      "photoUrl": "https://lh3.googleusercontent.com/a/default-user=s64",
      "userId": "16824592100163285665"
     },
     "user_tz": -60
    },
    "id": "DzJAYO6qAPbJ",
    "outputId": "a26bea7f-c139-4523-faa1-70ed81d45fa9"
   },
   "outputs": [
    {
     "data": {
      "text/plain": [
       "tensor(1.)"
      ]
     },
     "execution_count": 52,
     "metadata": {},
     "output_type": "execute_result"
    }
   ],
   "source": [
    "batch_accuracy(linear1(batch), train_y[:4])"
   ]
  },
  {
   "cell_type": "code",
   "execution_count": null,
   "metadata": {
    "id": "C1lrgPbYAcU6"
   },
   "outputs": [],
   "source": [
    "def validate_epoch(model):\n",
    "  accs = [batch_accuracy(model(xb), yb) for xb,yb in valid_dl]\n",
    "  return round(torch.stack(accs).mean().item(), 4)"
   ]
  },
  {
   "cell_type": "code",
   "execution_count": null,
   "metadata": {
    "colab": {
     "base_uri": "https://localhost:8080/"
    },
    "executionInfo": {
     "elapsed": 389,
     "status": "ok",
     "timestamp": 1639335802619,
     "user": {
      "displayName": "Héctor",
      "photoUrl": "https://lh3.googleusercontent.com/a/default-user=s64",
      "userId": "16824592100163285665"
     },
     "user_tz": -60
    },
    "id": "30NzUWxlBCrW",
    "outputId": "88c068a6-5d26-4a44-b35e-4a54d70400a1"
   },
   "outputs": [
    {
     "data": {
      "text/plain": [
       "0.4796"
      ]
     },
     "execution_count": 56,
     "metadata": {},
     "output_type": "execute_result"
    }
   ],
   "source": [
    "validate_epoch(linear1)"
   ]
  },
  {
   "cell_type": "code",
   "execution_count": null,
   "metadata": {
    "colab": {
     "base_uri": "https://localhost:8080/"
    },
    "executionInfo": {
     "elapsed": 322,
     "status": "ok",
     "timestamp": 1639335950794,
     "user": {
      "displayName": "Héctor",
      "photoUrl": "https://lh3.googleusercontent.com/a/default-user=s64",
      "userId": "16824592100163285665"
     },
     "user_tz": -60
    },
    "id": "-OMVMcv0BzO7",
    "outputId": "0cae7a60-e4c0-4849-a344-184311d5d736"
   },
   "outputs": [
    {
     "data": {
      "text/plain": [
       "0.7806"
      ]
     },
     "execution_count": 58,
     "metadata": {},
     "output_type": "execute_result"
    }
   ],
   "source": [
    "## Entrenamiento para one epoch\n",
    "lr = 1\n",
    "params = weights, bias\n",
    "train_epoch(linear1, lr, params)\n",
    "validate_epoch(linear1)"
   ]
  },
  {
   "cell_type": "code",
   "execution_count": null,
   "metadata": {
    "colab": {
     "base_uri": "https://localhost:8080/"
    },
    "executionInfo": {
     "elapsed": 2380,
     "status": "ok",
     "timestamp": 1639336021145,
     "user": {
      "displayName": "Héctor",
      "photoUrl": "https://lh3.googleusercontent.com/a/default-user=s64",
      "userId": "16824592100163285665"
     },
     "user_tz": -60
    },
    "id": "EZfincDkCVE-",
    "outputId": "20fd0093-fb93-4c06-ce43-7e63ec7912e5"
   },
   "outputs": [
    {
     "name": "stdout",
     "output_type": "stream",
     "text": [
      "0.8849 0.913 0.9282 0.9388 0.9407 0.944 0.9465 0.9498 0.9512 0.9527 0.9546 0.9546 0.9546 0.9556 0.9571 0.958 0.958 0.9585 0.9594 0.9589 "
     ]
    }
   ],
   "source": [
    "for i in range(20):\n",
    "  train_epoch(linear1, lr, params)\n",
    "  print(validate_epoch(linear1), end=' ')"
   ]
  },
  {
   "cell_type": "code",
   "execution_count": null,
   "metadata": {
    "id": "-haAZHWLCoGX"
   },
   "outputs": [],
   "source": [
    "## con las clases de fastai y pytorch, en unas pocas líneas se tiene lo mismo"
   ]
  },
  {
   "cell_type": "code",
   "execution_count": null,
   "metadata": {
    "id": "kWQYIVOwOYln"
   },
   "outputs": [],
   "source": [
    "dls = DataLoaders(dl, valid_dl)"
   ]
  },
  {
   "cell_type": "code",
   "execution_count": null,
   "metadata": {
    "id": "IWkZPWAROhvw"
   },
   "outputs": [],
   "source": [
    "learn = Learner(dls, nn.Linear(28*28,1), opt_func=SGD, loss_func=mnist_loss, metrics=batch_accuracy)"
   ]
  },
  {
   "cell_type": "code",
   "execution_count": null,
   "metadata": {
    "colab": {
     "base_uri": "https://localhost:8080/",
     "height": 357
    },
    "executionInfo": {
     "elapsed": 2943,
     "status": "ok",
     "timestamp": 1639339269168,
     "user": {
      "displayName": "Héctor",
      "photoUrl": "https://lh3.googleusercontent.com/a/default-user=s64",
      "userId": "16824592100163285665"
     },
     "user_tz": -60
    },
    "id": "6nWAx7HSOt53",
    "outputId": "91977db3-b917-4b46-ac32-c4a42b29c8d2"
   },
   "outputs": [
    {
     "data": {
      "text/html": [
       "<table border=\"1\" class=\"dataframe\">\n",
       "  <thead>\n",
       "    <tr style=\"text-align: left;\">\n",
       "      <th>epoch</th>\n",
       "      <th>train_loss</th>\n",
       "      <th>valid_loss</th>\n",
       "      <th>batch_accuracy</th>\n",
       "      <th>time</th>\n",
       "    </tr>\n",
       "  </thead>\n",
       "  <tbody>\n",
       "    <tr>\n",
       "      <td>0</td>\n",
       "      <td>0.637377</td>\n",
       "      <td>0.503456</td>\n",
       "      <td>0.495584</td>\n",
       "      <td>00:00</td>\n",
       "    </tr>\n",
       "    <tr>\n",
       "      <td>1</td>\n",
       "      <td>0.512337</td>\n",
       "      <td>0.201869</td>\n",
       "      <td>0.829735</td>\n",
       "      <td>00:00</td>\n",
       "    </tr>\n",
       "    <tr>\n",
       "      <td>2</td>\n",
       "      <td>0.188735</td>\n",
       "      <td>0.177663</td>\n",
       "      <td>0.841511</td>\n",
       "      <td>00:00</td>\n",
       "    </tr>\n",
       "    <tr>\n",
       "      <td>3</td>\n",
       "      <td>0.082979</td>\n",
       "      <td>0.105940</td>\n",
       "      <td>0.911187</td>\n",
       "      <td>00:00</td>\n",
       "    </tr>\n",
       "    <tr>\n",
       "      <td>4</td>\n",
       "      <td>0.044004</td>\n",
       "      <td>0.077522</td>\n",
       "      <td>0.933268</td>\n",
       "      <td>00:00</td>\n",
       "    </tr>\n",
       "    <tr>\n",
       "      <td>5</td>\n",
       "      <td>0.028774</td>\n",
       "      <td>0.062122</td>\n",
       "      <td>0.946025</td>\n",
       "      <td>00:00</td>\n",
       "    </tr>\n",
       "    <tr>\n",
       "      <td>6</td>\n",
       "      <td>0.022511</td>\n",
       "      <td>0.052536</td>\n",
       "      <td>0.954367</td>\n",
       "      <td>00:00</td>\n",
       "    </tr>\n",
       "    <tr>\n",
       "      <td>7</td>\n",
       "      <td>0.019730</td>\n",
       "      <td>0.046174</td>\n",
       "      <td>0.962218</td>\n",
       "      <td>00:00</td>\n",
       "    </tr>\n",
       "    <tr>\n",
       "      <td>8</td>\n",
       "      <td>0.018321</td>\n",
       "      <td>0.041711</td>\n",
       "      <td>0.965653</td>\n",
       "      <td>00:00</td>\n",
       "    </tr>\n",
       "    <tr>\n",
       "      <td>9</td>\n",
       "      <td>0.017474</td>\n",
       "      <td>0.038425</td>\n",
       "      <td>0.967125</td>\n",
       "      <td>00:00</td>\n",
       "    </tr>\n",
       "  </tbody>\n",
       "</table>"
      ],
      "text/plain": [
       "<IPython.core.display.HTML object>"
      ]
     },
     "metadata": {},
     "output_type": "display_data"
    }
   ],
   "source": [
    "learn.fit(10, lr=lr)"
   ]
  },
  {
   "cell_type": "markdown",
   "metadata": {
    "id": "KsCKwjljjk6-"
   },
   "source": [
    "### Ejercicio propuesto con las 10 categorías completas del dataset MNIST"
   ]
  },
  {
   "cell_type": "code",
   "execution_count": 6,
   "metadata": {
    "colab": {
     "base_uri": "https://localhost:8080/",
     "height": 37
    },
    "executionInfo": {
     "elapsed": 24048,
     "status": "ok",
     "timestamp": 1641238040878,
     "user": {
      "displayName": "Héctor",
      "photoUrl": "https://lh3.googleusercontent.com/a/default-user=s64",
      "userId": "16824592100163285665"
     },
     "user_tz": -60
    },
    "id": "rVbw6umsju05",
    "outputId": "e9bad879-7fb1-407c-e623-d75683c4ef01"
   },
   "outputs": [
    {
     "data": {
      "text/html": [
       "\n",
       "    <div>\n",
       "        <style>\n",
       "            /* Turns off some styling */\n",
       "            progress {\n",
       "                /* gets rid of default border in Firefox and Opera. */\n",
       "                border: none;\n",
       "                /* Needs to be in here for Safari polyfill so background images work as expected. */\n",
       "                background-size: auto;\n",
       "            }\n",
       "            .progress-bar-interrupted, .progress-bar-interrupted::-webkit-progress-bar {\n",
       "                background: #F44336;\n",
       "            }\n",
       "        </style>\n",
       "      <progress value='15687680' class='' max='15683414' style='width:300px; height:20px; vertical-align: middle;'></progress>\n",
       "      100.03% [15687680/15683414 00:02<00:00]\n",
       "    </div>\n",
       "    "
      ],
      "text/plain": [
       "<IPython.core.display.HTML object>"
      ]
     },
     "metadata": {},
     "output_type": "display_data"
    }
   ],
   "source": [
    "complete_path = untar_data(URLs.MNIST)"
   ]
  },
  {
   "cell_type": "code",
   "execution_count": null,
   "metadata": {
    "colab": {
     "base_uri": "https://localhost:8080/"
    },
    "executionInfo": {
     "elapsed": 309,
     "status": "ok",
     "timestamp": 1641125764978,
     "user": {
      "displayName": "Héctor",
      "photoUrl": "https://lh3.googleusercontent.com/a/default-user=s64",
      "userId": "16824592100163285665"
     },
     "user_tz": -60
    },
    "id": "P__O1jTSkD2k",
    "outputId": "fb149f63-6774-4902-b6f7-f7e514ab7174"
   },
   "outputs": [
    {
     "data": {
      "text/plain": [
       "(#1) [Path('/root/.fastai/data/mnist_png')]"
      ]
     },
     "execution_count": 47,
     "metadata": {},
     "output_type": "execute_result"
    }
   ],
   "source": [
    "L(complete_path)"
   ]
  },
  {
   "cell_type": "code",
   "execution_count": 7,
   "metadata": {
    "colab": {
     "base_uri": "https://localhost:8080/"
    },
    "executionInfo": {
     "elapsed": 526,
     "status": "ok",
     "timestamp": 1641238123008,
     "user": {
      "displayName": "Héctor",
      "photoUrl": "https://lh3.googleusercontent.com/a/default-user=s64",
      "userId": "16824592100163285665"
     },
     "user_tz": -60
    },
    "id": "lRAkzIZqkK0n",
    "outputId": "113aab4a-1d84-4e0e-8815-bfc3861cba9c"
   },
   "outputs": [
    {
     "data": {
      "text/plain": [
       "(Path('/root/.fastai/data/mnist_png/training'),\n",
       " Path('/root/.fastai/data/mnist_png/testing'))"
      ]
     },
     "execution_count": 7,
     "metadata": {},
     "output_type": "execute_result"
    }
   ],
   "source": [
    "train, test = complete_path.ls()\n",
    "train, test"
   ]
  },
  {
   "cell_type": "code",
   "execution_count": null,
   "metadata": {
    "colab": {
     "base_uri": "https://localhost:8080/"
    },
    "executionInfo": {
     "elapsed": 211,
     "status": "ok",
     "timestamp": 1641134562824,
     "user": {
      "displayName": "Héctor",
      "photoUrl": "https://lh3.googleusercontent.com/a/default-user=s64",
      "userId": "16824592100163285665"
     },
     "user_tz": -60
    },
    "id": "vTK1hzBqkvd0",
    "outputId": "87f4015c-604c-4c3b-f7f4-85eb94e1e6b0"
   },
   "outputs": [
    {
     "data": {
      "text/plain": [
       "Path('/root/.fastai/data/mnist_png/training/2')"
      ]
     },
     "execution_count": 148,
     "metadata": {},
     "output_type": "execute_result"
    }
   ],
   "source": [
    "train.ls()[0]"
   ]
  },
  {
   "cell_type": "code",
   "execution_count": 8,
   "metadata": {
    "executionInfo": {
     "elapsed": 22959,
     "status": "ok",
     "timestamp": 1641238151107,
     "user": {
      "displayName": "Héctor",
      "photoUrl": "https://lh3.googleusercontent.com/a/default-user=s64",
      "userId": "16824592100163285665"
     },
     "user_tz": -60
    },
    "id": "Akv7etsolSM1"
   },
   "outputs": [],
   "source": [
    "tensor_train_img_tuple, tensor_train_label_tuple = zip(*[(tensor(Image.open(_img)), tensor(int(_fold.name))) for _fold in train.ls() for _img in _fold.ls()])\n",
    "tensor_test_img_tuple, tensor_test_label_tuple = zip(*[(tensor(Image.open(_img)), tensor(int(_fold.name))) for _fold in test.ls() for _img in _fold.ls()])"
   ]
  },
  {
   "cell_type": "code",
   "execution_count": 9,
   "metadata": {
    "executionInfo": {
     "elapsed": 538,
     "status": "ok",
     "timestamp": 1641238156517,
     "user": {
      "displayName": "Héctor",
      "photoUrl": "https://lh3.googleusercontent.com/a/default-user=s64",
      "userId": "16824592100163285665"
     },
     "user_tz": -60
    },
    "id": "Ylv6rfBj43JV"
   },
   "outputs": [],
   "source": [
    "train_tensor = torch.stack(tensor_train_img_tuple).float()/255\n",
    "test_tensor = torch.stack(tensor_test_img_tuple).float()/255"
   ]
  },
  {
   "cell_type": "code",
   "execution_count": null,
   "metadata": {
    "colab": {
     "base_uri": "https://localhost:8080/"
    },
    "executionInfo": {
     "elapsed": 5,
     "status": "ok",
     "timestamp": 1641134594727,
     "user": {
      "displayName": "Héctor",
      "photoUrl": "https://lh3.googleusercontent.com/a/default-user=s64",
      "userId": "16824592100163285665"
     },
     "user_tz": -60
    },
    "id": "Au1g1IScut8u",
    "outputId": "85de6f84-45a9-4004-ed49-5a6508ec1d7d"
   },
   "outputs": [
    {
     "data": {
      "text/plain": [
       "torch.Size([60000, 28, 28])"
      ]
     },
     "execution_count": 151,
     "metadata": {},
     "output_type": "execute_result"
    }
   ],
   "source": [
    "train_tensor.shape"
   ]
  },
  {
   "cell_type": "code",
   "execution_count": 10,
   "metadata": {
    "executionInfo": {
     "elapsed": 395,
     "status": "ok",
     "timestamp": 1641238162745,
     "user": {
      "displayName": "Héctor",
      "photoUrl": "https://lh3.googleusercontent.com/a/default-user=s64",
      "userId": "16824592100163285665"
     },
     "user_tz": -60
    },
    "id": "E2JcwL3t68yI"
   },
   "outputs": [],
   "source": [
    "train_tensor = train_tensor.view(-1, 28*28)\n",
    "test_tensor = test_tensor.view(-1, 28*28)"
   ]
  },
  {
   "cell_type": "code",
   "execution_count": 52,
   "metadata": {
    "colab": {
     "base_uri": "https://localhost:8080/"
    },
    "executionInfo": {
     "elapsed": 461,
     "status": "ok",
     "timestamp": 1641221707527,
     "user": {
      "displayName": "Héctor",
      "photoUrl": "https://lh3.googleusercontent.com/a/default-user=s64",
      "userId": "16824592100163285665"
     },
     "user_tz": -60
    },
    "id": "NLlJviSU8nD2",
    "outputId": "0b765b88-9835-45fe-8542-af2facc86197"
   },
   "outputs": [
    {
     "data": {
      "text/plain": [
       "(torch.Size([60000, 784]), torch.Size([10000, 784]))"
      ]
     },
     "execution_count": 52,
     "metadata": {},
     "output_type": "execute_result"
    }
   ],
   "source": [
    "train_tensor.shape, test_tensor.shape"
   ]
  },
  {
   "cell_type": "code",
   "execution_count": 11,
   "metadata": {
    "executionInfo": {
     "elapsed": 509,
     "status": "ok",
     "timestamp": 1641238175446,
     "user": {
      "displayName": "Héctor",
      "photoUrl": "https://lh3.googleusercontent.com/a/default-user=s64",
      "userId": "16824592100163285665"
     },
     "user_tz": -60
    },
    "id": "7CTT8ASvcACM"
   },
   "outputs": [],
   "source": [
    "#label_train_tensor = torch.stack(tensor_train_label_tuple).unsqueeze(1)\n",
    "#label_test_tensor = torch.stack(tensor_test_label_tuple).unsqueeze(1)\n",
    "label_train_tensor = torch.stack(tensor_train_label_tuple)\n",
    "label_test_tensor = torch.stack(tensor_test_label_tuple)"
   ]
  },
  {
   "cell_type": "code",
   "execution_count": 10,
   "metadata": {
    "colab": {
     "base_uri": "https://localhost:8080/"
    },
    "executionInfo": {
     "elapsed": 279,
     "status": "ok",
     "timestamp": 1641229837982,
     "user": {
      "displayName": "Héctor",
      "photoUrl": "https://lh3.googleusercontent.com/a/default-user=s64",
      "userId": "16824592100163285665"
     },
     "user_tz": -60
    },
    "id": "S7TY1dGM9Cwk",
    "outputId": "06cac712-4db6-4372-903d-2bd7b83e0813"
   },
   "outputs": [
    {
     "data": {
      "text/plain": [
       "(torch.Size([60000]), torch.Size([10000]))"
      ]
     },
     "execution_count": 10,
     "metadata": {},
     "output_type": "execute_result"
    }
   ],
   "source": [
    "label_train_tensor.shape, label_test_tensor.shape"
   ]
  },
  {
   "cell_type": "code",
   "execution_count": 12,
   "metadata": {
    "executionInfo": {
     "elapsed": 466,
     "status": "ok",
     "timestamp": 1641238183110,
     "user": {
      "displayName": "Héctor",
      "photoUrl": "https://lh3.googleusercontent.com/a/default-user=s64",
      "userId": "16824592100163285665"
     },
     "user_tz": -60
    },
    "id": "4ZXIBY1W-bin"
   },
   "outputs": [],
   "source": [
    "train_dataset = list(zip(train_tensor, label_train_tensor))\n",
    "test_dataset = list(zip(test_tensor, label_test_tensor))"
   ]
  },
  {
   "cell_type": "code",
   "execution_count": null,
   "metadata": {
    "colab": {
     "base_uri": "https://localhost:8080/"
    },
    "executionInfo": {
     "elapsed": 203,
     "status": "ok",
     "timestamp": 1641134615728,
     "user": {
      "displayName": "Héctor",
      "photoUrl": "https://lh3.googleusercontent.com/a/default-user=s64",
      "userId": "16824592100163285665"
     },
     "user_tz": -60
    },
    "id": "PFwlHf3t-1C2",
    "outputId": "91097636-f846-498e-f4a1-2e5efa8c4a56"
   },
   "outputs": [
    {
     "data": {
      "text/plain": [
       "(60000, 10000)"
      ]
     },
     "execution_count": 157,
     "metadata": {},
     "output_type": "execute_result"
    }
   ],
   "source": [
    "len(train_dataset), len(test_dataset)"
   ]
  },
  {
   "cell_type": "code",
   "execution_count": 13,
   "metadata": {
    "executionInfo": {
     "elapsed": 495,
     "status": "ok",
     "timestamp": 1641238188231,
     "user": {
      "displayName": "Héctor",
      "photoUrl": "https://lh3.googleusercontent.com/a/default-user=s64",
      "userId": "16824592100163285665"
     },
     "user_tz": -60
    },
    "id": "4Kb8177L_RVs"
   },
   "outputs": [],
   "source": [
    "train_dl = DataLoader(train_dataset, batch_size=256)\n",
    "test_dl = DataLoader(test_dataset, batch_size=256)"
   ]
  },
  {
   "cell_type": "code",
   "execution_count": 14,
   "metadata": {
    "executionInfo": {
     "elapsed": 11,
     "status": "ok",
     "timestamp": 1641238190994,
     "user": {
      "displayName": "Héctor",
      "photoUrl": "https://lh3.googleusercontent.com/a/default-user=s64",
      "userId": "16824592100163285665"
     },
     "user_tz": -60
    },
    "id": "DfSI9ZPcAW7v"
   },
   "outputs": [],
   "source": [
    "dls = DataLoaders(train_dl, test_dl)"
   ]
  },
  {
   "cell_type": "code",
   "execution_count": 15,
   "metadata": {
    "executionInfo": {
     "elapsed": 588,
     "status": "ok",
     "timestamp": 1641238206530,
     "user": {
      "displayName": "Héctor",
      "photoUrl": "https://lh3.googleusercontent.com/a/default-user=s64",
      "userId": "16824592100163285665"
     },
     "user_tz": -60
    },
    "id": "NNZk3cMoBQw6"
   },
   "outputs": [],
   "source": [
    "def mnist_loss(predictions, targets):\n",
    "    predictions = torch.softmax(predictions, dim=1)\n",
    "    predictions = torch.log(predictions)\n",
    "    return F.nll_loss(predictions, targets, reduction='none').mean()"
   ]
  },
  {
   "cell_type": "code",
   "execution_count": 16,
   "metadata": {
    "executionInfo": {
     "elapsed": 13,
     "status": "ok",
     "timestamp": 1641238207093,
     "user": {
      "displayName": "Héctor",
      "photoUrl": "https://lh3.googleusercontent.com/a/default-user=s64",
      "userId": "16824592100163285665"
     },
     "user_tz": -60
    },
    "id": "t226oG-LCNFj"
   },
   "outputs": [],
   "source": [
    "def batch_accuracy(xb,yb):\n",
    "    xb = torch.softmax(xb, dim=1)\n",
    "    correct = torch.max(xb, 1).indices == yb\n",
    "    return correct.float().mean()"
   ]
  },
  {
   "cell_type": "code",
   "execution_count": 41,
   "metadata": {
    "executionInfo": {
     "elapsed": 367,
     "status": "ok",
     "timestamp": 1641239850531,
     "user": {
      "displayName": "Héctor",
      "photoUrl": "https://lh3.googleusercontent.com/a/default-user=s64",
      "userId": "16824592100163285665"
     },
     "user_tz": -60
    },
    "id": "gDdTU6-d6Ulr"
   },
   "outputs": [],
   "source": [
    "learn = Learner(dls, nn.Linear(28*28,10), loss_func=mnist_loss, opt_func=SGD, metrics=batch_accuracy)"
   ]
  },
  {
   "cell_type": "code",
   "execution_count": 42,
   "metadata": {
    "colab": {
     "base_uri": "https://localhost:8080/",
     "height": 677
    },
    "executionInfo": {
     "elapsed": 18114,
     "status": "ok",
     "timestamp": 1641239893446,
     "user": {
      "displayName": "Héctor",
      "photoUrl": "https://lh3.googleusercontent.com/a/default-user=s64",
      "userId": "16824592100163285665"
     },
     "user_tz": -60
    },
    "id": "NOcTmeC8hLnb",
    "outputId": "8b929cbb-ed10-4e71-bff6-9d89466ca2dd"
   },
   "outputs": [
    {
     "data": {
      "text/html": [
       "<table border=\"1\" class=\"dataframe\">\n",
       "  <thead>\n",
       "    <tr style=\"text-align: left;\">\n",
       "      <th>epoch</th>\n",
       "      <th>train_loss</th>\n",
       "      <th>valid_loss</th>\n",
       "      <th>batch_accuracy</th>\n",
       "      <th>time</th>\n",
       "    </tr>\n",
       "  </thead>\n",
       "  <tbody>\n",
       "    <tr>\n",
       "      <td>0</td>\n",
       "      <td>1.047896</td>\n",
       "      <td>2.401201</td>\n",
       "      <td>0.205000</td>\n",
       "      <td>00:00</td>\n",
       "    </tr>\n",
       "    <tr>\n",
       "      <td>1</td>\n",
       "      <td>0.724286</td>\n",
       "      <td>1.761202</td>\n",
       "      <td>0.360800</td>\n",
       "      <td>00:00</td>\n",
       "    </tr>\n",
       "    <tr>\n",
       "      <td>2</td>\n",
       "      <td>0.609173</td>\n",
       "      <td>1.395130</td>\n",
       "      <td>0.502800</td>\n",
       "      <td>00:00</td>\n",
       "    </tr>\n",
       "    <tr>\n",
       "      <td>3</td>\n",
       "      <td>0.549133</td>\n",
       "      <td>1.173408</td>\n",
       "      <td>0.580300</td>\n",
       "      <td>00:00</td>\n",
       "    </tr>\n",
       "    <tr>\n",
       "      <td>4</td>\n",
       "      <td>0.511823</td>\n",
       "      <td>1.026015</td>\n",
       "      <td>0.630800</td>\n",
       "      <td>00:00</td>\n",
       "    </tr>\n",
       "    <tr>\n",
       "      <td>5</td>\n",
       "      <td>0.485885</td>\n",
       "      <td>0.921183</td>\n",
       "      <td>0.666400</td>\n",
       "      <td>00:00</td>\n",
       "    </tr>\n",
       "    <tr>\n",
       "      <td>6</td>\n",
       "      <td>0.466462</td>\n",
       "      <td>0.842884</td>\n",
       "      <td>0.693900</td>\n",
       "      <td>00:00</td>\n",
       "    </tr>\n",
       "    <tr>\n",
       "      <td>7</td>\n",
       "      <td>0.451156</td>\n",
       "      <td>0.782229</td>\n",
       "      <td>0.720600</td>\n",
       "      <td>00:00</td>\n",
       "    </tr>\n",
       "    <tr>\n",
       "      <td>8</td>\n",
       "      <td>0.438651</td>\n",
       "      <td>0.733898</td>\n",
       "      <td>0.740100</td>\n",
       "      <td>00:00</td>\n",
       "    </tr>\n",
       "    <tr>\n",
       "      <td>9</td>\n",
       "      <td>0.428161</td>\n",
       "      <td>0.694511</td>\n",
       "      <td>0.759400</td>\n",
       "      <td>00:00</td>\n",
       "    </tr>\n",
       "    <tr>\n",
       "      <td>10</td>\n",
       "      <td>0.419180</td>\n",
       "      <td>0.661814</td>\n",
       "      <td>0.773700</td>\n",
       "      <td>00:00</td>\n",
       "    </tr>\n",
       "    <tr>\n",
       "      <td>11</td>\n",
       "      <td>0.411370</td>\n",
       "      <td>0.634247</td>\n",
       "      <td>0.788500</td>\n",
       "      <td>00:00</td>\n",
       "    </tr>\n",
       "    <tr>\n",
       "      <td>12</td>\n",
       "      <td>0.404490</td>\n",
       "      <td>0.610697</td>\n",
       "      <td>0.797400</td>\n",
       "      <td>00:00</td>\n",
       "    </tr>\n",
       "    <tr>\n",
       "      <td>13</td>\n",
       "      <td>0.398365</td>\n",
       "      <td>0.590347</td>\n",
       "      <td>0.805300</td>\n",
       "      <td>00:00</td>\n",
       "    </tr>\n",
       "    <tr>\n",
       "      <td>14</td>\n",
       "      <td>0.392864</td>\n",
       "      <td>0.572586</td>\n",
       "      <td>0.812900</td>\n",
       "      <td>00:00</td>\n",
       "    </tr>\n",
       "    <tr>\n",
       "      <td>15</td>\n",
       "      <td>0.387885</td>\n",
       "      <td>0.556949</td>\n",
       "      <td>0.820000</td>\n",
       "      <td>00:00</td>\n",
       "    </tr>\n",
       "    <tr>\n",
       "      <td>16</td>\n",
       "      <td>0.383348</td>\n",
       "      <td>0.543074</td>\n",
       "      <td>0.826100</td>\n",
       "      <td>00:00</td>\n",
       "    </tr>\n",
       "    <tr>\n",
       "      <td>17</td>\n",
       "      <td>0.379192</td>\n",
       "      <td>0.530675</td>\n",
       "      <td>0.831400</td>\n",
       "      <td>00:00</td>\n",
       "    </tr>\n",
       "    <tr>\n",
       "      <td>18</td>\n",
       "      <td>0.375363</td>\n",
       "      <td>0.519527</td>\n",
       "      <td>0.836000</td>\n",
       "      <td>00:00</td>\n",
       "    </tr>\n",
       "    <tr>\n",
       "      <td>19</td>\n",
       "      <td>0.371822</td>\n",
       "      <td>0.509446</td>\n",
       "      <td>0.840100</td>\n",
       "      <td>00:00</td>\n",
       "    </tr>\n",
       "  </tbody>\n",
       "</table>"
      ],
      "text/plain": [
       "<IPython.core.display.HTML object>"
      ]
     },
     "metadata": {},
     "output_type": "display_data"
    }
   ],
   "source": [
    "learn.fit(20, lr=0.01)"
   ]
  },
  {
   "cell_type": "code",
   "execution_count": 34,
   "metadata": {
    "colab": {
     "base_uri": "https://localhost:8080/",
     "height": 677
    },
    "executionInfo": {
     "elapsed": 22323,
     "status": "ok",
     "timestamp": 1641239573219,
     "user": {
      "displayName": "Héctor",
      "photoUrl": "https://lh3.googleusercontent.com/a/default-user=s64",
      "userId": "16824592100163285665"
     },
     "user_tz": -60
    },
    "id": "6FWY32ENeOqq",
    "outputId": "cf3dbf67-1a94-40fb-857a-31fc3cdb8487"
   },
   "outputs": [
    {
     "data": {
      "text/html": [
       "<table border=\"1\" class=\"dataframe\">\n",
       "  <thead>\n",
       "    <tr style=\"text-align: left;\">\n",
       "      <th>epoch</th>\n",
       "      <th>train_loss</th>\n",
       "      <th>valid_loss</th>\n",
       "      <th>batch_accuracy</th>\n",
       "      <th>time</th>\n",
       "    </tr>\n",
       "  </thead>\n",
       "  <tbody>\n",
       "    <tr>\n",
       "      <td>0</td>\n",
       "      <td>2.148842</td>\n",
       "      <td>2.152370</td>\n",
       "      <td>0.222400</td>\n",
       "      <td>00:02</td>\n",
       "    </tr>\n",
       "    <tr>\n",
       "      <td>1</td>\n",
       "      <td>1.562278</td>\n",
       "      <td>2.045404</td>\n",
       "      <td>0.217200</td>\n",
       "      <td>00:01</td>\n",
       "    </tr>\n",
       "    <tr>\n",
       "      <td>2</td>\n",
       "      <td>1.015907</td>\n",
       "      <td>1.860422</td>\n",
       "      <td>0.311300</td>\n",
       "      <td>00:01</td>\n",
       "    </tr>\n",
       "    <tr>\n",
       "      <td>3</td>\n",
       "      <td>0.718570</td>\n",
       "      <td>1.599154</td>\n",
       "      <td>0.402600</td>\n",
       "      <td>00:01</td>\n",
       "    </tr>\n",
       "    <tr>\n",
       "      <td>4</td>\n",
       "      <td>0.591519</td>\n",
       "      <td>1.346759</td>\n",
       "      <td>0.516500</td>\n",
       "      <td>00:01</td>\n",
       "    </tr>\n",
       "    <tr>\n",
       "      <td>5</td>\n",
       "      <td>0.541971</td>\n",
       "      <td>1.138895</td>\n",
       "      <td>0.594100</td>\n",
       "      <td>00:01</td>\n",
       "    </tr>\n",
       "    <tr>\n",
       "      <td>6</td>\n",
       "      <td>0.515048</td>\n",
       "      <td>0.990797</td>\n",
       "      <td>0.644000</td>\n",
       "      <td>00:01</td>\n",
       "    </tr>\n",
       "    <tr>\n",
       "      <td>7</td>\n",
       "      <td>0.501168</td>\n",
       "      <td>0.877402</td>\n",
       "      <td>0.681200</td>\n",
       "      <td>00:01</td>\n",
       "    </tr>\n",
       "    <tr>\n",
       "      <td>8</td>\n",
       "      <td>0.495741</td>\n",
       "      <td>0.786341</td>\n",
       "      <td>0.721100</td>\n",
       "      <td>00:01</td>\n",
       "    </tr>\n",
       "    <tr>\n",
       "      <td>9</td>\n",
       "      <td>0.496167</td>\n",
       "      <td>0.711321</td>\n",
       "      <td>0.758200</td>\n",
       "      <td>00:01</td>\n",
       "    </tr>\n",
       "    <tr>\n",
       "      <td>10</td>\n",
       "      <td>0.500614</td>\n",
       "      <td>0.649179</td>\n",
       "      <td>0.790300</td>\n",
       "      <td>00:01</td>\n",
       "    </tr>\n",
       "    <tr>\n",
       "      <td>11</td>\n",
       "      <td>0.507451</td>\n",
       "      <td>0.598436</td>\n",
       "      <td>0.820200</td>\n",
       "      <td>00:01</td>\n",
       "    </tr>\n",
       "    <tr>\n",
       "      <td>12</td>\n",
       "      <td>0.514983</td>\n",
       "      <td>0.558405</td>\n",
       "      <td>0.842300</td>\n",
       "      <td>00:01</td>\n",
       "    </tr>\n",
       "    <tr>\n",
       "      <td>13</td>\n",
       "      <td>0.521471</td>\n",
       "      <td>0.528512</td>\n",
       "      <td>0.857300</td>\n",
       "      <td>00:01</td>\n",
       "    </tr>\n",
       "    <tr>\n",
       "      <td>14</td>\n",
       "      <td>0.525498</td>\n",
       "      <td>0.507790</td>\n",
       "      <td>0.869900</td>\n",
       "      <td>00:01</td>\n",
       "    </tr>\n",
       "    <tr>\n",
       "      <td>15</td>\n",
       "      <td>0.526499</td>\n",
       "      <td>0.494700</td>\n",
       "      <td>0.873900</td>\n",
       "      <td>00:01</td>\n",
       "    </tr>\n",
       "    <tr>\n",
       "      <td>16</td>\n",
       "      <td>0.524962</td>\n",
       "      <td>0.487340</td>\n",
       "      <td>0.876100</td>\n",
       "      <td>00:01</td>\n",
       "    </tr>\n",
       "    <tr>\n",
       "      <td>17</td>\n",
       "      <td>0.522024</td>\n",
       "      <td>0.483823</td>\n",
       "      <td>0.877900</td>\n",
       "      <td>00:01</td>\n",
       "    </tr>\n",
       "    <tr>\n",
       "      <td>18</td>\n",
       "      <td>0.518842</td>\n",
       "      <td>0.482558</td>\n",
       "      <td>0.878900</td>\n",
       "      <td>00:01</td>\n",
       "    </tr>\n",
       "    <tr>\n",
       "      <td>19</td>\n",
       "      <td>0.516235</td>\n",
       "      <td>0.482354</td>\n",
       "      <td>0.879100</td>\n",
       "      <td>00:01</td>\n",
       "    </tr>\n",
       "  </tbody>\n",
       "</table>"
      ],
      "text/plain": [
       "<IPython.core.display.HTML object>"
      ]
     },
     "metadata": {},
     "output_type": "display_data"
    }
   ],
   "source": [
    "# Buenos resultados con un modelo muy simple (lineal).\n",
    "# Se prueba enfoque de learning rate cíclico y mejora la accuracy en un 4%\n",
    "learn.fit_one_cycle(20, lr_max=slice(0.001,0.01))"
   ]
  },
  {
   "cell_type": "code",
   "execution_count": 43,
   "metadata": {
    "colab": {
     "base_uri": "https://localhost:8080/",
     "height": 269
    },
    "executionInfo": {
     "elapsed": 487,
     "status": "ok",
     "timestamp": 1641239919151,
     "user": {
      "displayName": "Héctor",
      "photoUrl": "https://lh3.googleusercontent.com/a/default-user=s64",
      "userId": "16824592100163285665"
     },
     "user_tz": -60
    },
    "id": "3wNZsyAy9mb3",
    "outputId": "3a9b37ba-346d-4079-ec25-0a21b0883918"
   },
   "outputs": [
    {
     "data": {
      "image/png": "[encoded data removed]",
      "text/plain": [
       "<Figure size 432x288 with 1 Axes>"
      ]
     },
     "metadata": {
      "needs_background": "light"
     },
     "output_type": "display_data"
    }
   ],
   "source": [
    "learn.recorder.plot_loss()"
   ]
  },
  {
   "cell_type": "code",
   "execution_count": 1,
   "metadata": {},
   "outputs": [],
   "source": [
    "# ¿Se ha alcanzado la capacidad máx. del modelo?\n",
    "# Posibilidad de aumentar el número de épocas\n",
    "# Cambiar modelo por otro más complejo"
   ]
  },
  {
   "cell_type": "code",
   "execution_count": null,
   "metadata": {},
   "outputs": [],
   "source": []
  }
 ],
 "metadata": {
  "accelerator": "GPU",
  "colab": {
   "authorship_tag": "ABX9TyOsq61nOmsK8FhoE6tXtsWf",
   "collapsed_sections": [
    "bnfwdbJUwiy6"
   ],
   "name": "Copia de Chapter4_fastaibook.ipynb",
   "provenance": []
  },
  "kernelspec": {
   "display_name": "Python 3 (ipykernel)",
   "language": "python",
   "name": "python3"
  },
  "language_info": {
   "codemirror_mode": {
    "name": "ipython",
    "version": 3
   },
   "file_extension": ".py",
   "mimetype": "text/x-python",
   "name": "python",
   "nbconvert_exporter": "python",
   "pygments_lexer": "ipython3",
   "version": "3.7.11"
  },
  "widgets": {
   "application/vnd.jupyter.widget-state+json": {
    "15d239eca605407b866e7027f66acfa6": {
     "model_module": "@jupyter-widgets/controls",
     "model_module_version": "1.5.0",
     "model_name": "ButtonStyleModel",
     "state": {
      "_model_module": "@jupyter-widgets/controls",
      "_model_module_version": "1.5.0",
      "_model_name": "ButtonStyleModel",
      "_view_count": null,
      "_view_module": "@jupyter-widgets/base",
      "_view_module_version": "1.2.0",
      "_view_name": "StyleView",
      "button_color": null,
      "font_weight": ""
     }
    },
    "4e23828c4fc449ee8a3236018e8bd1e2": {
     "model_module": "@jupyter-widgets/base",
     "model_module_version": "1.2.0",
     "model_name": "LayoutModel",
     "state": {
      "_model_module": "@jupyter-widgets/base",
      "_model_module_version": "1.2.0",
      "_model_name": "LayoutModel",
      "_view_count": null,
      "_view_module": "@jupyter-widgets/base",
      "_view_module_version": "1.2.0",
      "_view_name": "LayoutView",
      "align_content": null,
      "align_items": null,
      "align_self": null,
      "border": null,
      "bottom": null,
      "display": null,
      "flex": null,
      "flex_flow": null,
      "grid_area": null,
      "grid_auto_columns": null,
      "grid_auto_flow": null,
      "grid_auto_rows": null,
      "grid_column": null,
      "grid_gap": null,
      "grid_row": null,
      "grid_template_areas": null,
      "grid_template_columns": null,
      "grid_template_rows": null,
      "height": null,
      "justify_content": null,
      "justify_items": null,
      "left": null,
      "margin": null,
      "max_height": null,
      "max_width": null,
      "min_height": null,
      "min_width": null,
      "object_fit": null,
      "object_position": null,
      "order": null,
      "overflow": null,
      "overflow_x": null,
      "overflow_y": null,
      "padding": null,
      "right": null,
      "top": null,
      "visibility": null,
      "width": null
     }
    },
    "90dd352e693a4cfeae8f901ead51146b": {
     "model_module": "@jupyter-widgets/controls",
     "model_module_version": "1.5.0",
     "model_name": "FileUploadModel",
     "state": {
      "_counter": 0,
      "_dom_classes": [],
      "_model_module": "@jupyter-widgets/controls",
      "_model_module_version": "1.5.0",
      "_model_name": "FileUploadModel",
      "_view_count": null,
      "_view_module": "@jupyter-widgets/controls",
      "_view_module_version": "1.5.0",
      "_view_name": "FileUploadView",
      "accept": "",
      "button_style": "",
      "data": [],
      "description": "Upload",
      "description_tooltip": null,
      "disabled": false,
      "error": "",
      "icon": "upload",
      "layout": "IPY_MODEL_4e23828c4fc449ee8a3236018e8bd1e2",
      "metadata": [],
      "multiple": false,
      "style": "IPY_MODEL_15d239eca605407b866e7027f66acfa6"
     }
    }
   }
  }
 },
 "nbformat": 4,
 "nbformat_minor": 1
}
